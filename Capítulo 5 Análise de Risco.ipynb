{
 "cells": [
  {
   "cell_type": "markdown",
   "id": "f0ca3ea6",
   "metadata": {},
   "source": [
    "## **Capítulo 5: Análise de Risco**\n",
    "\n",
    "Neste capítulo, vamos além das métricas simples de retorno e volatilidade. O objetivo é entender o que fazer com os dados de retorno para realizar uma análise de risco mais profunda, comparando diferentes ativos e quantificando perdas potenciais. Vamos ver que, em geral, para obter maiores retornos, devemos estar dispostos a assumir mais riscos."
   ]
  },
  {
   "cell_type": "markdown",
   "id": "34e30452",
   "metadata": {},
   "source": [
    "### **5.1 Análise Visual dos Retornos**\n",
    "\n",
    "Um ponto fundamental na análise de qualquer ativo financeiro é a observação dos dados. Vamos começar baixando uma série de preços mais longa do IBOVESPA e visualizar a diferença entre a série de **preços** e a série de **retornos**.\n",
    "\n",
    "* A série de **preços** geralmente apresenta **tendências** (de alta ou de baixa).\n",
    "* A série de **retornos**, por outro lado, tende a ser **estacionária**, ou seja, oscila em torno de uma média próxima de zero, sem uma tendência clara."
   ]
  },
  {
   "cell_type": "code",
   "execution_count": null,
   "id": "b0dfa807",
   "metadata": {},
   "outputs": [],
   "source": [
    "import yfinance as yf\n",
    "import pandas as pd\n",
    "import numpy as np\n",
    "import matplotlib.pyplot as plt\n",
    "\n",
    "# Vamos baixar 10 anos de dados do IBOVESPA\n",
    "ibov = yf.download('^BVSP', start='2014-01-01', end='2023-12-31', auto_adjust=True)\n",
    "\n",
    "# --- Gráfico 1: Série de Preços ---\n",
    "ibov['Close'].plot(figsize=(12, 6), title='Série de Preços do IBOVESPA (com tendência)')\n",
    "plt.ylabel('Pontos')\n",
    "plt.grid(True)\n",
    "plt.show()\n",
    "\n",
    "\n",
    "# --- Gráfico 2: Série de Retornos ---\n",
    "# Calculando os retornos logarítmicos\n",
    "ibov['retorno_log'] = np.log(ibov['Close']).diff()\n",
    "\n",
    "# Plotando a série de retornos\n",
    "ibov['retorno_log'].plot(figsize=(12, 6), title='Série de Retornos do IBOVESPA (estacionária, oscila em torno de zero)')\n",
    "plt.ylabel('Retorno Logarítmico')\n",
    "plt.grid(True)\n",
    "plt.show()"
   ]
  },
  {
   "cell_type": "markdown",
   "id": "984c6907",
   "metadata": {},
   "source": [
    "### **5.2.1 Análise Estatística: Medidas Descritivas**\n",
    "\n",
    "Além da análise visual, usamos medidas estatísticas para descrever e quantificar o comportamento da série de retornos. Além de média, mediana e desvio padrão, duas medidas de \"forma\" são muito importantes:\n",
    "\n",
    "* **Assimetria (Skewness):** Mede a simetria da distribuição dos retornos.\n",
    "    * `skew > 0` (Positiva): A cauda direita é mais longa. Indica que houve ocorrências de ganhos extremos mais frequentes que perdas extremas.\n",
    "    * `skew < 0` (Negativa): A cauda esquerda é mais longa. Indica que perdas extremas foram mais frequentes que ganhos extremos.\n",
    "\n",
    "* **Curtose (Kurtosis):** Mede o \"peso\" das caudas da distribuição, ou seja, a probabilidade de ocorrerem eventos extremos (tanto positivos quanto negativos).\n",
    "    * Uma distribuição Normal tem curtose de 3.\n",
    "    * `kurtosis > 3`: Chamada de \"leptocúrtica\" ou \"caudas pesadas\". Significa que eventos extremos são **mais prováveis** de acontecer do que em uma distribuição Normal. Retornos de ativos financeiros tipicamente apresentam essa característica."
   ]
  },
  {
   "cell_type": "code",
   "execution_count": null,
   "id": "2eebff0d",
   "metadata": {},
   "outputs": [],
   "source": [
    "# Vamos usar a série de retornos do IBOV que já calculamos\n",
    "retornos_ibov = ibov['retorno_log'].dropna()\n",
    "\n",
    "# Medidas já conhecidas\n",
    "media = retornos_ibov.mean()\n",
    "mediana = retornos_ibov.median()\n",
    "desvio_padrao = retornos_ibov.std()\n",
    "minimo = retornos_ibov.min()\n",
    "maximo = retornos_ibov.max()\n",
    "\n",
    "# Novas medidas: Assimetria e Curtose\n",
    "assimetria = retornos_ibov.skew()\n",
    "curtose = retornos_ibov.kurt() + 3 # O Pandas calcula o \"excesso\" de curtose, então somamos 3 para comparar com a Normal\n",
    "\n",
    "print(\"--- Estatísticas Descritivas dos Retornos do IBOV ---\")\n",
    "print(f\"Média: {media:.5%}\")\n",
    "print(f\"Desvio Padrão (Volatilidade): {desvio_padrao:.5%}\")\n",
    "print(f\"Assimetria (Skewness): {assimetria:.4f}\")\n",
    "print(f\"Curtose (Kurtosis): {curtose:.4f}\")\n",
    "\n",
    "if curtose > 3:\n",
    "    print(\"\\nConclusão: A distribuição tem caudas pesadas (leptocúrtica), o que é típico para retornos de ativos financeiros.\")"
   ]
  },
  {
   "cell_type": "markdown",
   "id": "ccf4939a",
   "metadata": {},
   "source": [
    "### **5.2.2 Visualizando a Distribuição: Histograma**\n",
    "\n",
    "Um histograma é a melhor forma de visualizar a distribuição dos retornos que acabamos de descrever com as estatísticas. Ele nos mostra quais faixas de retorno são mais frequentes.\n",
    "\n",
    "Para enriquecer a análise, podemos sobrepor uma **curva de distribuição Normal** teórica no gráfico. Isso nos permite ver visualmente o quão bem (ou mal) os retornos do nosso ativo se encaixam em uma distribuição Normal. Como vimos na estatística de Curtose, os retornos de ativos geralmente têm \"caudas mais pesadas\", e o histograma deixa isso claro."
   ]
  },
  {
   "cell_type": "code",
   "execution_count": null,
   "id": "2c75c2bc",
   "metadata": {},
   "outputs": [],
   "source": [
    "import seaborn as sns\n",
    "import matplotlib.pyplot as plt\n",
    "from scipy.stats import norm\n",
    "\n",
    "\n",
    "# Usando a série de retornos do IBOV que já calculamos e limpamos\n",
    "retornos_ibov = ibov['retorno_log'].dropna()\n",
    "\n",
    "# --- Plotando o Histograma com a Curva de Densidade dos Dados (KDE) ---\n",
    "plt.figure(figsize=(12, 6))\n",
    "sns.histplot(retornos_ibov, bins=100, kde=True, stat='density', label='Histograma dos Retornos')\n",
    "\n",
    "# --- Sobrepondo a Curva de Distribuição Normal Teórica ---\n",
    "# Calculamos a média e o desvio padrão dos nossos dados\n",
    "mu, std = retornos_ibov.mean(), retornos_ibov.std()\n",
    "\n",
    "# Geramos uma série de pontos para a curva x\n",
    "xmin, xmax = plt.xlim()\n",
    "x = np.linspace(xmin, xmax, 100)\n",
    "\n",
    "# Calculamos a densidade de probabilidade (PDF) da normal para esses pontos\n",
    "p = norm.pdf(x, mu, std)\n",
    "\n",
    "# Plotamos a curva normal teórica em vermelho\n",
    "plt.plot(x, p, linewidth=2, color='red', label='Curva Normal Teórica')\n",
    "\n",
    "plt.title('Distribuição dos Retornos do IBOV vs. Distribuição Normal')\n",
    "plt.legend()\n",
    "plt.show()"
   ]
  },
  {
   "cell_type": "markdown",
   "id": "e38d559c",
   "metadata": {},
   "source": [
    "### **5.3.1 Medida de Risco: Value at Risk (VaR)**\n",
    "\n",
    "O **Value at Risk (VaR)** é uma das medidas de risco mais famosas do mercado financeiro. Ele busca responder à pergunta:\n",
    "\n",
    "> \"Qual é a **perda máxima esperada** (em % ou em R$) em um determinado período, com um determinado nível de confiança?\"\n",
    "\n",
    "Por exemplo, um \"VaR de 95% para 1 dia\" de R$1.000,00 significa que temos 95% de confiança de que nossa perda em um dia não será maior que R$1.000,00. Ou, visto de outra forma, há uma probabilidade de 5% de que a perda seja *pior* que R$1.000,00.\n",
    "\n",
    "O método mais simples para calcular o VaR é o **paramétrico**, que assume que os retornos seguem uma distribuição Normal."
   ]
  },
  {
   "cell_type": "code",
   "execution_count": null,
   "id": "84b57a84",
   "metadata": {},
   "outputs": [],
   "source": [
    "from scipy.stats import norm\n",
    "\n",
    "# Parâmetros para o cálculo\n",
    "nivel_confianca = 0.95\n",
    "investimento = 1_000_000  # Investimento de R$1.000.000,00\n",
    "\n",
    "# Usando a média (mu) e desvio padrão (std) dos retornos diários que já calculamos\n",
    "mu = retornos_ibov.mean()\n",
    "std = retornos_ibov.std()\n",
    "\n",
    "# Calculando o VaR\n",
    "# norm.ppf encontra o ponto na curva normal correspondente à probabilidade acumulada.\n",
    "# Usamos (1 - nivel_confianca) para pegar a cauda esquerda (perdas).\n",
    "var_retorno = norm.ppf(1 - nivel_confianca, loc=mu, scale=std)\n",
    "\n",
    "# Calculando o valor financeiro da perda\n",
    "var_financeiro = investimento * var_retorno\n",
    "\n",
    "print(f\"--- Cálculo do VaR Paramétrico (Diário) ---\")\n",
    "print(f\"Retorno no pior caso ({100-nivel_confianca*100:.0f}% de chance): {var_retorno:.4%}\")\n",
    "print(f\"VaR ({nivel_confianca:.0%}) para um investimento de R${investimento:,.2f}: R${abs(var_financeiro):,.2f}\")\n",
    "print(f\"\\nIsso significa que temos {nivel_confianca:.0%} de confiança de que a perda em um dia não será maior que R${abs(var_financeiro):,.2f}.\")"
   ]
  },
  {
   "cell_type": "markdown",
   "id": "da491ba7",
   "metadata": {},
   "source": [
    "### **5.3.2 Medida de Risco: Drawdown**\n",
    "\n",
    "Enquanto o VaR é uma estimativa estatística de perdas futuras, o **Drawdown** é uma medida histórica. Ele mede a **queda percentual de um ativo desde o seu último pico (topo) até o seu ponto mais baixo (fundo)**, antes que um novo pico seja atingido.\n",
    "\n",
    "O Drawdown nos ajuda a responder perguntas como:\n",
    "* \"Qual foi a pior sequência de perdas que meu investimento sofreu no passado?\" \n",
    "* \"Quanto tempo o ativo demorou para se recuperar de uma grande queda?\" \n",
    "\n",
    "Para calculá-lo em Python, seguimos 3 passos:\n",
    "1.  Calculamos o retorno acumulado (o \"índice de riqueza\").\n",
    "2.  Calculamos o valor máximo acumulado até cada data (os \"picos anteriores\").\n",
    "3.  Calculamos a diferença percentual entre o valor atual e o pico anterior."
   ]
  },
  {
   "cell_type": "code",
   "execution_count": null,
   "id": "89f50799",
   "metadata": {},
   "outputs": [],
   "source": [
    "# Usando o DataFrame 'ibov' que já temos\n",
    "# Garanta que a célula onde 'ibov' é definido foi executada\n",
    "\n",
    "# Passo 1: Calcular o Índice de Riqueza (retorno acumulado)\n",
    "# Usamos a soma acumulada (.cumsum()) dos log returns e a exponencial (np.exp)\n",
    "ibov['indice_riqueza'] = np.exp(ibov['retorno_log'].cumsum())\n",
    "\n",
    "# Passo 2: Calcular os picos anteriores usando .cummax() (máximo acumulado)\n",
    "ibov['pico_anterior'] = ibov['indice_riqueza'].cummax()\n",
    "\n",
    "# Passo 3: Calcular o Drawdown\n",
    "ibov['drawdown'] = (ibov['indice_riqueza'] - ibov['pico_anterior']) / ibov['pico_anterior']\n",
    "\n",
    "# --- Visualizando o Gráfico de Drawdown ---\n",
    "plt.figure(figsize=(12, 6))\n",
    "plt.plot(ibov.index, ibov['drawdown'])\n",
    "plt.fill_between(ibov.index, ibov['drawdown'], 0, color='red', alpha=0.3)\n",
    "plt.title('Drawdown do IBOVESPA (2014-2023)')\n",
    "plt.ylabel('Queda Percentual desde o Pico')\n",
    "plt.grid(True)\n",
    "plt.show()\n",
    "\n",
    "# --- Encontrando a Pior Queda (Drawdown Máximo) ---\n",
    "pior_drawdown = ibov['drawdown'].min()\n",
    "data_pior_drawdown = ibov['drawdown'].idxmin() # Encontra a data do pior drawdown\n",
    "\n",
    "print(f\"O pior drawdown no período foi de {pior_drawdown:.2%}.\")\n",
    "print(f\"Ele ocorreu na data: {data_pior_drawdown.strftime('%d/%m/%Y')}.\")"
   ]
  },
  {
   "cell_type": "markdown",
   "id": "c49519dc",
   "metadata": {},
   "source": [
    "### **5.3.3 Medida de Risco: Shortfall Risk (Risco de Queda)**\n",
    "\n",
    "Enquanto o VaR foca no *valor* da perda em um certo nível de confiança, o **Shortfall Risk** (ou Risco de Queda) inverte a pergunta:\n",
    "\n",
    "> \"Qual é a **probabilidade** de o retorno do meu ativo ser pior (menor) que um determinado valor em um certo período?\"\n",
    "\n",
    "Por exemplo, podemos querer saber: \"Qual a chance histórica de o IBOVESPA cair mais de 3% em um único dia?\". O cálculo é empírico e muito direto: contamos quantas vezes isso aconteceu no nosso conjunto de dados e dividimos pelo número total de dias."
   ]
  },
  {
   "cell_type": "code",
   "execution_count": null,
   "id": "09045462",
   "metadata": {},
   "outputs": [],
   "source": [
    "# Usando a série de retornos do IBOV que já calculamos\n",
    "retornos_ibov = ibov['retorno_log'].dropna()\n",
    "\n",
    "# --- Cálculo do Shortfall Risk ---\n",
    "\n",
    "# Passo 1: Definir o nosso limite de perda (threshold)\n",
    "limite_de_perda = -0.03 # -3%\n",
    "\n",
    "# Passo 2: Contar quantos dias o retorno foi MENOR que o nosso limite\n",
    "# A expressão (retornos_ibov < limite_de_perda) cria uma série de True/False.\n",
    "# .sum() em uma série booleana conta o número de 'True'.\n",
    "dias_de_queda_extrema = (retornos_ibov < limite_de_perda).sum()\n",
    "\n",
    "# Passo 3: Contar o número total de dias no nosso histórico\n",
    "total_de_dias = retornos_ibov.count()\n",
    "\n",
    "# Passo 4: Calcular a probabilidade (casos favoráveis / casos totais)\n",
    "probabilidade = dias_de_queda_extrema / total_de_dias\n",
    "\n",
    "print(f\"--- Shortfall Risk para o IBOVESPA (2014-2023) ---\")\n",
    "print(f\"Período analisado: {total_de_dias} dias.\")\n",
    "print(f\"Dias em que o retorno foi pior que {limite_de_perda:.2%}: {dias_de_queda_extrema} dias.\")\n",
    "print(f\"\\nA probabilidade histórica de uma queda maior que {abs(limite_de_perda):.0%} em um dia foi de: {probabilidade:.2%}\")"
   ]
  },
  {
   "cell_type": "markdown",
   "id": "00cbefa4",
   "metadata": {},
   "source": [
    "## **5.4 Análise em Janela Móvel (Rolling Analysis)**\n",
    "\n",
    "Até agora, calculamos métricas como média e desvio padrão para o período histórico completo. No entanto, o comportamento de um ativo muda com o tempo. A **Análise em Janela Móvel** (ou *Rolling Analysis*) é uma técnica poderosa para observar a evolução dessas métricas.\n",
    "\n",
    "A ideia é calcular a estatística (por exemplo, a média ou a volatilidade) não sobre todos os dados, mas sobre uma \"janela\" de um tamanho fixo que desliza ao longo do tempo (ex: os últimos 21 dias úteis, que representam um mês). Isso nos permite responder a perguntas como: \"A volatilidade do ativo aumentou nos últimos meses?\".\n",
    "\n",
    "No Pandas, fazemos isso com o método `.rolling()`."
   ]
  },
  {
   "cell_type": "code",
   "execution_count": null,
   "id": "5c6af212",
   "metadata": {},
   "outputs": [],
   "source": [
    "# Usando o DataFrame 'ibov' que já temos com os retornos calculados\n",
    "# Garanta que a célula onde 'ibov' é definido foi executada\n",
    "\n",
    "# Definindo o tamanho da janela (21 dias = 1 mês de pregão)\n",
    "tamanho_janela = 21\n",
    "\n",
    "# --- Calculando a Média Móvel dos Retornos ---\n",
    "ibov['media_movel_retorno'] = ibov['retorno_log'].rolling(window=tamanho_janela).mean()\n",
    "\n",
    "# --- Visualizando a Média Móvel ---\n",
    "plt.figure(figsize=(12, 6))\n",
    "ibov['media_movel_retorno'].plot(label=f'Média Móvel de {tamanho_janela} dias')\n",
    "\n",
    "# Adicionamos uma linha com a média do período todo para comparação\n",
    "plt.axhline(ibov['retorno_log'].mean(), color='red', linestyle='--', label='Média do Período Completo')\n",
    "\n",
    "plt.title('Média Móvel dos Retornos do IBOVESPA')\n",
    "plt.ylabel('Retorno Log Médio')\n",
    "plt.legend()\n",
    "plt.grid(True)\n",
    "plt.show()"
   ]
  },
  {
   "cell_type": "markdown",
   "id": "db7ce727",
   "metadata": {},
   "source": [
    "A mesma análise pode ser feita com o desvio padrão para visualizar como a volatilidade (risco) do ativo evoluiu. Isso é extremamente útil para identificar períodos de alta ou baixa turbulência no mercado. "
   ]
  },
  {
   "cell_type": "code",
   "execution_count": null,
   "id": "eb50526f",
   "metadata": {},
   "outputs": [],
   "source": [
    "# --- Calculando a Volatilidade Móvel (Desvio Padrão Móvel) ---\n",
    "ibov['vol_movel'] = ibov['retorno_log'].rolling(window=tamanho_janela).std()\n",
    "\n",
    "# --- Visualizando a Volatilidade Móvel ---\n",
    "plt.figure(figsize=(12, 6))\n",
    "ibov['vol_movel'].plot(label=f'Volatilidade Móvel de {tamanho_janela} dias')\n",
    "\n",
    "# Adicionamos uma linha com a volatilidade do período todo para comparação\n",
    "plt.axhline(ibov['retorno_log'].std(), color='red', linestyle='--', label='Volatilidade do Período Completo')\n",
    "\n",
    "plt.title('Volatilidade Móvel do IBOVESPA')\n",
    "plt.ylabel('Desvio Padrão dos Retornos')\n",
    "plt.legend()\n",
    "plt.grid(True)\n",
    "plt.show()"
   ]
  },
  {
   "cell_type": "markdown",
   "id": "50f4ebf2",
   "metadata": {},
   "source": [
    "## **5.5 Túnel de Volatilidade (Volatility Envelope)**\n",
    "\n",
    "O **Túnel de Volatilidade** é uma forma poderosa de visualizar os retornos diários em conjunto com a sua volatilidade móvel. O gráfico é composto por:\n",
    "\n",
    "* Uma linha central com os **retornos diários**.\n",
    "* Duas bandas, uma superior e uma inferior, que representam **múltiplos do desvio padrão móvel** (geralmente 2 desvios padrão para cima e 2 para baixo).\n",
    "\n",
    "Essa visualização nos ajuda a identificar rapidamente:\n",
    "1.  **Períodos de alta ou baixa volatilidade:** O túnel se alarga em momentos de maior risco e se estreita em momentos de calmaria.\n",
    "2.  **Eventos Extremos:** Dias em que o retorno \"escapa\" do túnel são dias de variação atípica em relação à volatilidade recente."
   ]
  },
  {
   "cell_type": "code",
   "execution_count": null,
   "id": "71603252",
   "metadata": {},
   "outputs": [],
   "source": [
    "# Usando o DataFrame 'ibov' que já tem as colunas 'retorno_log' e 'vol_movel'\n",
    "\n",
    "# --- Calculando as Bandas do Túnel ---\n",
    "# A banda superior é 2 vezes o desvio padrão móvel\n",
    "banda_superior = ibov['vol_movel'] * 2\n",
    "# A banda inferior é -2 vezes o desvio padrão móvel\n",
    "banda_inferior = ibov['vol_movel'] * -2\n",
    "\n",
    "# --- Plotando o Gráfico ---\n",
    "plt.figure(figsize=(15, 7))\n",
    "\n",
    "# Plotando os retornos diários (em preto e mais finos)\n",
    "plt.plot(ibov.index, ibov['retorno_log'], color='black', linewidth=0.5, label='Retorno Diário')\n",
    "\n",
    "# Plotando as bandas de volatilidade (em vermelho)\n",
    "plt.plot(ibov.index, banda_superior, color='red', linewidth=1, label='Banda de Volatilidade (+/- 2 desvios)')\n",
    "plt.plot(ibov.index, banda_inferior, color='red', linewidth=1)\n",
    "\n",
    "plt.title('Túnel de Volatilidade do IBOVESPA')\n",
    "plt.ylabel('Retorno Logarítmico')\n",
    "plt.xlabel('Data')\n",
    "plt.legend()\n",
    "plt.grid(True)\n",
    "plt.show()"
   ]
  },
  {
   "cell_type": "markdown",
   "id": "58d84086",
   "metadata": {},
   "source": [
    "## **5.6 Comparando Múltiplos Ativos**\n",
    "\n",
    "Analisar um ativo isoladamente é útil, mas o verdadeiro poder da análise de dados em finanças vem da capacidade de **comparar** diferentes ativos. Isso nos ajuda a entender quais investimentos ofereceram um melhor perfil de risco-retorno no passado. A ferramenta visual mais importante para isso é o **Gráfico de Risco vs. Retorno**."
   ]
  },
  {
   "cell_type": "markdown",
   "id": "ef221404",
   "metadata": {},
   "source": [
    "### **5.6.1 Gráfico de Risco vs. Retorno**\n",
    "\n",
    "Este gráfico nos permite visualizar o perfil de vários ativos em um único lugar, plotando a Volatilidade Anualizada (Risco) no eixo X e o Retorno Anualizado no eixo Y. O processo envolve 4 passos:\n",
    "1. Obter os dados de preços de todos os ativos.\n",
    "2. Calcular os retornos (para esta análise, usaremos retornos mensais).\n",
    "3. Calcular o retorno e a volatilidade anualizados para cada ativo.\n",
    "4. Construir o gráfico."
   ]
  },
  {
   "cell_type": "code",
   "execution_count": null,
   "id": "69312ce6",
   "metadata": {},
   "outputs": [],
   "source": [
    "import yfinance as yf\n",
    "import pandas as pd\n",
    "import numpy as np\n",
    "import matplotlib.pyplot as plt\n",
    "import seaborn as sns\n",
    "\n",
    "# --- Passo 1: Obter os Dados ---\n",
    "tickers = ['BOVA11.SA', 'SMAL11.SA', 'SPXI11.SA', 'PETR4.SA', \n",
    "           'VALE3.SA', 'B3SA3.SA', 'ABEV3.SA', 'ITUB4.SA']\n",
    "start_date = '2016-01-01'\n",
    "end_date = '2019-12-31'\n",
    "\n",
    "print(\"Baixando dados...\")\n",
    "# Primeiro, baixamos todos os dados\n",
    "dados_completos = yf.download(tickers, start=start_date, end=end_date, auto_adjust=True)\n",
    "\n",
    "# AGORA O PASSO CRUCIAL: Selecionamos APENAS a coluna 'Close'\n",
    "precos = dados_completos['Close'].dropna()\n",
    "\n",
    "\n",
    "# --- Passo 2: Calcular os Retornos Mensais ---\n",
    "print(\"Calculando retornos mensais...\")\n",
    "precos_mensais = precos.resample('ME').last()\n",
    "retornos_mensais = np.log(precos_mensais).diff().dropna()\n",
    "\n",
    "\n",
    "# --- Passo 3: Calcular Risco e Retorno Anualizados ---\n",
    "print(\"Calculando métricas anualizadas...\")\n",
    "retorno_anualizado = retornos_mensais.mean() * 12\n",
    "vol_anualizada = retornos_mensais.std() * np.sqrt(12)\n",
    "\n",
    "\n",
    "# --- Passo 4: Construindo o Gráfico de Risco vs. Retorno ---\n",
    "print(\"Construindo o gráfico...\")\n",
    "plt.figure(figsize=(12, 8))\n",
    "sns.scatterplot(x=vol_anualizada, y=retorno_anualizado, s=100)\n",
    "\n",
    "for i in range(len(retorno_anualizado)):\n",
    "    plt.text(x=vol_anualizada.iloc[i], \n",
    "             y=retorno_anualizado.iloc[i], \n",
    "             s=retorno_anualizado.index[i],\n",
    "             fontdict=dict(color='black', size=10),\n",
    "             bbox=dict(facecolor='white', alpha=0.5))\n",
    "\n",
    "plt.title('Gráfico de Risco vs. Retorno (2016-2019)', fontsize=16)\n",
    "plt.xlabel('Volatilidade Anualizada (Risco)', fontsize=12)\n",
    "plt.ylabel('Retorno Anualizado', fontsize=12)\n",
    "plt.grid(True)\n",
    "plt.show()"
   ]
  },
  {
   "cell_type": "markdown",
   "id": "43c6f71b",
   "metadata": {},
   "source": [
    "### **5.6.2 Comparando Distribuições com Boxplot**\n",
    "\n",
    "O gráfico de Risco vs. Retorno resume cada ativo a apenas dois números (média e desvio padrão). Um **Boxplot** nos permite ver a distribuição completa dos retornos mensais de cada ativo, lado a lado.\n",
    "\n",
    "Com ele, podemos comparar facilmente a mediana, os quartis e a dispersão dos retornos, além de identificar meses com retornos atípicos (outliers)."
   ]
  },
  {
   "cell_type": "code",
   "execution_count": null,
   "id": "ce8f9fa6",
   "metadata": {},
   "outputs": [],
   "source": [
    "# Usando o DataFrame 'retornos_mensais' que já calculamos\n",
    "\n",
    "plt.figure(figsize=(15, 8))\n",
    "sns.boxplot(data=retornos_mensais)\n",
    "\n",
    "plt.title('Distribuição dos Retornos Mensais por Ativo (2016-2019)', fontsize=16)\n",
    "plt.ylabel('Retorno Logarítmico Mensal', fontsize=12)\n",
    "plt.xlabel('Ativos', fontsize=12)\n",
    "# Adiciona uma linha horizontal em zero para referência\n",
    "plt.axhline(0, color='black', linestyle='--')\n",
    "plt.show()"
   ]
  },
  {
   "cell_type": "markdown",
   "id": "fde84ef1",
   "metadata": {},
   "source": [
    "### **5.6.3 Alternativa Visual: Violin Plot**\n",
    "\n",
    "O **Violin Plot** é uma combinação de um Boxplot com um gráfico de densidade. Ele nos dá a mesma informação de um boxplot, mas também mostra o \"formato\" da distribuição dos retornos, indicando onde os retornos foram mais concentrados."
   ]
  },
  {
   "cell_type": "code",
   "execution_count": null,
   "id": "6f7a138d",
   "metadata": {},
   "outputs": [],
   "source": [
    "plt.figure(figsize=(15, 8))\n",
    "sns.violinplot(data=retornos_mensais)\n",
    "\n",
    "plt.title('Distribuição dos Retornos Mensais por Ativo (2016-2019)', fontsize=16)\n",
    "plt.ylabel('Retorno Logarítmico Mensal', fontsize=12)\n",
    "plt.xlabel('Ativos', fontsize=12)\n",
    "plt.axhline(0, color='black', linestyle='--')\n",
    "plt.show()"
   ]
  },
  {
   "cell_type": "markdown",
   "id": "e240deb8",
   "metadata": {},
   "source": [
    "## **5.6.4 Correlação entre os Ativos**\n",
    "\n",
    "A **correlação** é uma medida estatística que indica o grau de relação linear entre o movimento de dois ativos. Ela varia de -1 a +1:\n",
    "* **+1 (Correlação Perfeita Positiva):** Os ativos tendem a se mover na mesma direção.\n",
    "* **0 (Sem Correlação):** O movimento de um ativo não tem relação linear com o outro.\n",
    "* **-1 (Correlação Perfeita Negativa):** Os ativos tendem a se mover em direções opostas.\n",
    "\n",
    "Entender a correlação é fundamental em finanças, pois é a base da **diversificação de carteiras**. Combinar ativos com baixa ou negativa correlação pode ajudar a reduzir o risco geral de um portfólio.\n",
    "\n",
    "No Pandas, calculamos a matriz de correlação de todos os ativos de um DataFrame de forma muito simples com o método `.corr()`."
   ]
  },
  {
   "cell_type": "code",
   "execution_count": null,
   "id": "d7290cad",
   "metadata": {},
   "outputs": [],
   "source": [
    "# Usando o DataFrame 'retornos_mensais' que já calculamos\n",
    "\n",
    "# O método .corr() calcula a correlação par a par entre todas as colunas\n",
    "matriz_correlacao = retornos_mensais.corr()\n",
    "\n",
    "print(\"--- Matriz de Correlação dos Retornos Mensais ---\")\n",
    "print(matriz_correlacao)"
   ]
  },
  {
   "cell_type": "markdown",
   "id": "921471c2",
   "metadata": {},
   "source": [
    "Uma matriz de números pode ser difícil de interpretar rapidamente. Uma forma muito mais eficaz de visualizar uma matriz de correlação é usando um **Heatmap (Mapa de Calor)**. Nele, cores mais quentes (vermelho) indicam alta correlação positiva, e cores mais frias (azul) indicam correlação negativa."
   ]
  },
  {
   "cell_type": "code",
   "execution_count": null,
   "id": "73742e74",
   "metadata": {},
   "outputs": [],
   "source": [
    "plt.figure(figsize=(10, 8))\n",
    "sns.heatmap(matriz_correlacao, \n",
    "            annot=True,        # Mostra os números dentro de cada célula\n",
    "            cmap='coolwarm',   # Define o esquema de cores (vermelho-branco-azul)\n",
    "            fmt='.2f',         # Formata os números para 2 casas decimais\n",
    "            linewidths=.5)\n",
    "\n",
    "plt.title('Heatmap de Correlação dos Ativos (2016-2019)', fontsize=16)\n",
    "plt.show()"
   ]
  },
  {
   "cell_type": "markdown",
   "id": "7274457d",
   "metadata": {},
   "source": [
    "## Fim do Capítulo 5\n",
    "\n",
    "Parabéns! Você concluiu um capítulo denso e muito importante. Agora você tem um kit de ferramentas robusto para análise de risco. Você aprendeu a:\n",
    "\n",
    "* Analisar e visualizar o comportamento de séries de retornos.\n",
    "* Calcular estatísticas descritivas avançadas, como assimetria e curtose.\n",
    "* Quantificar o risco através de métricas como **VaR** e **Drawdown**.\n",
    "* Analisar a evolução do risco e retorno com **janelas móveis**.\n",
    "* Comparar múltiplos ativos usando gráficos de **Risco vs. Retorno**, **Boxplots** e **Heatmaps de Correlação**.\n",
    "\n",
    "Com essa base, estamos prontos para o último capítulo do nosso curso, o **Capítulo 6: Análise de Carteiras**, onde vamos usar a correlação e a volatilidade para começar a construir portfólios otimizados."
   ]
  }
 ],
 "metadata": {
  "kernelspec": {
   "display_name": ".venv",
   "language": "python",
   "name": "python3"
  },
  "language_info": {
   "codemirror_mode": {
    "name": "ipython",
    "version": 3
   },
   "file_extension": ".py",
   "mimetype": "text/x-python",
   "name": "python",
   "nbconvert_exporter": "python",
   "pygments_lexer": "ipython3",
   "version": "3.12.2"
  }
 },
 "nbformat": 4,
 "nbformat_minor": 5
}
