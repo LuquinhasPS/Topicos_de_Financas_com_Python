{
 "cells": [
  {
   "cell_type": "markdown",
   "id": "85698a56",
   "metadata": {},
   "source": [
    "# **Capítulo 3: Fontes de Dados Financeiros com Python**\n",
    "\n",
    "Neste capítulo, vamos aprender a usar bibliotecas Python especializadas para buscar dados financeiros diretamente de fontes online, como cotações de ações, moedas e indicadores econômicos. Isso elimina a necessidade de baixar arquivos manualmente."
   ]
  },
  {
   "cell_type": "markdown",
   "id": "ec451cea",
   "metadata": {},
   "source": [
    "## **3.1 Bibliotecas para Dados Financeiros**\n",
    "\n",
    "Existem diversas bibliotecas em Python para se conectar a fontes de dados (APIs). As duas que usaremos como principais exemplos são:\n",
    "\n",
    "1.  **`yfinance`**: Uma biblioteca extremamente popular para baixar dados de cotações de ações, ETFs e índices do Yahoo Finance.\n",
    "2.  **`python-bcb`**: Para obter séries temporais de dados econômicos brasileiros diretamente do Sistema Gerenciador de Séries Temporais (SGS) do Banco Central do Brasil."
   ]
  },
  {
   "cell_type": "markdown",
   "id": "e054b30c",
   "metadata": {},
   "source": [
    "### **3.1.1 yfinance: Cotações de Ações e Índices**\n",
    "\n",
    "O `yfinance` é a ferramenta ideal para obter dados de ativos negociados em bolsa. Para ações brasileiras, usamos o mesmo código do home broker, adicionando o sufixo `.SA` (ex: `PETR4.SA`). A principal função que usaremos é a `yf.download()`.\n",
    "\n",
    "Primeiro, você precisa instalar a biblioteca no seu terminal."
   ]
  },
  {
   "cell_type": "markdown",
   "id": "76a87547",
   "metadata": {},
   "source": [
    "**No seu terminal (apenas uma vez):**\n",
    "```bash"
   ]
  },
  {
   "cell_type": "code",
   "execution_count": null,
   "id": "9f62c694",
   "metadata": {},
   "outputs": [],
   "source": [
    "pip install yfinance"
   ]
  },
  {
   "cell_type": "markdown",
   "id": "8b4acf5f",
   "metadata": {},
   "source": [
    "Um passo fundamental após carregar um conjunto de dados é inspecioná-lo para garantir que tudo está correto. Vamos dar uma olhada nas primeiras e últimas linhas do nosso DataFrame da PETR4.\n",
    "\n",
    "Para isso, usamos dois métodos muito úteis do Pandas:\n",
    "* `.head()`: Exibe as 5 primeiras linhas.\n",
    "* `.tail()`: Exibe as 5 últimas linhas."
   ]
  },
  {
   "cell_type": "code",
   "execution_count": null,
   "id": "344f1c72",
   "metadata": {},
   "outputs": [],
   "source": [
    "import yfinance as yf\n",
    "\n",
    "# Baixando dados diários da Petrobras (PETR4) para o ano de 2023\n",
    "# A função retorna um DataFrame do Pandas\n",
    "petr4 = yf.download('PETR4.SA', start='2023-01-01', end='2023-12-31', auto_adjust=False)\n",
    "\n",
    "# Exibindo as 5 primeiras linhas\n",
    "print(\"--- Dados da PETR4 ---\")\n",
    "print(petr4.head())\n",
    "\n",
    "# Exibindo as 5 últimas linhas\n",
    "print(\"\\n--- Fim dos Dados da PETR4 ---\")\n",
    "print(petr4.tail())"
   ]
  },
  {
   "cell_type": "markdown",
   "id": "35395725",
   "metadata": {},
   "source": [
    "A função retorna um DataFrame com as seguintes colunas: `Open` (abertura), `High` (máxima), `Low` (mínima), `Close` (fechamento), `Adj Close` (fechamento ajustado para proventos) e `Volume`.\n",
    "\n",
    "Também podemos baixar dados de múltiplos ativos de uma só vez."
   ]
  },
  {
   "cell_type": "code",
   "execution_count": null,
   "id": "5a9603b6",
   "metadata": {},
   "outputs": [],
   "source": [
    "import yfinance as yf\n",
    "\n",
    "# Definindo os tickers e o período\n",
    "tickers = ['ITSA4.SA', 'VALE3.SA', '^BVSP']\n",
    "start_date = '2023-01-01'\n",
    "end_date = '2023-12-31'\n",
    "\n",
    "# 1. Baixamos o DataFrame completo, com todos os dados (Open, High, Low, Close, etc.)\n",
    "dados_completos = yf.download(tickers, start=start_date, end=end_date, auto_adjust=False)\n",
    "\n",
    "# 2. (Opcional) Vamos inspecionar a estrutura das colunas para entender\n",
    "print(\"--- Estrutura das Colunas (MultiIndex) ---\")\n",
    "print(dados_completos.columns)\n",
    "\n",
    "# 3. Agora, selecionamos o nível superior 'Adj Close'. Isso nos dará um DataFrame\n",
    "#    apenas com os preços de fechamento ajustado de todos os tickers.\n",
    "dados_adj_close = dados_completos['Adj Close']\n",
    "dados_close = dados_completos['Close']\n",
    "\n",
    "# 4. Exibindo as 5 primeiras linhas do resultado correto\n",
    "print(\"\\n--- DataFrame Apenas com 'Adj Close' ---\")\n",
    "print(dados_adj_close.head())\n",
    "print(\"\\n--- DataFrame Apenas com 'Close' ---\")\n",
    "print(dados_close.head())"
   ]
  },
  {
   "cell_type": "markdown",
   "id": "a666c1b5",
   "metadata": {},
   "source": [
    "## **3.1.2 python-bcb: Dados Econômicos do Banco Central do Brasil**\n",
    "\n",
    "Para obter dados da economia brasileira, como a taxa Selic, IPCA, IGP-M ou a cotação do dólar, usamos a biblioteca `python-bcb`. Ela se conecta diretamente ao **SGS (Sistema Gerenciador de Séries Temporais)** do Banco Central do Brasil.\n",
    "\n",
    "Primeiro, você precisa instalar a biblioteca no seu terminal."
   ]
  },
  {
   "cell_type": "markdown",
   "id": "f98b0059",
   "metadata": {},
   "source": [
    "**No seu terminal (apenas uma vez):**\n",
    "```bash"
   ]
  },
  {
   "cell_type": "code",
   "execution_count": null,
   "id": "335e3083",
   "metadata": {},
   "outputs": [],
   "source": [
    "pip install python-bcb"
   ]
  },
  {
   "cell_type": "markdown",
   "id": "49c012b0",
   "metadata": {},
   "source": [
    "Cada série de dados no Banco Central tem um código único. Para encontrar o código de uma série, podemos usar a função `sgs.search_sgs()`. Depois, usamos o código encontrado na função `sgs.get()` para baixar os dados."
   ]
  },
  {
   "cell_type": "code",
   "execution_count": null,
   "id": "3ab78578",
   "metadata": {},
   "outputs": [],
   "source": [
    "from bcb import sgs\n",
    "\n",
    "# Vamos usar o código 11, que sabemos ser da taxa Selic diária.\n",
    "# Passamos um dicionário onde a chave é o nome que queremos para a coluna ('Selic') \n",
    "# e o valor é o código (11).\n",
    "selic = sgs.get({'Selic': 11}, start='2023-01-01')\n",
    "\n",
    "print(\"--- Histórico da Taxa Selic Diária ---\")\n",
    "print(selic.tail()) # Usando .tail() para ver os dados mais recentes"
   ]
  },
  {
   "cell_type": "code",
   "execution_count": null,
   "id": "c1718754",
   "metadata": {},
   "outputs": [],
   "source": [
    "# Baixando os últimos 12 meses do IPCA (código 433) e do IGP-M (código 189)\n",
    "inflacao = sgs.get({'IPCA': 433, 'IGP-M': 189}, last=12)\n",
    "\n",
    "print(\"\\n--- Últimos 12 meses de Inflação (IPCA vs IGP-M) ---\")\n",
    "print(inflacao.head())"
   ]
  },
  {
   "cell_type": "markdown",
   "id": "ab454ae2",
   "metadata": {},
   "source": [
    "A busca nos mostra que a taxa Selic diária tem o código **11**. Agora, vamos usar esse código para baixar os dados históricos."
   ]
  },
  {
   "cell_type": "code",
   "execution_count": null,
   "id": "a8472344",
   "metadata": {},
   "outputs": [],
   "source": [
    "# Baixando a série da Selic a partir de 01/01/2023\n",
    "# Passamos um dicionário onde a chave é o nome que queremos para a coluna e o valor é o código\n",
    "selic = sgs.get({'Selic': 11}, start='2023-01-01')\n",
    "\n",
    "print(\"--- Histórico da Taxa Selic Diária ---\")\n",
    "print(selic.head())"
   ]
  },
  {
   "cell_type": "markdown",
   "id": "27038792",
   "metadata": {},
   "source": [
    "Também podemos baixar múltiplas séries de uma vez, passando um dicionário com vários códigos."
   ]
  },
  {
   "cell_type": "code",
   "execution_count": null,
   "id": "ffd7f3f5",
   "metadata": {},
   "outputs": [],
   "source": [
    "# Baixando os últimos 12 meses do IPCA (código 433) e do IGP-M (código 189)\n",
    "inflacao = sgs.get({'IPCA': 433, 'IGP-M': 189}, last=12)\n",
    "\n",
    "print(\"--- Últimos 12 meses de Inflação (IPCA vs IGP-M) ---\")\n",
    "print(inflacao.head())"
   ]
  },
  {
   "cell_type": "markdown",
   "id": "9149c352",
   "metadata": {},
   "source": [
    "## **3.2 Manipulação de Séries Temporais com Pandas**\n",
    "\n",
    "Tanto o `yfinance` quanto o `python-bcb` retornam DataFrames do Pandas, que são perfeitos para análise de séries temporais. A principal característica que torna isso possível é o **`DatetimeIndex`**, um tipo especial de índice composto por datas. Ter as datas como índice nos permite agrupar, fatiar e manipular os dados com base no tempo de forma muito eficiente."
   ]
  },
  {
   "cell_type": "code",
   "execution_count": null,
   "id": "0730d676",
   "metadata": {},
   "outputs": [],
   "source": [
    "import yfinance as yf\n",
    "\n",
    "# Vamos baixar um ativo de exemplo para esta seção\n",
    "itsa4 = yf.download('ITSA4.SA', start='2022-01-01', end='2023-12-31')\n",
    "\n",
    "# Vamos verificar o tipo do índice do nosso DataFrame\n",
    "print(f\"O tipo do índice é: {type(itsa4.index)}\")\n",
    "\n",
    "print(\"\\nVisualizando os dados:\")\n",
    "print(itsa4.head())"
   ]
  },
  {
   "cell_type": "markdown",
   "id": "c53bb6b0",
   "metadata": {},
   "source": [
    "Um DataFrame com `DatetimeIndex` tem dois componentes principais que podemos acessar separadamente:\n",
    "* **`.index`**: O objeto que contém todas as datas (o índice).\n",
    "* **`.values`**: Um array NumPy contendo todos os valores numéricos do DataFrame (os dados em si)."
   ]
  },
  {
   "cell_type": "code",
   "execution_count": null,
   "id": "cdb5a8ca",
   "metadata": {},
   "outputs": [],
   "source": [
    "# Acessando apenas o índice (as datas)\n",
    "print(\"--- Objeto de Índice (Datas) ---\")\n",
    "print(itsa4.index)\n",
    "\n",
    "\n",
    "# Acessando apenas os valores (como uma matriz)\n",
    "print(\"\\n--- Array de Valores ---\")\n",
    "print(itsa4.values)"
   ]
  },
  {
   "cell_type": "markdown",
   "id": "3606844d",
   "metadata": {},
   "source": [
    "### Convertendo a Periodicidade (Resample)\n",
    "\n",
    "Uma das tarefas mais comuns é mudar a frequência dos dados (ex: de diário para mensal). No Pandas, fazemos isso com o método `.resample()`. Ele agrupa os dados por uma nova frequência e depois aplicamos uma função de agregação (como `.last()`, `.first()`, `.sum()`, `.mean()`) para definir como os dados agrupados devem ser representados.\n",
    "\n",
    "Usamos códigos para definir a frequência:\n",
    "* `M`: Fim do Mês (`Month End`)\n",
    "* `MS`: Início do Mês (`Month Start`)\n",
    "* `Q`: Fim do Trimestre (`Quarter End`)\n",
    "* `Y`: Fim do Ano (`Year End`)"
   ]
  },
  {
   "cell_type": "code",
   "execution_count": 45,
   "id": "3e26648d",
   "metadata": {},
   "outputs": [
    {
     "name": "stdout",
     "output_type": "stream",
     "text": [
      "--- Dados Mensais (Último dia do Mês) ---\n",
      "Price          Close      High       Low      Open    Volume\n",
      "Ticker      ITSA4.SA  ITSA4.SA  ITSA4.SA  ITSA4.SA  ITSA4.SA\n",
      "Date                                                        \n",
      "2022-01-31  6.354131  6.397781  6.235653  6.266832  33804672\n",
      "2022-02-28  6.248127  6.254362  6.135885  6.160827  34463544\n",
      "2022-03-31  6.773339  6.880452  6.767038  6.842648  16056397\n",
      "2022-04-30  5.803020  6.017246  5.796719  5.929035  40665594\n",
      "2022-05-31  6.042449  6.073953  5.960538  5.985742  48779592\n",
      "\n",
      "--- Dados Trimestrais (Média do Trimestre) ---\n",
      "Price          Close      High       Low      Open        Volume\n",
      "Ticker      ITSA4.SA  ITSA4.SA  ITSA4.SA  ITSA4.SA      ITSA4.SA\n",
      "Date                                                            \n",
      "2022-03-31  6.233499  6.294401  6.156407  6.218140  3.225892e+07\n",
      "2022-06-30  5.905954  5.979601  5.856837  5.934849  2.883327e+07\n",
      "2022-09-30  5.732475  5.782818  5.667512  5.716477  2.436769e+07\n",
      "2022-12-31  6.324385  6.409759  6.236554  6.324591  3.240860e+07\n",
      "2023-03-31  6.033171  6.109921  5.965575  6.038666  2.458020e+07\n"
     ]
    }
   ],
   "source": [
    "# Resample para dados mensais, pegando o último preço de cada mês\n",
    "itsa4_mensal = itsa4.resample('ME').last()\n",
    "print(\"--- Dados Mensais (Último dia do Mês) ---\")\n",
    "print(itsa4_mensal.head())\n",
    "\n",
    "# Resample para dados trimestrais, calculando o preço médio de cada trimestre\n",
    "itsa4_trimestral = itsa4.resample('QE').mean()\n",
    "print(\"\\n--- Dados Trimestrais (Média do Trimestre) ---\")\n",
    "print(itsa4_trimestral.head())"
   ]
  },
  {
   "cell_type": "markdown",
   "id": "d938bcdd",
   "metadata": {},
   "source": [
    "### Movendo o Índice de Data para uma Coluna\n",
    "\n",
    "Às vezes, é útil ter a data como uma coluna normal do DataFrame em vez de ser o índice. Para fazer isso, usamos o método `.reset_index()`."
   ]
  },
  {
   "cell_type": "code",
   "execution_count": 52,
   "id": "67b9bcd9",
   "metadata": {},
   "outputs": [
    {
     "name": "stdout",
     "output_type": "stream",
     "text": [
      "--- DataFrame com a data como coluna ---\n",
      "Price        Date     Close      High       Low      Open    Volume\n",
      "Ticker             ITSA4.SA  ITSA4.SA  ITSA4.SA  ITSA4.SA  ITSA4.SA\n",
      "0      2022-01-03  5.547342  5.651893  5.485841  5.547342  34761437\n",
      "1      2022-01-04  5.590392  5.639592  5.516591  5.553491  47291709\n",
      "2      2022-01-05  5.528892  5.602693  5.485842  5.565793  42275995\n",
      "3      2022-01-06  5.578093  5.621143  5.498142  5.522743  30914401\n",
      "4      2022-01-07  5.645743  5.651893  5.541192  5.578092  26119001\n"
     ]
    }
   ],
   "source": [
    "# Criando uma cópia para não alterar nosso DataFrame original\n",
    "itsa4_com_coluna_data = itsa4.reset_index()\n",
    "\n",
    "print(\"--- DataFrame com a data como coluna ---\")\n",
    "print(itsa4_com_coluna_data.head())"
   ]
  }
 ],
 "metadata": {
  "kernelspec": {
   "display_name": "Python 3",
   "language": "python",
   "name": "python3"
  },
  "language_info": {
   "codemirror_mode": {
    "name": "ipython",
    "version": 3
   },
   "file_extension": ".py",
   "mimetype": "text/x-python",
   "name": "python",
   "nbconvert_exporter": "python",
   "pygments_lexer": "ipython3",
   "version": "3.13.1"
  }
 },
 "nbformat": 4,
 "nbformat_minor": 5
}
