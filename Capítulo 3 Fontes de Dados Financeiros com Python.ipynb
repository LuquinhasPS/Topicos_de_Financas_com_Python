{
 "cells": [
  {
   "cell_type": "markdown",
   "id": "85698a56",
   "metadata": {},
   "source": [
    "# **Capítulo 3: Fontes de Dados Financeiros com Python**\n",
    "\n",
    "Neste capítulo, vamos aprender a usar bibliotecas Python especializadas para buscar dados financeiros diretamente de fontes online, como cotações de ações, moedas e indicadores econômicos. Isso elimina a necessidade de baixar arquivos manualmente."
   ]
  },
  {
   "cell_type": "markdown",
   "id": "ec451cea",
   "metadata": {},
   "source": [
    "## **3.1 Bibliotecas para Dados Financeiros**\n",
    "\n",
    "Existem diversas bibliotecas em Python para se conectar a fontes de dados (APIs). As duas que usaremos como principais exemplos são:\n",
    "\n",
    "1.  **`yfinance`**: Uma biblioteca extremamente popular para baixar dados de cotações de ações, ETFs e índices do Yahoo Finance.\n",
    "2.  **`python-bcb`**: Para obter séries temporais de dados econômicos brasileiros diretamente do Sistema Gerenciador de Séries Temporais (SGS) do Banco Central do Brasil."
   ]
  },
  {
   "cell_type": "markdown",
   "id": "e054b30c",
   "metadata": {},
   "source": [
    "### **3.1.1 yfinance: Cotações de Ações e Índices**\n",
    "\n",
    "O `yfinance` é a ferramenta ideal para obter dados de ativos negociados em bolsa. Para ações brasileiras, usamos o mesmo código do home broker, adicionando o sufixo `.SA` (ex: `PETR4.SA`). A principal função que usaremos é a `yf.download()`.\n",
    "\n",
    "Primeiro, você precisa instalar a biblioteca no seu terminal."
   ]
  },
  {
   "cell_type": "markdown",
   "id": "76a87547",
   "metadata": {},
   "source": [
    "**No seu terminal (apenas uma vez):**\n",
    "```bash"
   ]
  },
  {
   "cell_type": "code",
   "execution_count": null,
   "id": "9f62c694",
   "metadata": {},
   "outputs": [],
   "source": [
    "pip install yfinance"
   ]
  },
  {
   "cell_type": "code",
   "execution_count": 13,
   "id": "344f1c72",
   "metadata": {},
   "outputs": [
    {
     "name": "stderr",
     "output_type": "stream",
     "text": [
      "C:\\Users\\Centauro\\AppData\\Local\\Temp\\ipykernel_46176\\1637053137.py:5: FutureWarning: YF.download() has changed argument auto_adjust default to True\n",
      "  petr4 = yf.download('PETR4.SA', start='2023-01-01', end='2023-12-31')\n",
      "[*********************100%***********************]  1 of 1 completed"
     ]
    },
    {
     "name": "stdout",
     "output_type": "stream",
     "text": [
      "--- Dados da PETR4 ---\n",
      "Price           Close       High        Low       Open     Volume\n",
      "Ticker       PETR4.SA   PETR4.SA   PETR4.SA   PETR4.SA   PETR4.SA\n",
      "Date                                                             \n",
      "2023-01-02  13.380749  13.900332  13.310692  13.742707   78424700\n",
      "2023-01-03  13.042146  13.485836  12.919547  13.392427   96750300\n",
      "2023-01-04  13.456646  13.771900  12.744407  12.820301  129504000\n",
      "2023-01-05  13.941199  14.034609  13.515024  13.625947   73886000\n",
      "2023-01-06  13.859468  14.198073  13.748545  13.976228   51851500\n",
      "\n",
      "--- Fim dos Dados da PETR4 ---\n",
      "Price           Close       High        Low       Open    Volume\n",
      "Ticker       PETR4.SA   PETR4.SA   PETR4.SA   PETR4.SA  PETR4.SA\n",
      "Date                                                            \n",
      "2023-12-21  27.507742  27.726958  27.265849  27.719397  30511900\n",
      "2023-12-22  27.772316  27.817669  27.492625  27.590895  31234700\n",
      "2023-12-26  28.218304  28.248538  27.840346  27.863023  23466800\n",
      "2023-12-27  28.240980  28.293894  28.067120  28.210743  19588500\n",
      "2023-12-28  28.150270  28.240979  27.999087  28.142710  21421900\n"
     ]
    },
    {
     "name": "stderr",
     "output_type": "stream",
     "text": [
      "\n"
     ]
    }
   ],
   "source": [
    "import yfinance as yf\n",
    "\n",
    "# Baixando dados diários da Petrobras (PETR4) para o ano de 2023\n",
    "# A função retorna um DataFrame do Pandas\n",
    "petr4 = yf.download('PETR4.SA', start='2023-01-01', end='2023-12-31')\n",
    "\n",
    "# Exibindo as 5 primeiras linhas\n",
    "print(\"--- Dados da PETR4 ---\")\n",
    "print(petr4.head())\n",
    "\n",
    "# Exibindo as 5 últimas linhas\n",
    "print(\"\\n--- Fim dos Dados da PETR4 ---\")\n",
    "print(petr4.tail())"
   ]
  },
  {
   "cell_type": "markdown",
   "id": "35395725",
   "metadata": {},
   "source": [
    "A função retorna um DataFrame com as seguintes colunas: `Open` (abertura), `High` (máxima), `Low` (mínima), `Close` (fechamento), `Adj Close` (fechamento ajustado para proventos) e `Volume`.\n",
    "\n",
    "Também podemos baixar dados de múltiplos ativos de uma só vez."
   ]
  },
  {
   "cell_type": "code",
   "execution_count": 25,
   "id": "5a9603b6",
   "metadata": {},
   "outputs": [
    {
     "name": "stderr",
     "output_type": "stream",
     "text": [
      "[*********************100%***********************]  3 of 3 completed"
     ]
    },
    {
     "name": "stdout",
     "output_type": "stream",
     "text": [
      "--- Estrutura das Colunas (MultiIndex) ---\n",
      "MultiIndex([('Adj Close', 'ITSA4.SA'),\n",
      "            ('Adj Close', 'VALE3.SA'),\n",
      "            ('Adj Close',    '^BVSP'),\n",
      "            (    'Close', 'ITSA4.SA'),\n",
      "            (    'Close', 'VALE3.SA'),\n",
      "            (    'Close',    '^BVSP'),\n",
      "            (     'High', 'ITSA4.SA'),\n",
      "            (     'High', 'VALE3.SA'),\n",
      "            (     'High',    '^BVSP'),\n",
      "            (      'Low', 'ITSA4.SA'),\n",
      "            (      'Low', 'VALE3.SA'),\n",
      "            (      'Low',    '^BVSP'),\n",
      "            (     'Open', 'ITSA4.SA'),\n",
      "            (     'Open', 'VALE3.SA'),\n",
      "            (     'Open',    '^BVSP'),\n",
      "            (   'Volume', 'ITSA4.SA'),\n",
      "            (   'Volume', 'VALE3.SA'),\n",
      "            (   'Volume',    '^BVSP')],\n",
      "           names=['Price', 'Ticker'])\n",
      "\n",
      "--- DataFrame Apenas com 'Adj Close' ---\n",
      "Ticker      ITSA4.SA   VALE3.SA     ^BVSP\n",
      "Date                                     \n",
      "2023-01-02  6.042832  70.104385  106376.0\n",
      "2023-01-03  5.891037  69.978935  104166.0\n",
      "2023-01-04  5.941634  70.104385  105334.0\n",
      "2023-01-05  6.028375  71.280647  107518.0\n",
      "2023-01-06  6.129570  72.409828  108836.0\n"
     ]
    },
    {
     "name": "stderr",
     "output_type": "stream",
     "text": [
      "\n"
     ]
    }
   ],
   "source": [
    "import yfinance as yf\n",
    "\n",
    "# Definindo os tickers e o período\n",
    "tickers = ['ITSA4.SA', 'VALE3.SA', '^BVSP']\n",
    "start_date = '2023-01-01'\n",
    "end_date = '2023-12-31'\n",
    "\n",
    "# 1. Baixamos o DataFrame completo, com todos os dados (Open, High, Low, Close, etc.)\n",
    "dados_completos = yf.download(tickers, start=start_date, end=end_date, auto_adjust=False)\n",
    "\n",
    "# 2. (Opcional) Vamos inspecionar a estrutura das colunas para entender\n",
    "print(\"--- Estrutura das Colunas (MultiIndex) ---\")\n",
    "print(dados_completos.columns)\n",
    "\n",
    "# 3. Agora, selecionamos o nível superior 'Adj Close'. Isso nos dará um DataFrame\n",
    "#    apenas com os preços de fechamento ajustado de todos os tickers.\n",
    "dados_adj_close = dados_completos['Adj Close']\n",
    "\n",
    "# 4. Exibindo as 5 primeiras linhas do resultado correto\n",
    "print(\"\\n--- DataFrame Apenas com 'Adj Close' ---\")\n",
    "print(dados_adj_close.head())"
   ]
  }
 ],
 "metadata": {
  "kernelspec": {
   "display_name": "Python 3",
   "language": "python",
   "name": "python3"
  },
  "language_info": {
   "codemirror_mode": {
    "name": "ipython",
    "version": 3
   },
   "file_extension": ".py",
   "mimetype": "text/x-python",
   "name": "python",
   "nbconvert_exporter": "python",
   "pygments_lexer": "ipython3",
   "version": "3.13.1"
  }
 },
 "nbformat": 4,
 "nbformat_minor": 5
}
