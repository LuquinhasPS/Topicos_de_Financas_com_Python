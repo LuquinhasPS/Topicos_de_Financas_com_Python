{
 "cells": [
  {
   "cell_type": "markdown",
   "id": "85698a56",
   "metadata": {},
   "source": [
    "# **Capítulo 3: Fontes de Dados Financeiros com Python**\n",
    "\n",
    "Neste capítulo, vamos aprender a usar bibliotecas Python especializadas para buscar dados financeiros diretamente de fontes online, como cotações de ações, moedas e indicadores econômicos. Isso elimina a necessidade de baixar arquivos manualmente."
   ]
  },
  {
   "cell_type": "markdown",
   "id": "ec451cea",
   "metadata": {},
   "source": [
    "## **3.1 Bibliotecas para Dados Financeiros**\n",
    "\n",
    "Existem diversas bibliotecas em Python para se conectar a fontes de dados (APIs). As duas que usaremos como principais exemplos são:\n",
    "\n",
    "1.  **`yfinance`**: Uma biblioteca extremamente popular para baixar dados de cotações de ações, ETFs e índices do Yahoo Finance.\n",
    "2.  **`python-bcb`**: Para obter séries temporais de dados econômicos brasileiros diretamente do Sistema Gerenciador de Séries Temporais (SGS) do Banco Central do Brasil."
   ]
  },
  {
   "cell_type": "markdown",
   "id": "e054b30c",
   "metadata": {},
   "source": [
    "### **3.1.1 yfinance: Cotações de Ações e Índices**\n",
    "\n",
    "O `yfinance` é a ferramenta ideal para obter dados de ativos negociados em bolsa. Para ações brasileiras, usamos o mesmo código do home broker, adicionando o sufixo `.SA` (ex: `PETR4.SA`). A principal função que usaremos é a `yf.download()`.\n",
    "\n",
    "Primeiro, você precisa instalar a biblioteca no seu terminal."
   ]
  },
  {
   "cell_type": "markdown",
   "id": "76a87547",
   "metadata": {},
   "source": [
    "**No seu terminal (apenas uma vez):**\n",
    "```bash"
   ]
  },
  {
   "cell_type": "code",
   "execution_count": null,
   "id": "9f62c694",
   "metadata": {},
   "outputs": [],
   "source": [
    "pip install yfinance"
   ]
  },
  {
   "cell_type": "markdown",
   "id": "8b4acf5f",
   "metadata": {},
   "source": [
    "Um passo fundamental após carregar um conjunto de dados é inspecioná-lo para garantir que tudo está correto. Vamos dar uma olhada nas primeiras e últimas linhas do nosso DataFrame da PETR4.\n",
    "\n",
    "Para isso, usamos dois métodos muito úteis do Pandas:\n",
    "* `.head()`: Exibe as 5 primeiras linhas.\n",
    "* `.tail()`: Exibe as 5 últimas linhas."
   ]
  },
  {
   "cell_type": "code",
   "execution_count": null,
   "id": "344f1c72",
   "metadata": {},
   "outputs": [],
   "source": [
    "import yfinance as yf\n",
    "\n",
    "# Baixando dados diários da Petrobras (PETR4) para o ano de 2023\n",
    "# A função retorna um DataFrame do Pandas\n",
    "petr4 = yf.download('PETR4.SA', start='2023-01-01', end='2023-12-31', auto_adjust=False)\n",
    "\n",
    "# Exibindo as 5 primeiras linhas\n",
    "print(\"--- Dados da PETR4 ---\")\n",
    "print(petr4.head())\n",
    "\n",
    "# Exibindo as 5 últimas linhas\n",
    "print(\"\\n--- Fim dos Dados da PETR4 ---\")\n",
    "print(petr4.tail())"
   ]
  },
  {
   "cell_type": "markdown",
   "id": "35395725",
   "metadata": {},
   "source": [
    "A função retorna um DataFrame com as seguintes colunas: `Open` (abertura), `High` (máxima), `Low` (mínima), `Close` (fechamento), `Adj Close` (fechamento ajustado para proventos) e `Volume`.\n",
    "\n",
    "Também podemos baixar dados de múltiplos ativos de uma só vez."
   ]
  },
  {
   "cell_type": "code",
   "execution_count": null,
   "id": "5a9603b6",
   "metadata": {},
   "outputs": [],
   "source": [
    "import yfinance as yf\n",
    "\n",
    "# Definindo os tickers e o período\n",
    "tickers = ['ITSA4.SA', 'VALE3.SA', '^BVSP']\n",
    "start_date = '2023-01-01'\n",
    "end_date = '2023-12-31'\n",
    "\n",
    "# 1. Baixamos o DataFrame completo, com todos os dados (Open, High, Low, Close, etc.)\n",
    "dados_completos = yf.download(tickers, start=start_date, end=end_date, auto_adjust=False)\n",
    "\n",
    "# 2. (Opcional) Vamos inspecionar a estrutura das colunas para entender\n",
    "print(\"--- Estrutura das Colunas (MultiIndex) ---\")\n",
    "print(dados_completos.columns)\n",
    "\n",
    "# 3. Agora, selecionamos o nível superior 'Adj Close'. Isso nos dará um DataFrame\n",
    "#    apenas com os preços de fechamento ajustado de todos os tickers.\n",
    "dados_adj_close = dados_completos['Adj Close']\n",
    "dados_close = dados_completos['Close']\n",
    "\n",
    "# 4. Exibindo as 5 primeiras linhas do resultado correto\n",
    "print(\"\\n--- DataFrame Apenas com 'Adj Close' ---\")\n",
    "print(dados_adj_close.head())\n",
    "print(\"\\n--- DataFrame Apenas com 'Close' ---\")\n",
    "print(dados_close.head())"
   ]
  },
  {
   "cell_type": "markdown",
   "id": "63c11ded",
   "metadata": {},
   "source": [
    "### Nota sobre o `auto_adjust`\n",
    "\n",
    "O argumento `auto_adjust` é muito importante e controla quais preços a biblioteca `yfinance` nos entrega. Existem duas opções principais:\n",
    "\n",
    "* **`auto_adjust=True`**: Esta é a **opção padrão** da biblioteca e a **recomendada** para análise de retornos.\n",
    "    * **O que faz:** Ajusta automaticamente todos os preços (`Open`, `High`, `Low`, `Close`) para dividendos e desdobramentos.\n",
    "    * **Resultado:** A coluna `Close` já contém o preço ajustado, e a coluna `Adj Close` não é criada.\n",
    "    * **Uso:** Como é o comportamento padrão, **tecnicamente você não precisa escrever `auto_adjust=True`**, pois a biblioteca já fará isso por você. No entanto, pode ser uma **boa prática de programação** incluí-lo para deixar seu código mais explícito e claro para quem o lê, indicando que você está ciente de que está trabalhando com dados ajustados.\n",
    "\n",
    "* **`auto_adjust=False`**: Esta opção baixa os dados \"brutos\".\n",
    "    * **O que faz:** Baixa os preços exatamente como foram negociados no dia, sem ajustes.\n",
    "    * **Resultado:** Você recebe tanto a coluna `Close` (preço bruto) quanto a `Adj Close` (preço ajustado).\n",
    "\n",
    "**Para o nosso curso, onde o foco é analisar a performance histórica, o ideal é sempre usar o preço ajustado.**"
   ]
  },
  {
   "cell_type": "markdown",
   "id": "55bff831",
   "metadata": {},
   "source": [
    "### **3.1.2 Verificando e Corrigindo os Dados do yfinance (Tratando MultiIndex)**\n",
    "\n",
    "Um passo crucial após baixar dados é sempre **verificar sua estrutura**. Dependendo da versão do `yfinance` ou do número de ativos baixados, os nomes das colunas podem vir em um formato chamado **MultiIndex** (nomes compostos, como `('Close', 'ITSA4.SA')`).\n",
    "\n",
    "Bibliotecas de plotagem como a `mplfinance` esperam nomes de colunas simples (como `'Close'`). Se encontrarmos um MultiIndex, precisamos \"achatá-lo\" para usar os dados.\n",
    "\n",
    "Vamos ver como diagnosticar e corrigir isso."
   ]
  },
  {
   "cell_type": "code",
   "execution_count": null,
   "id": "6f4f71da",
   "metadata": {},
   "outputs": [],
   "source": [
    "import yfinance as yf\n",
    "import pandas as pd\n",
    "\n",
    "# 1. Baixamos os dados de um único ativo, repare que já estamos usando auto_adjust=True\n",
    "itsa4 = yf.download('ITSA4.SA', start='2023-01-01', end='2023-12-31', auto_adjust=True)\n",
    "\n",
    "# 2. DIAGNÓSTICO: Verificamos como vieram os nomes das colunas\n",
    "print(\"--- Nomes das Colunas Originais ---\")\n",
    "print(itsa4.columns)\n",
    "\n",
    "# 3. CORREÇÃO: Se as colunas forem um MultiIndex, nós o \"achatamos\"\n",
    "#    pegando apenas o primeiro nível dos nomes (ex: de ('Close', 'ITSA4.SA') para 'Close')\n",
    "if isinstance(itsa4.columns, pd.MultiIndex):\n",
    "    print(\"\\nMultiIndex detectado. Corrigindo as colunas...\")\n",
    "    itsa4.columns = itsa4.columns.get_level_values(0)\n",
    "\n",
    "# 4. VERIFICAÇÃO: Checamos os nomes das colunas novamente\n",
    "print(\"\\n--- Nomes das Colunas Corrigidos ---\")\n",
    "print(itsa4.columns)\n",
    "\n",
    "# Agora o DataFrame está pronto para ser usado por outras bibliotecas!\n",
    "print(\"\\n--- Dados com Colunas Corrigidas ---\")\n",
    "print(itsa4.head())"
   ]
  },
  {
   "cell_type": "markdown",
   "id": "a666c1b5",
   "metadata": {},
   "source": [
    "### **3.1.3 python-bcb: Dados Econômicos do Banco Central do Brasil**\n",
    "\n",
    "Para obter dados da economia brasileira, como a taxa Selic, IPCA, IGP-M ou a cotação do dólar, usamos a biblioteca `python-bcb`. Ela se conecta diretamente ao **SGS (Sistema Gerenciador de Séries Temporais)** do Banco Central do Brasil.\n",
    "\n",
    "Primeiro, você precisa instalar a biblioteca no seu terminal."
   ]
  },
  {
   "cell_type": "markdown",
   "id": "f98b0059",
   "metadata": {},
   "source": [
    "**No seu terminal (apenas uma vez):**\n",
    "```bash"
   ]
  },
  {
   "cell_type": "code",
   "execution_count": null,
   "id": "335e3083",
   "metadata": {},
   "outputs": [],
   "source": [
    "pip install python-bcb"
   ]
  },
  {
   "cell_type": "markdown",
   "id": "49c012b0",
   "metadata": {},
   "source": [
    "Cada série de dados no Banco Central tem um código único. Para encontrar o código de uma série, podemos usar a função `sgs.search_sgs()`. Depois, usamos o código encontrado na função `sgs.get()` para baixar os dados."
   ]
  },
  {
   "cell_type": "code",
   "execution_count": null,
   "id": "3ab78578",
   "metadata": {},
   "outputs": [],
   "source": [
    "from bcb import sgs\n",
    "\n",
    "# Vamos usar o código 11, que sabemos ser da taxa Selic diária.\n",
    "# Passamos um dicionário onde a chave é o nome que queremos para a coluna ('Selic') \n",
    "# e o valor é o código (11).\n",
    "selic = sgs.get({'Selic': 11}, start='2023-01-01')\n",
    "\n",
    "print(\"--- Histórico da Taxa Selic Diária ---\")\n",
    "print(selic.tail()) # Usando .tail() para ver os dados mais recentes"
   ]
  },
  {
   "cell_type": "code",
   "execution_count": null,
   "id": "c1718754",
   "metadata": {},
   "outputs": [],
   "source": [
    "# Baixando os últimos 12 meses do IPCA (código 433) e do IGP-M (código 189)\n",
    "inflacao = sgs.get({'IPCA': 433, 'IGP-M': 189}, last=12)\n",
    "\n",
    "print(\"\\n--- Últimos 12 meses de Inflação (IPCA vs IGP-M) ---\")\n",
    "print(inflacao.head())"
   ]
  },
  {
   "cell_type": "markdown",
   "id": "ab454ae2",
   "metadata": {},
   "source": [
    "A busca nos mostra que a taxa Selic diária tem o código **11**. Agora, vamos usar esse código para baixar os dados históricos."
   ]
  },
  {
   "cell_type": "code",
   "execution_count": null,
   "id": "a8472344",
   "metadata": {},
   "outputs": [],
   "source": [
    "# Baixando a série da Selic a partir de 01/01/2023\n",
    "# Passamos um dicionário onde a chave é o nome que queremos para a coluna e o valor é o código\n",
    "selic = sgs.get({'Selic': 11}, start='2023-01-01')\n",
    "\n",
    "print(\"--- Histórico da Taxa Selic Diária ---\")\n",
    "print(selic.head())"
   ]
  },
  {
   "cell_type": "markdown",
   "id": "27038792",
   "metadata": {},
   "source": [
    "Também podemos baixar múltiplas séries de uma vez, passando um dicionário com vários códigos."
   ]
  },
  {
   "cell_type": "code",
   "execution_count": null,
   "id": "ffd7f3f5",
   "metadata": {},
   "outputs": [],
   "source": [
    "# Baixando os últimos 12 meses do IPCA (código 433) e do IGP-M (código 189)\n",
    "inflacao = sgs.get({'IPCA': 433, 'IGP-M': 189}, last=12)\n",
    "\n",
    "print(\"--- Últimos 12 meses de Inflação (IPCA vs IGP-M) ---\")\n",
    "print(inflacao.head())"
   ]
  },
  {
   "cell_type": "markdown",
   "id": "9149c352",
   "metadata": {},
   "source": [
    "## **3.2 Manipulação de Séries Temporais com Pandas**\n",
    "\n",
    "Tanto o `yfinance` quanto o `python-bcb` retornam DataFrames do Pandas, que são perfeitos para análise de séries temporais. A principal característica que torna isso possível é o **`DatetimeIndex`**, um tipo especial de índice composto por datas. Ter as datas como índice nos permite agrupar, fatiar e manipular os dados com base no tempo de forma muito eficiente."
   ]
  },
  {
   "cell_type": "code",
   "execution_count": null,
   "id": "0730d676",
   "metadata": {},
   "outputs": [],
   "source": [
    "import yfinance as yf\n",
    "\n",
    "# Vamos baixar um ativo de exemplo para esta seção\n",
    "itsa4 = yf.download('ITSA4.SA', start='2022-01-01', end='2023-12-31')\n",
    "\n",
    "# Vamos verificar o tipo do índice do nosso DataFrame\n",
    "print(f\"O tipo do índice é: {type(itsa4.index)}\")\n",
    "\n",
    "print(\"\\nVisualizando os dados:\")\n",
    "print(itsa4.head())"
   ]
  },
  {
   "cell_type": "markdown",
   "id": "c53bb6b0",
   "metadata": {},
   "source": [
    "Um DataFrame com `DatetimeIndex` tem dois componentes principais que podemos acessar separadamente:\n",
    "* **`.index`**: O objeto que contém todas as datas (o índice).\n",
    "* **`.values`**: Um array NumPy contendo todos os valores numéricos do DataFrame (os dados em si)."
   ]
  },
  {
   "cell_type": "code",
   "execution_count": null,
   "id": "cdb5a8ca",
   "metadata": {},
   "outputs": [],
   "source": [
    "# Acessando apenas o índice (as datas)\n",
    "print(\"--- Objeto de Índice (Datas) ---\")\n",
    "print(itsa4.index)\n",
    "\n",
    "\n",
    "# Acessando apenas os valores (como uma matriz)\n",
    "print(\"\\n--- Array de Valores ---\")\n",
    "print(itsa4.values)"
   ]
  },
  {
   "cell_type": "markdown",
   "id": "3606844d",
   "metadata": {},
   "source": [
    "### Convertendo a Periodicidade (Resample)\n",
    "\n",
    "Uma das tarefas mais comuns é mudar a frequência dos dados (ex: de diário para mensal). No Pandas, fazemos isso com o método `.resample()`. Ele agrupa os dados por uma nova frequência e depois aplicamos uma função de agregação (como `.last()`, `.first()`, `.sum()`, `.mean()`) para definir como os dados agrupados devem ser representados.\n",
    "\n",
    "Usamos códigos para definir a frequência:\n",
    "* `M`: Fim do Mês (`Month End`)\n",
    "* `MS`: Início do Mês (`Month Start`)\n",
    "* `Q`: Fim do Trimestre (`Quarter End`)\n",
    "* `Y`: Fim do Ano (`Year End`)"
   ]
  },
  {
   "cell_type": "code",
   "execution_count": null,
   "id": "3e26648d",
   "metadata": {},
   "outputs": [],
   "source": [
    "# Resample para dados mensais, pegando o último preço de cada mês\n",
    "itsa4_mensal = itsa4.resample('ME').last()\n",
    "print(\"--- Dados Mensais (Último dia do Mês) ---\")\n",
    "print(itsa4_mensal.head())\n",
    "\n",
    "# Resample para dados trimestrais, calculando o preço médio de cada trimestre\n",
    "itsa4_trimestral = itsa4.resample('QE').mean()\n",
    "print(\"\\n--- Dados Trimestrais (Média do Trimestre) ---\")\n",
    "print(itsa4_trimestral.head())"
   ]
  },
  {
   "cell_type": "markdown",
   "id": "d938bcdd",
   "metadata": {},
   "source": [
    "### Movendo o Índice de Data para uma Coluna\n",
    "\n",
    "Às vezes, é útil ter a data como uma coluna normal do DataFrame em vez de ser o índice. Para fazer isso, usamos o método `.reset_index()`."
   ]
  },
  {
   "cell_type": "code",
   "execution_count": null,
   "id": "67b9bcd9",
   "metadata": {},
   "outputs": [],
   "source": [
    "# Criando uma cópia para não alterar nosso DataFrame original\n",
    "itsa4_com_coluna_data = itsa4.reset_index()\n",
    "\n",
    "print(\"--- DataFrame com a data como coluna ---\")\n",
    "print(itsa4_com_coluna_data.head())"
   ]
  },
  {
   "cell_type": "markdown",
   "id": "ef3f2daa",
   "metadata": {},
   "source": [
    "## **3.3 Selecionando Colunas Específicas (Open, High, Low, Close)**\n",
    "\n",
    "Diferente de algumas bibliotecas do R, o Pandas não precisa de funções \"ajudantes\" (helpers) para selecionar colunas específicas como `Open`, `High`, `Low` ou `Close`.\n",
    "\n",
    "A seleção é feita de forma direta e intuitiva, simplesmente passando o nome da coluna desejada entre colchetes `[]` no DataFrame. O resultado será uma `Series` do Pandas contendo apenas os dados daquela coluna."
   ]
  },
  {
   "cell_type": "code",
   "execution_count": null,
   "id": "de05c89b",
   "metadata": {},
   "outputs": [],
   "source": [
    "# Usando o DataFrame 'itsa4' que fizemos no 3.1.1.\n",
    "\n",
    "# Selecionar apenas a coluna de Fechamento ('Close')\n",
    "precos_fechamento = itsa4['Close']\n",
    "print(\"--- Apenas Preços de Fechamento ---\")\n",
    "print(precos_fechamento.head())\n",
    "\n",
    "\n",
    "# Selecionar apenas a coluna de Abertura ('Open')\n",
    "precos_abertura = itsa4['Open']\n",
    "print(\"\\n--- Apenas Preços de Abertura ---\")\n",
    "print(precos_abertura.head())\n",
    "\n",
    "\n",
    "# Selecionar apenas a coluna de Preço Máximo ('High')\n",
    "precos_maximos = itsa4['High']\n",
    "print(\"\\n--- Apenas Preços Máximos ---\")\n",
    "print(precos_maximos.head())\n"
   ]
  },
  {
   "cell_type": "markdown",
   "id": "e8cf8873",
   "metadata": {},
   "source": [
    "## **3.4 Gráficos Financeiros com mplfinance**\n",
    "\n",
    "Embora possamos fazer gráficos de linha com Seaborn, para visualizações financeiras mais completas (como gráficos de candlestick com volume), usamos uma biblioteca especializada chamada `mplfinance`. Ela é o equivalente direto da função `chartSeries` do R e foi criada para trabalhar perfeitamente com DataFrames do Pandas.\n",
    "\n",
    "Primeiro, você precisa instalar a biblioteca no seu terminal."
   ]
  },
  {
   "cell_type": "markdown",
   "id": "3c6627f9",
   "metadata": {},
   "source": [
    "**No seu terminal (apenas uma vez):**\n",
    "```bash"
   ]
  },
  {
   "cell_type": "code",
   "execution_count": null,
   "id": "4e9c2d1a",
   "metadata": {},
   "outputs": [],
   "source": [
    "pip install mplfinance"
   ]
  },
  {
   "cell_type": "code",
   "execution_count": null,
   "id": "331dfe58",
   "metadata": {},
   "outputs": [],
   "source": [
    "import yfinance as yf\n",
    "import mplfinance as mpf\n",
    "\n",
    "# Vamos usar o DataFrame 'itsa4' que já temos\n",
    "# Caso não o tenha, rode novamente:\n",
    "# itsa4 = yf.download('ITSA4.SA', start='2022-01-01', end='2023-12-31', auto_adjust=True)\n",
    "\n",
    "# Observando a estrutura do DataFrame, note que as colunas podem estar em MultiIndex\n",
    "print(itsa4.info())\n",
    "# Tratando o MultiIndex\n",
    "if isinstance(itsa4.columns, pd.MultiIndex):\n",
    "    print(\"\\nMultiIndex detectado. Corrigindo as colunas...\")\n",
    "    itsa4.columns = itsa4.columns.get_level_values(0)\n",
    "\n",
    "\n",
    "# A função mpf.plot() é a principal da biblioteca.\n",
    "# Por padrão, ela já cria um gráfico de linha para o preço e um painel separado para o volume.\n",
    "mpf.plot(itsa4, \n",
    "         type='line', \n",
    "         title='ITSA4 - 2022 a 2023', \n",
    "         ylabel='Preço (R$)',\n",
    "         volume=True, \n",
    "         ylabel_lower='Volume',\n",
    "         style='yahoo')\n"
   ]
  },
  {
   "cell_type": "markdown",
   "id": "977937dd",
   "metadata": {},
   "source": [
    "A grande vantagem do `mplfinance` é a facilidade para criar gráficos de candlestick. Basta mudar o argumento `type` para `'candle'`. Vamos visualizar apenas os últimos 60 dias de pregão para que os candles fiquem mais visíveis."
   ]
  },
  {
   "cell_type": "code",
   "execution_count": null,
   "id": "50b671f5",
   "metadata": {},
   "outputs": [],
   "source": [
    "# Pegando os últimos 60 dias de dados do nosso DataFrame\n",
    "itsa4_recente = itsa4.tail(60)\n",
    "\n",
    "# Criando o gráfico de candlestick\n",
    "mpf.plot(itsa4_recente, \n",
    "         type='candle', \n",
    "         title='ITSA4 - Últimos 60 Dias', \n",
    "         ylabel='Preço (R$)',\n",
    "         volume=True, \n",
    "         ylabel_lower='Volume',\n",
    "         style='yahoo')"
   ]
  },
  {
   "cell_type": "markdown",
   "id": "4b20d6d3",
   "metadata": {},
   "source": [
    "## **3.5 Juntar Múltiplas Séries Temporais**\n",
    "\n",
    "Na maioria das vezes, especialmente em análise de portfólios, precisamos comparar múltiplos ativos. A melhor forma de fazer isso é ter todas as séries de preços em um único DataFrame, com as datas perfeitamente alinhadas.\n",
    "\n",
    "No Pandas, a função `pd.concat()` é ideal para isso. Ela \"cola\" as séries de dados lado a lado (como colunas), usando o índice de datas para garantir que os preços do \"dia X\" de um ativo fiquem na mesma linha do \"dia X\" dos outros."
   ]
  },
  {
   "cell_type": "code",
   "execution_count": null,
   "id": "78574457",
   "metadata": {},
   "outputs": [],
   "source": [
    "import yfinance as yf\n",
    "import pandas as pd\n",
    "\n",
    "# --- Passo 1: Baixar os dados de cada ativo separadamente ---\n",
    "# (Para este exemplo, vamos pegar dados mensais para simplificar a visualização)\n",
    "petr4 = yf.download('PETR4.SA', start='2022-01-01', end='2023-12-31', interval='1mo', auto_adjust=True)['Close']\n",
    "bbdc4 = yf.download('BBDC4.SA', start='2022-01-01', end='2023-12-31', interval='1mo', auto_adjust=True)['Close']\n",
    "ibov = yf.download('^BVSP', start='2022-01-01', end='2023-12-31', interval='1mo', auto_adjust=True)['Close']\n",
    "\n",
    "\n",
    "# --- Passo 2: Usar pd.concat para juntar as séries em um único DataFrame ---\n",
    "# Criamos uma lista com as Series que queremos juntar\n",
    "lista_de_series = [petr4, bbdc4, ibov]\n",
    "\n",
    "# axis=1 significa que queremos \"colar\" as séries como colunas, lado a lado\n",
    "portfolio = pd.concat(lista_de_series, axis=1)\n",
    "\n",
    "\n",
    "# --- Passo 3: Renomear as colunas para facilitar a identificação ---\n",
    "portfolio.columns = ['PETR4', 'BBDC4', 'IBOV']\n",
    "\n",
    "\n",
    "# --- Passo 4: Visualizar o resultado ---\n",
    "print(\"--- DataFrame Combinado ---\")\n",
    "print(portfolio.head())"
   ]
  },
  {
   "cell_type": "markdown",
   "id": "5dcc58b5",
   "metadata": {},
   "source": [
    "Embora seja importante saber juntar dados manualmente, a biblioteca `yfinance` permite baixar os dados de múltiplos ativos de uma só vez, o que é bem mais prático!"
   ]
  },
  {
   "cell_type": "code",
   "execution_count": null,
   "id": "b5cdf0fc",
   "metadata": {},
   "outputs": [],
   "source": [
    "tickers = ['PETR4.SA', 'BBDC4.SA', '^BVSP']\n",
    "\n",
    "portfolio_rapido = yf.download(tickers, start='2022-01-01', end='2023-12-31', interval='1mo', auto_adjust=True)['Close']\n",
    "\n",
    "print(portfolio_rapido.head())"
   ]
  },
  {
   "cell_type": "markdown",
   "id": "d6d443f2",
   "metadata": {},
   "source": [
    "## **3.6 Case Prático: Calculando o IBOVESPA em Dólar**\n",
    "\n",
    "Neste case, vamos aplicar nossas habilidades para criar uma nova série de dados: o valor do índice IBOVESPA cotado em dólares americanos. Isso nos permite analisar o desempenho da bolsa brasileira sob a perspectiva de um investidor estrangeiro.\n",
    "\n",
    "O processo será:\n",
    "1.  Baixar a série de pontos do IBOVESPA (`^BVSP`) usando o `yfinance`.\n",
    "2.  Baixar a série da taxa de câmbio PTAX de Dólar para Real (venda) usando o `python-bcb`.\n",
    "3.  Juntar e alinhar as duas séries de dados.\n",
    "4.  Dividir os pontos do IBOVESPA pela cotação do dólar.\n",
    "5.  Visualizar o resultado."
   ]
  },
  {
   "cell_type": "code",
   "execution_count": null,
   "id": "8adba05b",
   "metadata": {},
   "outputs": [],
   "source": [
    "import yfinance as yf\n",
    "from bcb import sgs\n",
    "import pandas as pd\n",
    "import matplotlib.pyplot as plt\n",
    "\n",
    "dolar = sgs.get({'USDBRL': 1}, start='2020-01-01', end='2023-12-31')\n",
    "print(dolar.head())\n",
    "if isinstance(dolar.columns, pd.MultiIndex):\n",
    "    dolar.columns = dolar.columns.get_level_values(0)\n",
    "    \n",
    "print(dolar.head())"
   ]
  },
  {
   "cell_type": "code",
   "execution_count": null,
   "id": "403c8231",
   "metadata": {},
   "outputs": [],
   "source": [
    "import yfinance as yf\n",
    "from bcb import sgs\n",
    "import pandas as pd\n",
    "import matplotlib.pyplot as plt\n",
    "\n",
    "# --- Passo 1: Baixar os dados e tratar multindex ---\n",
    "print(\"Baixando dados...\")\n",
    "ibov_df = yf.download('^BVSP', start='2020-01-01', end='2023-12-31', auto_adjust=True)\n",
    "dolar_df = sgs.get({'USDBRL': 1}, start='2020-01-01', end='2023-12-31')\n",
    "\n",
    "print(ibov_df.columns)\n",
    "\n",
    "if isinstance(ibov_df.columns, pd.MultiIndex):\n",
    "    print(\"\\nMultiIndex detectado no IBOV. Corrigindo as colunas...\")\n",
    "    ibov_df.columns = ibov_df.columns.get_level_values(0)\n",
    "\n",
    "print(ibov_df.columns)\n",
    "\n",
    "# --- Passo 2: Selecionar APENAS a Series de dados que nos interessa de cada tabela ---\n",
    "# Para o IBOV, pegamos a coluna 'Close'\n",
    "ibov_series = ibov_df['Close']\n",
    "# Para o Dólar, pegamos a coluna 'USDBRL'\n",
    "dolar_series = dolar_df['USDBRL']\n",
    "\n",
    "\n",
    "# --- Passo 3: Juntar as duas Series em um novo DataFrame ---\n",
    "# O Pandas usará automaticamente os nomes das Series como nomes das colunas\n",
    "dados_combinados = pd.concat([ibov_series, dolar_series], axis=1)\n",
    "\n",
    "\n",
    "# --- Passo 4: Tratar dados faltantes (feriados, etc.) ---\n",
    "# .ffill() preenche dias sem dados com o último valor válido\n",
    "dados_combinados = dados_combinados.ffill()\n",
    "dados_combinados = dados_combinados.dropna() # Remove qualquer linha que ainda esteja vazia\n",
    "\n",
    "\n",
    "# --- Passo 5: Calcular o IBOVESPA em Dólar ---\n",
    "# Agora os nomes das colunas são simples e o cálculo funciona!\n",
    "dados_combinados['IBOV_USD'] = dados_combinados['Close'] / dados_combinados['USDBRL']\n",
    "\n",
    "\n",
    "# --- Passo 6: Visualizar o resultado ---\n",
    "print(\"\\n--- Tabela Final com IBOV em USD ---\")\n",
    "print(dados_combinados.tail())\n",
    "\n",
    "# Plotando o gráfico\n",
    "dados_combinados['IBOV_USD'].plot(figsize=(12, 6), title='IBOVESPA em Dólar (USD)')\n",
    "plt.ylabel('Pontos (USD)')\n",
    "plt.grid(True)\n",
    "plt.show()"
   ]
  },
  {
   "cell_type": "markdown",
   "id": "5472aa6c",
   "metadata": {},
   "source": [
    "Parabéns por concluir o Capítulo 3!\n",
    "\n",
    "Você agora tem uma base sólida para obter e preparar dados financeiros em Python. Você aprendeu a:\n",
    "* Baixar cotações de ações com `yfinance`.\n",
    "* Obter dados macroeconômicos do Banco Central com `python-bcb`.\n",
    "* Manipular e converter a periodicidade de séries temporais com `pandas`.\n",
    "* Juntar diferentes conjuntos de dados e realizar cálculos entre eles.\n",
    "\n",
    "Com essas habilidades, estamos prontos para começar a **análise** desses dados no **Capítulo 4: Análise de Retornos**."
   ]
  }
 ],
 "metadata": {
  "kernelspec": {
   "display_name": ".venv",
   "language": "python",
   "name": "python3"
  },
  "language_info": {
   "codemirror_mode": {
    "name": "ipython",
    "version": 3
   },
   "file_extension": ".py",
   "mimetype": "text/x-python",
   "name": "python",
   "nbconvert_exporter": "python",
   "pygments_lexer": "ipython3",
   "version": "3.12.2"
  }
 },
 "nbformat": 4,
 "nbformat_minor": 5
}
