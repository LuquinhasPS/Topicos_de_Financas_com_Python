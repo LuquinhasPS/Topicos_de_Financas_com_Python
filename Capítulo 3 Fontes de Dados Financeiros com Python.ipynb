{
 "cells": [
  {
   "cell_type": "markdown",
   "id": "85698a56",
   "metadata": {},
   "source": [
    "# **Capítulo 3: Fontes de Dados Financeiros com Python**\n",
    "\n",
    "Neste capítulo, vamos aprender a usar bibliotecas Python especializadas para buscar dados financeiros diretamente de fontes online, como cotações de ações, moedas e indicadores econômicos. Isso elimina a necessidade de baixar arquivos manualmente."
   ]
  },
  {
   "cell_type": "markdown",
   "id": "ec451cea",
   "metadata": {},
   "source": [
    "## **3.1 Bibliotecas para Dados Financeiros**\n",
    "\n",
    "Existem diversas bibliotecas em Python para se conectar a fontes de dados (APIs). As duas que usaremos como principais exemplos são:\n",
    "\n",
    "1.  **`yfinance`**: Uma biblioteca extremamente popular para baixar dados de cotações de ações, ETFs e índices do Yahoo Finance.\n",
    "2.  **`python-bcb`**: Para obter séries temporais de dados econômicos brasileiros diretamente do Sistema Gerenciador de Séries Temporais (SGS) do Banco Central do Brasil."
   ]
  },
  {
   "cell_type": "markdown",
   "id": "e054b30c",
   "metadata": {},
   "source": [
    "### **3.1.1 yfinance: Cotações de Ações e Índices**\n",
    "\n",
    "O `yfinance` é a ferramenta ideal para obter dados de ativos negociados em bolsa. Para ações brasileiras, usamos o mesmo código do home broker, adicionando o sufixo `.SA` (ex: `PETR4.SA`). A principal função que usaremos é a `yf.download()`.\n",
    "\n",
    "Primeiro, você precisa instalar a biblioteca no seu terminal."
   ]
  },
  {
   "cell_type": "markdown",
   "id": "76a87547",
   "metadata": {},
   "source": [
    "**No seu terminal (apenas uma vez):**\n",
    "```bash"
   ]
  },
  {
   "cell_type": "code",
   "execution_count": null,
   "id": "9f62c694",
   "metadata": {},
   "outputs": [],
   "source": [
    "pip install yfinance"
   ]
  },
  {
   "cell_type": "markdown",
   "id": "8b4acf5f",
   "metadata": {},
   "source": [
    "Um passo fundamental após carregar um conjunto de dados é inspecioná-lo para garantir que tudo está correto. Vamos dar uma olhada nas primeiras e últimas linhas do nosso DataFrame da PETR4.\n",
    "\n",
    "Para isso, usamos dois métodos muito úteis do Pandas:\n",
    "* `.head()`: Exibe as 5 primeiras linhas.\n",
    "* `.tail()`: Exibe as 5 últimas linhas."
   ]
  },
  {
   "cell_type": "code",
   "execution_count": null,
   "id": "344f1c72",
   "metadata": {},
   "outputs": [],
   "source": [
    "import yfinance as yf\n",
    "\n",
    "# Baixando dados diários da Petrobras (PETR4) para o ano de 2023\n",
    "# A função retorna um DataFrame do Pandas\n",
    "petr4 = yf.download('PETR4.SA', start='2023-01-01', end='2023-12-31', auto_adjust=False)\n",
    "\n",
    "# Exibindo as 5 primeiras linhas\n",
    "print(\"--- Dados da PETR4 ---\")\n",
    "print(petr4.head())\n",
    "\n",
    "# Exibindo as 5 últimas linhas\n",
    "print(\"\\n--- Fim dos Dados da PETR4 ---\")\n",
    "print(petr4.tail())"
   ]
  },
  {
   "cell_type": "markdown",
   "id": "35395725",
   "metadata": {},
   "source": [
    "A função retorna um DataFrame com as seguintes colunas: `Open` (abertura), `High` (máxima), `Low` (mínima), `Close` (fechamento), `Adj Close` (fechamento ajustado para proventos) e `Volume`.\n",
    "\n",
    "Também podemos baixar dados de múltiplos ativos de uma só vez."
   ]
  },
  {
   "cell_type": "code",
   "execution_count": null,
   "id": "5a9603b6",
   "metadata": {},
   "outputs": [],
   "source": [
    "import yfinance as yf\n",
    "\n",
    "# Definindo os tickers e o período\n",
    "tickers = ['ITSA4.SA', 'VALE3.SA', '^BVSP']\n",
    "start_date = '2023-01-01'\n",
    "end_date = '2023-12-31'\n",
    "\n",
    "# 1. Baixamos o DataFrame completo, com todos os dados (Open, High, Low, Close, etc.)\n",
    "dados_completos = yf.download(tickers, start=start_date, end=end_date, auto_adjust=False)\n",
    "\n",
    "# 2. (Opcional) Vamos inspecionar a estrutura das colunas para entender\n",
    "print(\"--- Estrutura das Colunas (MultiIndex) ---\")\n",
    "print(dados_completos.columns)\n",
    "\n",
    "# 3. Agora, selecionamos o nível superior 'Adj Close'. Isso nos dará um DataFrame\n",
    "#    apenas com os preços de fechamento ajustado de todos os tickers.\n",
    "dados_adj_close = dados_completos['Adj Close']\n",
    "dados_close = dados_completos['Close']\n",
    "\n",
    "# 4. Exibindo as 5 primeiras linhas do resultado correto\n",
    "print(\"\\n--- DataFrame Apenas com 'Adj Close' ---\")\n",
    "print(dados_adj_close.head())\n",
    "print(\"\\n--- DataFrame Apenas com 'Close' ---\")\n",
    "print(dados_close.head())"
   ]
  },
  {
   "cell_type": "markdown",
   "id": "55bff831",
   "metadata": {},
   "source": [
    "### **3.1.2 Verificando e Corrigindo os Dados do yfinance (Tratando MultiIndex)**\n",
    "\n",
    "Um passo crucial após baixar dados é sempre **verificar sua estrutura**. Dependendo da versão do `yfinance` ou do número de ativos baixados, os nomes das colunas podem vir em um formato chamado **MultiIndex** (nomes compostos, como `('Close', 'ITSA4.SA')`).\n",
    "\n",
    "Bibliotecas de plotagem como a `mplfinance` esperam nomes de colunas simples (como `'Close'`). Se encontrarmos um MultiIndex, precisamos \"achatá-lo\" para usar os dados.\n",
    "\n",
    "Vamos ver como diagnosticar e corrigir isso."
   ]
  },
  {
   "cell_type": "code",
   "execution_count": null,
   "id": "6f4f71da",
   "metadata": {},
   "outputs": [],
   "source": [
    "import yfinance as yf\n",
    "import pandas as pd\n",
    "\n",
    "# 1. Baixamos os dados de um único ativo\n",
    "itsa4 = yf.download('ITSA4.SA', start='2023-01-01', end='2023-12-31')\n",
    "\n",
    "# 2. DIAGNÓSTICO: Verificamos como vieram os nomes das colunas\n",
    "print(\"--- Nomes das Colunas Originais ---\")\n",
    "print(itsa4.columns)\n",
    "\n",
    "# 3. CORREÇÃO: Se as colunas forem um MultiIndex, nós o \"achatamos\"\n",
    "#    pegando apenas o primeiro nível dos nomes (ex: de ('Close', 'ITSA4.SA') para 'Close')\n",
    "if isinstance(itsa4.columns, pd.MultiIndex):\n",
    "    print(\"\\nMultiIndex detectado. Corrigindo as colunas...\")\n",
    "    itsa4.columns = itsa4.columns.get_level_values(0)\n",
    "\n",
    "# 4. VERIFICAÇÃO: Checamos os nomes das colunas novamente\n",
    "print(\"\\n--- Nomes das Colunas Corrigidos ---\")\n",
    "print(itsa4.columns)\n",
    "\n",
    "# Agora o DataFrame está pronto para ser usado por outras bibliotecas!\n",
    "print(\"\\n--- Dados com Colunas Corrigidas ---\")\n",
    "print(itsa4.head())"
   ]
  },
  {
   "cell_type": "markdown",
   "id": "a666c1b5",
   "metadata": {},
   "source": [
    "### **3.1.3 python-bcb: Dados Econômicos do Banco Central do Brasil**\n",
    "\n",
    "Para obter dados da economia brasileira, como a taxa Selic, IPCA, IGP-M ou a cotação do dólar, usamos a biblioteca `python-bcb`. Ela se conecta diretamente ao **SGS (Sistema Gerenciador de Séries Temporais)** do Banco Central do Brasil.\n",
    "\n",
    "Primeiro, você precisa instalar a biblioteca no seu terminal."
   ]
  },
  {
   "cell_type": "markdown",
   "id": "f98b0059",
   "metadata": {},
   "source": [
    "**No seu terminal (apenas uma vez):**\n",
    "```bash"
   ]
  },
  {
   "cell_type": "code",
   "execution_count": null,
   "id": "335e3083",
   "metadata": {},
   "outputs": [],
   "source": [
    "pip install python-bcb"
   ]
  },
  {
   "cell_type": "markdown",
   "id": "49c012b0",
   "metadata": {},
   "source": [
    "Cada série de dados no Banco Central tem um código único. Para encontrar o código de uma série, podemos usar a função `sgs.search_sgs()`. Depois, usamos o código encontrado na função `sgs.get()` para baixar os dados."
   ]
  },
  {
   "cell_type": "code",
   "execution_count": null,
   "id": "3ab78578",
   "metadata": {},
   "outputs": [
    {
     "name": "stdout",
     "output_type": "stream",
     "text": [
      "--- Histórico da Taxa Selic Diária ---\n",
      "               Selic\n",
      "Date                \n",
      "2025-09-15  0.055131\n",
      "2025-09-16  0.055131\n",
      "2025-09-17  0.055131\n",
      "2025-09-18  0.055131\n",
      "2025-09-19  0.055131\n"
     ]
    }
   ],
   "source": [
    "from bcb import sgs\n",
    "\n",
    "# Vamos usar o código 11, que sabemos ser da taxa Selic diária.\n",
    "# Passamos um dicionário onde a chave é o nome que queremos para a coluna ('Selic') \n",
    "# e o valor é o código (11).\n",
    "selic = sgs.get({'Selic': 11}, start='2023-01-01')\n",
    "\n",
    "print(\"--- Histórico da Taxa Selic Diária ---\")\n",
    "print(selic.tail()) # Usando .tail() para ver os dados mais recentes"
   ]
  },
  {
   "cell_type": "code",
   "execution_count": null,
   "id": "c1718754",
   "metadata": {},
   "outputs": [
    {
     "name": "stdout",
     "output_type": "stream",
     "text": [
      "\n",
      "--- Últimos 12 meses de Inflação (IPCA vs IGP-M) ---\n",
      "            IPCA  IGP-M\n",
      "Date                   \n",
      "2024-09-01  0.44   0.62\n",
      "2024-10-01  0.56   1.52\n",
      "2024-11-01  0.39   1.30\n",
      "2024-12-01  0.52   0.94\n",
      "2025-01-01  0.16   0.27\n"
     ]
    }
   ],
   "source": [
    "# Baixando os últimos 12 meses do IPCA (código 433) e do IGP-M (código 189)\n",
    "inflacao = sgs.get({'IPCA': 433, 'IGP-M': 189}, last=12)\n",
    "\n",
    "print(\"\\n--- Últimos 12 meses de Inflação (IPCA vs IGP-M) ---\")\n",
    "print(inflacao.head())"
   ]
  },
  {
   "cell_type": "markdown",
   "id": "ab454ae2",
   "metadata": {},
   "source": [
    "A busca nos mostra que a taxa Selic diária tem o código **11**. Agora, vamos usar esse código para baixar os dados históricos."
   ]
  },
  {
   "cell_type": "code",
   "execution_count": null,
   "id": "a8472344",
   "metadata": {},
   "outputs": [
    {
     "name": "stdout",
     "output_type": "stream",
     "text": [
      "--- Histórico da Taxa Selic Diária ---\n",
      "               Selic\n",
      "Date                \n",
      "2023-01-02  0.050788\n",
      "2023-01-03  0.050788\n",
      "2023-01-04  0.050788\n",
      "2023-01-05  0.050788\n",
      "2023-01-06  0.050788\n"
     ]
    }
   ],
   "source": [
    "# Baixando a série da Selic a partir de 01/01/2023\n",
    "# Passamos um dicionário onde a chave é o nome que queremos para a coluna e o valor é o código\n",
    "selic = sgs.get({'Selic': 11}, start='2023-01-01')\n",
    "\n",
    "print(\"--- Histórico da Taxa Selic Diária ---\")\n",
    "print(selic.head())"
   ]
  },
  {
   "cell_type": "markdown",
   "id": "27038792",
   "metadata": {},
   "source": [
    "Também podemos baixar múltiplas séries de uma vez, passando um dicionário com vários códigos."
   ]
  },
  {
   "cell_type": "code",
   "execution_count": null,
   "id": "ffd7f3f5",
   "metadata": {},
   "outputs": [
    {
     "name": "stdout",
     "output_type": "stream",
     "text": [
      "--- Últimos 12 meses de Inflação (IPCA vs IGP-M) ---\n",
      "            IPCA  IGP-M\n",
      "Date                   \n",
      "2024-09-01  0.44   0.62\n",
      "2024-10-01  0.56   1.52\n",
      "2024-11-01  0.39   1.30\n",
      "2024-12-01  0.52   0.94\n",
      "2025-01-01  0.16   0.27\n"
     ]
    }
   ],
   "source": [
    "# Baixando os últimos 12 meses do IPCA (código 433) e do IGP-M (código 189)\n",
    "inflacao = sgs.get({'IPCA': 433, 'IGP-M': 189}, last=12)\n",
    "\n",
    "print(\"--- Últimos 12 meses de Inflação (IPCA vs IGP-M) ---\")\n",
    "print(inflacao.head())"
   ]
  },
  {
   "cell_type": "markdown",
   "id": "9149c352",
   "metadata": {},
   "source": [
    "## **3.2 Manipulação de Séries Temporais com Pandas**\n",
    "\n",
    "Tanto o `yfinance` quanto o `python-bcb` retornam DataFrames do Pandas, que são perfeitos para análise de séries temporais. A principal característica que torna isso possível é o **`DatetimeIndex`**, um tipo especial de índice composto por datas. Ter as datas como índice nos permite agrupar, fatiar e manipular os dados com base no tempo de forma muito eficiente."
   ]
  },
  {
   "cell_type": "code",
   "execution_count": null,
   "id": "0730d676",
   "metadata": {},
   "outputs": [
    {
     "name": "stderr",
     "output_type": "stream",
     "text": [
      "C:\\Users\\LUCAS\\AppData\\Local\\Temp\\ipykernel_30600\\3949910058.py:4: FutureWarning: YF.download() has changed argument auto_adjust default to True\n",
      "  itsa4 = yf.download('ITSA4.SA', start='2022-01-01', end='2023-12-31')\n",
      "[*********************100%***********************]  1 of 1 completed"
     ]
    },
    {
     "name": "stdout",
     "output_type": "stream",
     "text": [
      "O tipo do índice é: <class 'pandas.core.indexes.datetimes.DatetimeIndex'>\n",
      "\n",
      "Visualizando os dados:\n",
      "Price          Close      High       Low      Open    Volume\n",
      "Ticker      ITSA4.SA  ITSA4.SA  ITSA4.SA  ITSA4.SA  ITSA4.SA\n",
      "Date                                                        \n",
      "2022-01-03  5.547343  5.651894  5.485842  5.547343  34761437\n",
      "2022-01-04  5.590394  5.639594  5.516593  5.553493  47291709\n",
      "2022-01-05  5.528891  5.602692  5.485841  5.565792  42275995\n",
      "2022-01-06  5.578093  5.621143  5.498142  5.522742  30914401\n",
      "2022-01-07  5.645742  5.651893  5.541192  5.578092  26119001\n"
     ]
    },
    {
     "name": "stderr",
     "output_type": "stream",
     "text": [
      "\n"
     ]
    }
   ],
   "source": [
    "import yfinance as yf\n",
    "\n",
    "# Vamos baixar um ativo de exemplo para esta seção\n",
    "itsa4 = yf.download('ITSA4.SA', start='2022-01-01', end='2023-12-31')\n",
    "\n",
    "# Vamos verificar o tipo do índice do nosso DataFrame\n",
    "print(f\"O tipo do índice é: {type(itsa4.index)}\")\n",
    "\n",
    "print(\"\\nVisualizando os dados:\")\n",
    "print(itsa4.head())"
   ]
  },
  {
   "cell_type": "markdown",
   "id": "c53bb6b0",
   "metadata": {},
   "source": [
    "Um DataFrame com `DatetimeIndex` tem dois componentes principais que podemos acessar separadamente:\n",
    "* **`.index`**: O objeto que contém todas as datas (o índice).\n",
    "* **`.values`**: Um array NumPy contendo todos os valores numéricos do DataFrame (os dados em si)."
   ]
  },
  {
   "cell_type": "code",
   "execution_count": null,
   "id": "cdb5a8ca",
   "metadata": {},
   "outputs": [
    {
     "name": "stdout",
     "output_type": "stream",
     "text": [
      "--- Objeto de Índice (Datas) ---\n",
      "DatetimeIndex(['2022-01-03', '2022-01-04', '2022-01-05', '2022-01-06',\n",
      "               '2022-01-07', '2022-01-10', '2022-01-11', '2022-01-12',\n",
      "               '2022-01-13', '2022-01-14',\n",
      "               ...\n",
      "               '2023-12-14', '2023-12-15', '2023-12-18', '2023-12-19',\n",
      "               '2023-12-20', '2023-12-21', '2023-12-22', '2023-12-26',\n",
      "               '2023-12-27', '2023-12-28'],\n",
      "              dtype='datetime64[ns]', name='Date', length=498, freq=None)\n",
      "\n",
      "--- Array de Valores ---\n",
      "[[5.54734325e+00 5.65189408e+00 5.48584243e+00 5.54734325e+00\n",
      "  3.47614370e+07]\n",
      " [5.59039402e+00 5.63959418e+00 5.51659324e+00 5.55349345e+00\n",
      "  4.72917090e+07]\n",
      " [5.52889109e+00 5.60269184e+00 5.48584074e+00 5.56579164e+00\n",
      "  4.22759950e+07]\n",
      " ...\n",
      " [8.35017681e+00 8.35830001e+00 8.27707129e+00 8.32580803e+00\n",
      "  1.36998750e+07]\n",
      " [8.41515923e+00 8.44765039e+00 8.30956415e+00 8.32580892e+00\n",
      "  2.03495250e+07]\n",
      " [8.42328358e+00 8.44765155e+00 8.36642362e+00 8.41516038e+00\n",
      "  2.45856450e+07]]\n"
     ]
    }
   ],
   "source": [
    "# Acessando apenas o índice (as datas)\n",
    "print(\"--- Objeto de Índice (Datas) ---\")\n",
    "print(itsa4.index)\n",
    "\n",
    "\n",
    "# Acessando apenas os valores (como uma matriz)\n",
    "print(\"\\n--- Array de Valores ---\")\n",
    "print(itsa4.values)"
   ]
  },
  {
   "cell_type": "markdown",
   "id": "3606844d",
   "metadata": {},
   "source": [
    "### Convertendo a Periodicidade (Resample)\n",
    "\n",
    "Uma das tarefas mais comuns é mudar a frequência dos dados (ex: de diário para mensal). No Pandas, fazemos isso com o método `.resample()`. Ele agrupa os dados por uma nova frequência e depois aplicamos uma função de agregação (como `.last()`, `.first()`, `.sum()`, `.mean()`) para definir como os dados agrupados devem ser representados.\n",
    "\n",
    "Usamos códigos para definir a frequência:\n",
    "* `M`: Fim do Mês (`Month End`)\n",
    "* `MS`: Início do Mês (`Month Start`)\n",
    "* `Q`: Fim do Trimestre (`Quarter End`)\n",
    "* `Y`: Fim do Ano (`Year End`)"
   ]
  },
  {
   "cell_type": "code",
   "execution_count": null,
   "id": "3e26648d",
   "metadata": {},
   "outputs": [
    {
     "name": "stdout",
     "output_type": "stream",
     "text": [
      "--- Dados Mensais (Último dia do Mês) ---\n",
      "Price          Close      High       Low      Open    Volume\n",
      "Ticker      ITSA4.SA  ITSA4.SA  ITSA4.SA  ITSA4.SA  ITSA4.SA\n",
      "Date                                                        \n",
      "2022-01-31  6.354132  6.397781  6.235654  6.266832  33804672\n",
      "2022-02-28  6.248126  6.254361  6.135884  6.160826  34463544\n",
      "2022-03-31  6.773340  6.880453  6.767039  6.842648  16056397\n",
      "2022-04-30  5.803020  6.017246  5.796719  5.929035  40665594\n",
      "2022-05-31  6.042450  6.073954  5.960540  5.985743  48779592\n",
      "\n",
      "--- Dados Trimestrais (Média do Trimestre) ---\n",
      "Price          Close      High       Low      Open        Volume\n",
      "Ticker      ITSA4.SA  ITSA4.SA  ITSA4.SA  ITSA4.SA      ITSA4.SA\n",
      "Date                                                            \n",
      "2022-03-31  6.233499  6.294401  6.156407  6.218140  3.225892e+07\n",
      "2022-06-30  5.905954  5.979601  5.856838  5.934849  2.883327e+07\n",
      "2022-09-30  5.732475  5.782818  5.667512  5.716477  2.436769e+07\n",
      "2022-12-31  6.324385  6.409759  6.236554  6.324591  3.240860e+07\n",
      "2023-03-31  6.033171  6.109921  5.965574  6.038666  2.458020e+07\n"
     ]
    }
   ],
   "source": [
    "# Resample para dados mensais, pegando o último preço de cada mês\n",
    "itsa4_mensal = itsa4.resample('ME').last()\n",
    "print(\"--- Dados Mensais (Último dia do Mês) ---\")\n",
    "print(itsa4_mensal.head())\n",
    "\n",
    "# Resample para dados trimestrais, calculando o preço médio de cada trimestre\n",
    "itsa4_trimestral = itsa4.resample('QE').mean()\n",
    "print(\"\\n--- Dados Trimestrais (Média do Trimestre) ---\")\n",
    "print(itsa4_trimestral.head())"
   ]
  },
  {
   "cell_type": "markdown",
   "id": "d938bcdd",
   "metadata": {},
   "source": [
    "### Movendo o Índice de Data para uma Coluna\n",
    "\n",
    "Às vezes, é útil ter a data como uma coluna normal do DataFrame em vez de ser o índice. Para fazer isso, usamos o método `.reset_index()`."
   ]
  },
  {
   "cell_type": "code",
   "execution_count": null,
   "id": "67b9bcd9",
   "metadata": {},
   "outputs": [
    {
     "name": "stdout",
     "output_type": "stream",
     "text": [
      "--- DataFrame com a data como coluna ---\n",
      "Price        Date     Close      High       Low      Open    Volume\n",
      "Ticker             ITSA4.SA  ITSA4.SA  ITSA4.SA  ITSA4.SA  ITSA4.SA\n",
      "0      2022-01-03  5.547343  5.651894  5.485842  5.547343  34761437\n",
      "1      2022-01-04  5.590394  5.639594  5.516593  5.553493  47291709\n",
      "2      2022-01-05  5.528891  5.602692  5.485841  5.565792  42275995\n",
      "3      2022-01-06  5.578093  5.621143  5.498142  5.522742  30914401\n",
      "4      2022-01-07  5.645742  5.651893  5.541192  5.578092  26119001\n"
     ]
    }
   ],
   "source": [
    "# Criando uma cópia para não alterar nosso DataFrame original\n",
    "itsa4_com_coluna_data = itsa4.reset_index()\n",
    "\n",
    "print(\"--- DataFrame com a data como coluna ---\")\n",
    "print(itsa4_com_coluna_data.head())"
   ]
  },
  {
   "cell_type": "markdown",
   "id": "ef3f2daa",
   "metadata": {},
   "source": [
    "## **3.3 Selecionando Colunas Específicas (Open, High, Low, Close)**\n",
    "\n",
    "Diferente de algumas bibliotecas do R, o Pandas não precisa de funções \"ajudantes\" (helpers) para selecionar colunas específicas como `Open`, `High`, `Low` ou `Close`.\n",
    "\n",
    "A seleção é feita de forma direta e intuitiva, simplesmente passando o nome da coluna desejada entre colchetes `[]` no DataFrame. O resultado será uma `Series` do Pandas contendo apenas os dados daquela coluna."
   ]
  },
  {
   "cell_type": "code",
   "execution_count": null,
   "id": "de05c89b",
   "metadata": {},
   "outputs": [
    {
     "name": "stdout",
     "output_type": "stream",
     "text": [
      "--- Apenas Preços de Fechamento ---\n",
      "Ticker      ITSA4.SA\n",
      "Date                \n",
      "2022-01-03  5.547343\n",
      "2022-01-04  5.590394\n",
      "2022-01-05  5.528891\n",
      "2022-01-06  5.578093\n",
      "2022-01-07  5.645742\n",
      "\n",
      "--- Apenas Preços de Abertura ---\n",
      "Ticker      ITSA4.SA\n",
      "Date                \n",
      "2022-01-03  5.547343\n",
      "2022-01-04  5.553493\n",
      "2022-01-05  5.565792\n",
      "2022-01-06  5.522742\n",
      "2022-01-07  5.578092\n",
      "\n",
      "--- Apenas Preços Máximos ---\n",
      "Ticker      ITSA4.SA\n",
      "Date                \n",
      "2022-01-03  5.651894\n",
      "2022-01-04  5.639594\n",
      "2022-01-05  5.602692\n",
      "2022-01-06  5.621143\n",
      "2022-01-07  5.651893\n",
      "\n",
      "--- Apenas Preços de Fechamento Ajustado (ITSA4.SA) ---\n",
      "Date\n",
      "2023-01-02    6.042830\n",
      "2023-01-03    5.891039\n",
      "2023-01-04    5.941634\n",
      "2023-01-05    6.028374\n",
      "2023-01-06    6.129570\n",
      "Name: ITSA4.SA, dtype: float64\n"
     ]
    }
   ],
   "source": [
    "# Usando o DataFrame 'itsa4' que já baixamos e o dados_adj_close que fizemos no 3.1.1\n",
    "\n",
    "# Selecionar apenas a coluna de Fechamento ('Close')\n",
    "precos_fechamento = itsa4['Close']\n",
    "print(\"--- Apenas Preços de Fechamento ---\")\n",
    "print(precos_fechamento.head())\n",
    "\n",
    "\n",
    "# Selecionar apenas a coluna de Abertura ('Open')\n",
    "precos_abertura = itsa4['Open']\n",
    "print(\"\\n--- Apenas Preços de Abertura ---\")\n",
    "print(precos_abertura.head())\n",
    "\n",
    "\n",
    "# Selecionar apenas a coluna de Preço Máximo ('High')\n",
    "precos_maximos = itsa4['High']\n",
    "print(\"\\n--- Apenas Preços Máximos ---\")\n",
    "print(precos_maximos.head())\n",
    "\n",
    "\n",
    "# Selecionar a coluna de Fechamento Ajustado ('Adj Close') usando o DataFrame correto\n",
    "precos_ajustados = dados_adj_close['ITSA4.SA']\n",
    "print(\"\\n--- Apenas Preços de Fechamento Ajustado (ITSA4.SA) ---\")\n",
    "print(precos_ajustados.head())"
   ]
  },
  {
   "cell_type": "markdown",
   "id": "e8cf8873",
   "metadata": {},
   "source": [
    "## **3.4 Gráficos Financeiros com mplfinance**\n",
    "\n",
    "Embora possamos fazer gráficos de linha com Seaborn, para visualizações financeiras mais completas (como gráficos de candlestick com volume), usamos uma biblioteca especializada chamada `mplfinance`. Ela é o equivalente direto da função `chartSeries` do R e foi criada para trabalhar perfeitamente com DataFrames do Pandas.\n",
    "\n",
    "Primeiro, você precisa instalar a biblioteca no seu terminal."
   ]
  },
  {
   "cell_type": "markdown",
   "id": "3c6627f9",
   "metadata": {},
   "source": [
    "**No seu terminal (apenas uma vez):**\n",
    "```bash"
   ]
  },
  {
   "cell_type": "code",
   "execution_count": null,
   "id": "4e9c2d1a",
   "metadata": {},
   "outputs": [],
   "source": [
    "pip install mplfinance"
   ]
  },
  {
   "cell_type": "code",
   "execution_count": null,
   "id": "331dfe58",
   "metadata": {},
   "outputs": [
    {
     "name": "stderr",
     "output_type": "stream",
     "text": [
      "C:\\Users\\LUCAS\\AppData\\Local\\Temp\\ipykernel_30600\\2844297466.py:6: FutureWarning: YF.download() has changed argument auto_adjust default to True\n",
      "  itsa4 = yf.download('ITSA4.SA', start='2022-01-01', end='2023-12-31')\n",
      "[*********************100%***********************]  1 of 1 completed\n"
     ]
    },
    {
     "name": "stdout",
     "output_type": "stream",
     "text": [
      "<class 'pandas.core.frame.DataFrame'>\n",
      "DatetimeIndex: 498 entries, 2022-01-03 to 2023-12-28\n",
      "Data columns (total 5 columns):\n",
      " #   Column              Non-Null Count  Dtype  \n",
      "---  ------              --------------  -----  \n",
      " 0   (Close, ITSA4.SA)   498 non-null    float64\n",
      " 1   (High, ITSA4.SA)    498 non-null    float64\n",
      " 2   (Low, ITSA4.SA)     498 non-null    float64\n",
      " 3   (Open, ITSA4.SA)    498 non-null    float64\n",
      " 4   (Volume, ITSA4.SA)  498 non-null    int64  \n",
      "dtypes: float64(4), int64(1)\n",
      "memory usage: 23.3 KB\n",
      "None\n",
      "\n",
      "MultiIndex detectado. Corrigindo as colunas...\n"
     ]
    },
    {
     "data": {
      "image/png": "[encoded data removed]",
      "text/plain": [
       "<Figure size 800x575 with 4 Axes>"
      ]
     },
     "metadata": {},
     "output_type": "display_data"
    }
   ],
   "source": [
    "import yfinance as yf\n",
    "import mplfinance as mpf\n",
    "\n",
    "# Vamos usar o DataFrame 'itsa4' que já temos\n",
    "# Caso não o tenha, rode novamente:\n",
    "itsa4 = yf.download('ITSA4.SA', start='2022-01-01', end='2023-12-31')\n",
    "\n",
    "# Observando a estrutura do DataFrame, note que as colunas podem estar em MultiIndex\n",
    "print(itsa4.info())\n",
    "# Tratando o MultiIndex\n",
    "if isinstance(itsa4.columns, pd.MultiIndex):\n",
    "    print(\"\\nMultiIndex detectado. Corrigindo as colunas...\")\n",
    "    itsa4.columns = itsa4.columns.get_level_values(0)\n",
    "\n",
    "\n",
    "# A função mpf.plot() é a principal da biblioteca.\n",
    "# Por padrão, ela já cria um gráfico de linha para o preço e um painel separado para o volume.\n",
    "mpf.plot(itsa4, \n",
    "         type='line', \n",
    "         title='ITSA4 - 2022 a 2023', \n",
    "         ylabel='Preço (R$)',\n",
    "         volume=True, \n",
    "         ylabel_lower='Volume',\n",
    "         style='yahoo')\n"
   ]
  },
  {
   "cell_type": "markdown",
   "id": "977937dd",
   "metadata": {},
   "source": [
    "A grande vantagem do `mplfinance` é a facilidade para criar gráficos de candlestick. Basta mudar o argumento `type` para `'candle'`. Vamos visualizar apenas os últimos 60 dias de pregão para que os candles fiquem mais visíveis."
   ]
  },
  {
   "cell_type": "code",
   "execution_count": null,
   "id": "50b671f5",
   "metadata": {},
   "outputs": [
    {
     "data": {
      "image/png": "[encoded data removed]",
      "text/plain": [
       "<Figure size 800x575 with 4 Axes>"
      ]
     },
     "metadata": {},
     "output_type": "display_data"
    }
   ],
   "source": [
    "# Pegando os últimos 60 dias de dados do nosso DataFrame\n",
    "itsa4_recente = itsa4.tail(60)\n",
    "\n",
    "# Criando o gráfico de candlestick\n",
    "mpf.plot(itsa4_recente, \n",
    "         type='candle', \n",
    "         title='ITSA4 - Últimos 60 Dias', \n",
    "         ylabel='Preço (R$)',\n",
    "         volume=True, \n",
    "         ylabel_lower='Volume',\n",
    "         style='yahoo')"
   ]
  },
  {
   "cell_type": "markdown",
   "id": "4b20d6d3",
   "metadata": {},
   "source": [
    "## **3.5 Juntar Múltiplas Séries Temporais**\n",
    "\n",
    "Na maioria das vezes, especialmente em análise de portfólios, precisamos comparar múltiplos ativos. A melhor forma de fazer isso é ter todas as séries de preços em um único DataFrame, com as datas perfeitamente alinhadas.\n",
    "\n",
    "No Pandas, a função `pd.concat()` é ideal para isso. Ela \"cola\" as séries de dados lado a lado (como colunas), usando o índice de datas para garantir que os preços do \"dia X\" de um ativo fiquem na mesma linha do \"dia X\" dos outros."
   ]
  },
  {
   "cell_type": "code",
   "execution_count": null,
   "id": "8069ebb5",
   "metadata": {},
   "outputs": [],
   "source": [
    "import yfinance as yf\n",
    "import pandas as pd\n",
    "\n",
    "# Definir período\n",
    "start_date = '2023-01-01'\n",
    "end_date = '2023-12-31'\n",
    "\n",
    "# 1. Baixar dados do PETR4 e selecionar o 'Adj Close'\n",
    "# .rename() é importante para sabermos qual coluna é qual\n",
    "# Nota: Se 'Adj Close' der erro, tente usar 'Close'\n",
    "petr4 = yf.download('PETR4.SA', start=start_date, end=end_date)['Adj Close'].rename('PETR4')\n",
    "\n",
    "# 2. Baixar dados do BBDC4 e selecionar o 'Adj Close'\n",
    "bbdc4 = yf.download('BBDC4.SA', start=start_date, end=end_date)['Adj Close'].rename('BBDC4')\n",
    "\n",
    "# 3. Baixar dados do IBOV e selecionar o 'Adj Close'\n",
    "ibov = yf.download('^BVSP', start=start_date, end=end_date)['Adj Close'].rename('IBOV')\n",
    "\n",
    "# 4. Juntar todas as Series em um único DataFrame\n",
    "# axis=1 significa \"juntar como colunas\"\n",
    "# O Pandas alinha automaticamente pelas datas (o índice)\n",
    "portfolio = pd.concat([petr4, bbdc4, ibov], axis=1)\n",
    "\n",
    "# 5. Remover dias em que algum ativo não teve negociação (linhas com NA)\n",
    "portfolio_limpo = portfolio.dropna()\n",
    "\n",
    "print(\"--- DataFrame Combinado (Início) ---\")\n",
    "print(portfolio_limpo.head())\n",
    "\n",
    "print(\"\\n--- DataFrame Combinado (Fim) ---\")\n",
    "print(portfolio_limpo.tail())"
   ]
  },
  {
   "cell_type": "code",
   "execution_count": null,
   "id": "78574457",
   "metadata": {},
   "outputs": [],
   "source": [
    "import yfinance as yf\n",
    "import pandas as pd\n",
    "\n",
    "# --- Passo 1: Baixar os dados de cada ativo separadamente ---\n",
    "# (Para este exemplo, vamos pegar dados mensais para simplificar a visualização)\n",
    "petr4 = yf.download('PETR4.SA', start='2022-01-01', end='2023-12-31', interval='1mo')\n",
    "bbdc4 = yf.download('BBDC4.SA', start='2022-01-01', end='2023-12-31', interval='1mo')\n",
    "ibov = yf.download('^BVSP', start='2022-01-01', end='2023-12-31', interval='1mo')\n",
    "\n",
    "\n",
    "# --- Passo 2: Selecionar a coluna de interesse de cada ativo (ex: 'Adj Close') ---\n",
    "petr4_adj = petr4['Adj Close']\n",
    "bbdc4_adj = bbdc4['Adj Close']\n",
    "ibov_adj = ibov['Adj Close']\n",
    "\n",
    "\n",
    "# --- Passo 3: Usar pd.concat para juntar as séries em um único DataFrame ---\n",
    "# Criamos uma lista com as Series que queremos juntar\n",
    "lista_de_series = [petr4_adj, bbdc4_adj, ibov_adj]\n",
    "\n",
    "# axis=1 significa que queremos \"colar\" as séries como colunas, lado a lado\n",
    "portfolio = pd.concat(lista_de_series, axis=1)\n",
    "\n",
    "\n",
    "# --- Passo 4: Renomear as colunas para facilitar a identificação ---\n",
    "portfolio.columns = ['PETR4', 'BBDC4', 'IBOV']\n",
    "\n",
    "\n",
    "# --- Passo 5: Visualizar o resultado ---\n",
    "print(\"--- DataFrame Combinado ---\")\n",
    "print(portfolio.head())"
   ]
  }
 ],
 "metadata": {
  "kernelspec": {
   "display_name": ".venv",
   "language": "python",
   "name": "python3"
  },
  "language_info": {
   "codemirror_mode": {
    "name": "ipython",
    "version": 3
   },
   "file_extension": ".py",
   "mimetype": "text/x-python",
   "name": "python",
   "nbconvert_exporter": "python",
   "pygments_lexer": "ipython3",
   "version": "3.12.2"
  }
 },
 "nbformat": 4,
 "nbformat_minor": 5
}
