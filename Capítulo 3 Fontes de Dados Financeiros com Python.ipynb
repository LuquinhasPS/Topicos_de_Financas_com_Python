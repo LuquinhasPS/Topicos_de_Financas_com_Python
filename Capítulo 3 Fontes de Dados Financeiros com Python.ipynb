{
 "cells": [
  {
   "cell_type": "markdown",
   "id": "85698a56",
   "metadata": {},
   "source": [
    "# **Capítulo 3: Fontes de Dados Financeiros com Python**\n",
    "\n",
    "Neste capítulo, vamos aprender a usar bibliotecas Python especializadas para buscar dados financeiros diretamente de fontes online, como cotações de ações, moedas e indicadores econômicos. Isso elimina a necessidade de baixar arquivos manualmente."
   ]
  },
  {
   "cell_type": "markdown",
   "id": "ec451cea",
   "metadata": {},
   "source": [
    "## **3.1 Bibliotecas para Dados Financeiros**\n",
    "\n",
    "Existem diversas bibliotecas em Python para se conectar a fontes de dados (APIs). As duas que usaremos como principais exemplos são:\n",
    "\n",
    "1.  **`yfinance`**: Uma biblioteca extremamente popular para baixar dados de cotações de ações, ETFs e índices do Yahoo Finance.\n",
    "2.  **`python-bcb`**: Para obter séries temporais de dados econômicos brasileiros diretamente do Sistema Gerenciador de Séries Temporais (SGS) do Banco Central do Brasil."
   ]
  },
  {
   "cell_type": "markdown",
   "id": "e054b30c",
   "metadata": {},
   "source": [
    "### **3.1.1 yfinance: Cotações de Ações e Índices**\n",
    "\n",
    "O `yfinance` é a ferramenta ideal para obter dados de ativos negociados em bolsa. Para ações brasileiras, usamos o mesmo código do home broker, adicionando o sufixo `.SA` (ex: `PETR4.SA`). A principal função que usaremos é a `yf.download()`.\n",
    "\n",
    "Primeiro, você precisa instalar a biblioteca no seu terminal."
   ]
  },
  {
   "cell_type": "markdown",
   "id": "76a87547",
   "metadata": {},
   "source": [
    "**No seu terminal (apenas uma vez):**\n",
    "```bash"
   ]
  },
  {
   "cell_type": "code",
   "execution_count": null,
   "id": "9f62c694",
   "metadata": {},
   "outputs": [],
   "source": [
    "pip install yfinance"
   ]
  },
  {
   "cell_type": "markdown",
   "id": "8b4acf5f",
   "metadata": {},
   "source": [
    "Um passo fundamental após carregar um conjunto de dados é inspecioná-lo para garantir que tudo está correto. Vamos dar uma olhada nas primeiras e últimas linhas do nosso DataFrame da PETR4.\n",
    "\n",
    "Para isso, usamos dois métodos muito úteis do Pandas:\n",
    "* `.head()`: Exibe as 5 primeiras linhas.\n",
    "* `.tail()`: Exibe as 5 últimas linhas."
   ]
  },
  {
   "cell_type": "code",
   "execution_count": null,
   "id": "344f1c72",
   "metadata": {},
   "outputs": [],
   "source": [
    "import yfinance as yf\n",
    "\n",
    "# Baixando dados diários da Petrobras (PETR4) para o ano de 2023\n",
    "# A função retorna um DataFrame do Pandas\n",
    "petr4 = yf.download('PETR4.SA', start='2023-01-01', end='2023-12-31', auto_adjust=False)\n",
    "\n",
    "# Exibindo as 5 primeiras linhas\n",
    "print(\"--- Dados da PETR4 ---\")\n",
    "print(petr4.head())\n",
    "\n",
    "# Exibindo as 5 últimas linhas\n",
    "print(\"\\n--- Fim dos Dados da PETR4 ---\")\n",
    "print(petr4.tail())"
   ]
  },
  {
   "cell_type": "markdown",
   "id": "35395725",
   "metadata": {},
   "source": [
    "A função retorna um DataFrame com as seguintes colunas: `Open` (abertura), `High` (máxima), `Low` (mínima), `Close` (fechamento), `Adj Close` (fechamento ajustado para proventos) e `Volume`.\n",
    "\n",
    "Também podemos baixar dados de múltiplos ativos de uma só vez."
   ]
  },
  {
   "cell_type": "code",
   "execution_count": null,
   "id": "5a9603b6",
   "metadata": {},
   "outputs": [],
   "source": [
    "import yfinance as yf\n",
    "\n",
    "# Definindo os tickers e o período\n",
    "tickers = ['ITSA4.SA', 'VALE3.SA', '^BVSP']\n",
    "start_date = '2023-01-01'\n",
    "end_date = '2023-12-31'\n",
    "\n",
    "# 1. Baixamos o DataFrame completo, com todos os dados (Open, High, Low, Close, etc.)\n",
    "dados_completos = yf.download(tickers, start=start_date, end=end_date, auto_adjust=False)\n",
    "\n",
    "# 2. (Opcional) Vamos inspecionar a estrutura das colunas para entender\n",
    "print(\"--- Estrutura das Colunas (MultiIndex) ---\")\n",
    "print(dados_completos.columns)\n",
    "\n",
    "# 3. Agora, selecionamos o nível superior 'Adj Close'. Isso nos dará um DataFrame\n",
    "#    apenas com os preços de fechamento ajustado de todos os tickers.\n",
    "dados_adj_close = dados_completos['Adj Close']\n",
    "dados_close = dados_completos['Close']\n",
    "\n",
    "# 4. Exibindo as 5 primeiras linhas do resultado correto\n",
    "print(\"\\n--- DataFrame Apenas com 'Adj Close' ---\")\n",
    "print(dados_adj_close.head())\n",
    "print(\"\\n--- DataFrame Apenas com 'Close' ---\")\n",
    "print(dados_close.head())"
   ]
  },
  {
   "cell_type": "markdown",
   "id": "a666c1b5",
   "metadata": {},
   "source": [
    "## **3.1.2 python-bcb: Dados Econômicos do Banco Central do Brasil**\n",
    "\n",
    "Para obter dados da economia brasileira, como a taxa Selic, IPCA, IGP-M ou a cotação do dólar, usamos a biblioteca `python-bcb`. Ela se conecta diretamente ao **SGS (Sistema Gerenciador de Séries Temporais)** do Banco Central do Brasil.\n",
    "\n",
    "Primeiro, você precisa instalar a biblioteca no seu terminal."
   ]
  },
  {
   "cell_type": "markdown",
   "id": "f98b0059",
   "metadata": {},
   "source": [
    "**No seu terminal (apenas uma vez):**\n",
    "```bash"
   ]
  },
  {
   "cell_type": "code",
   "execution_count": null,
   "id": "335e3083",
   "metadata": {},
   "outputs": [],
   "source": [
    "pip install python-bcb"
   ]
  },
  {
   "cell_type": "markdown",
   "id": "49c012b0",
   "metadata": {},
   "source": [
    "Cada série de dados no Banco Central tem um código único. Para encontrar o código de uma série, podemos usar a função `sgs.search_sgs()`. Depois, usamos o código encontrado na função `sgs.get()` para baixar os dados."
   ]
  },
  {
   "cell_type": "code",
   "execution_count": null,
   "id": "3ab78578",
   "metadata": {},
   "outputs": [],
   "source": [
    "from bcb import sgs\n",
    "\n",
    "# Vamos usar o código 11, que sabemos ser da taxa Selic diária.\n",
    "# Passamos um dicionário onde a chave é o nome que queremos para a coluna ('Selic') \n",
    "# e o valor é o código (11).\n",
    "selic = sgs.get({'Selic': 11}, start='2023-01-01')\n",
    "\n",
    "print(\"--- Histórico da Taxa Selic Diária ---\")\n",
    "print(selic.tail()) # Usando .tail() para ver os dados mais recentes"
   ]
  },
  {
   "cell_type": "code",
   "execution_count": null,
   "id": "c1718754",
   "metadata": {},
   "outputs": [],
   "source": [
    "# Baixando os últimos 12 meses do IPCA (código 433) e do IGP-M (código 189)\n",
    "inflacao = sgs.get({'IPCA': 433, 'IGP-M': 189}, last=12)\n",
    "\n",
    "print(\"\\n--- Últimos 12 meses de Inflação (IPCA vs IGP-M) ---\")\n",
    "print(inflacao.head())"
   ]
  },
  {
   "cell_type": "markdown",
   "id": "ab454ae2",
   "metadata": {},
   "source": [
    "A busca nos mostra que a taxa Selic diária tem o código **11**. Agora, vamos usar esse código para baixar os dados históricos."
   ]
  },
  {
   "cell_type": "code",
   "execution_count": null,
   "id": "a8472344",
   "metadata": {},
   "outputs": [],
   "source": [
    "# Baixando a série da Selic a partir de 01/01/2023\n",
    "# Passamos um dicionário onde a chave é o nome que queremos para a coluna e o valor é o código\n",
    "selic = sgs.get({'Selic': 11}, start='2023-01-01')\n",
    "\n",
    "print(\"--- Histórico da Taxa Selic Diária ---\")\n",
    "print(selic.head())"
   ]
  },
  {
   "cell_type": "markdown",
   "id": "27038792",
   "metadata": {},
   "source": [
    "Também podemos baixar múltiplas séries de uma vez, passando um dicionário com vários códigos."
   ]
  },
  {
   "cell_type": "code",
   "execution_count": null,
   "id": "ffd7f3f5",
   "metadata": {},
   "outputs": [],
   "source": [
    "# Baixando os últimos 12 meses do IPCA (código 433) e do IGP-M (código 189)\n",
    "inflacao = sgs.get({'IPCA': 433, 'IGP-M': 189}, last=12)\n",
    "\n",
    "print(\"--- Últimos 12 meses de Inflação (IPCA vs IGP-M) ---\")\n",
    "print(inflacao.head())"
   ]
  },
  {
   "cell_type": "markdown",
   "id": "9149c352",
   "metadata": {},
   "source": [
    "## **3.2 Manipulação de Séries Temporais com Pandas**\n",
    "\n",
    "Tanto o `yfinance` quanto o `python-bcb` retornam DataFrames do Pandas, que são perfeitos para análise de séries temporais. A principal característica que torna isso possível é o **`DatetimeIndex`**, um tipo especial de índice composto por datas. Ter as datas como índice nos permite agrupar, fatiar e manipular os dados com base no tempo de forma muito eficiente."
   ]
  },
  {
   "cell_type": "code",
   "execution_count": null,
   "id": "0730d676",
   "metadata": {},
   "outputs": [],
   "source": [
    "import yfinance as yf\n",
    "\n",
    "# Vamos baixar um ativo de exemplo para esta seção\n",
    "itsa4 = yf.download('ITSA4.SA', start='2022-01-01', end='2023-12-31')\n",
    "\n",
    "# Vamos verificar o tipo do índice do nosso DataFrame\n",
    "print(f\"O tipo do índice é: {type(itsa4.index)}\")\n",
    "\n",
    "print(\"\\nVisualizando os dados:\")\n",
    "print(itsa4.head())"
   ]
  },
  {
   "cell_type": "markdown",
   "id": "c53bb6b0",
   "metadata": {},
   "source": [
    "Um DataFrame com `DatetimeIndex` tem dois componentes principais que podemos acessar separadamente:\n",
    "* **`.index`**: O objeto que contém todas as datas (o índice).\n",
    "* **`.values`**: Um array NumPy contendo todos os valores numéricos do DataFrame (os dados em si)."
   ]
  },
  {
   "cell_type": "code",
   "execution_count": null,
   "id": "cdb5a8ca",
   "metadata": {},
   "outputs": [],
   "source": [
    "# Acessando apenas o índice (as datas)\n",
    "print(\"--- Objeto de Índice (Datas) ---\")\n",
    "print(itsa4.index)\n",
    "\n",
    "\n",
    "# Acessando apenas os valores (como uma matriz)\n",
    "print(\"\\n--- Array de Valores ---\")\n",
    "print(itsa4.values)"
   ]
  },
  {
   "cell_type": "markdown",
   "id": "3606844d",
   "metadata": {},
   "source": [
    "### Convertendo a Periodicidade (Resample)\n",
    "\n",
    "Uma das tarefas mais comuns é mudar a frequência dos dados (ex: de diário para mensal). No Pandas, fazemos isso com o método `.resample()`. Ele agrupa os dados por uma nova frequência e depois aplicamos uma função de agregação (como `.last()`, `.first()`, `.sum()`, `.mean()`) para definir como os dados agrupados devem ser representados.\n",
    "\n",
    "Usamos códigos para definir a frequência:\n",
    "* `M`: Fim do Mês (`Month End`)\n",
    "* `MS`: Início do Mês (`Month Start`)\n",
    "* `Q`: Fim do Trimestre (`Quarter End`)\n",
    "* `Y`: Fim do Ano (`Year End`)"
   ]
  },
  {
   "cell_type": "code",
   "execution_count": null,
   "id": "3e26648d",
   "metadata": {},
   "outputs": [],
   "source": [
    "# Resample para dados mensais, pegando o último preço de cada mês\n",
    "itsa4_mensal = itsa4.resample('ME').last()\n",
    "print(\"--- Dados Mensais (Último dia do Mês) ---\")\n",
    "print(itsa4_mensal.head())\n",
    "\n",
    "# Resample para dados trimestrais, calculando o preço médio de cada trimestre\n",
    "itsa4_trimestral = itsa4.resample('QE').mean()\n",
    "print(\"\\n--- Dados Trimestrais (Média do Trimestre) ---\")\n",
    "print(itsa4_trimestral.head())"
   ]
  },
  {
   "cell_type": "markdown",
   "id": "d938bcdd",
   "metadata": {},
   "source": [
    "### Movendo o Índice de Data para uma Coluna\n",
    "\n",
    "Às vezes, é útil ter a data como uma coluna normal do DataFrame em vez de ser o índice. Para fazer isso, usamos o método `.reset_index()`."
   ]
  },
  {
   "cell_type": "code",
   "execution_count": null,
   "id": "67b9bcd9",
   "metadata": {},
   "outputs": [],
   "source": [
    "# Criando uma cópia para não alterar nosso DataFrame original\n",
    "itsa4_com_coluna_data = itsa4.reset_index()\n",
    "\n",
    "print(\"--- DataFrame com a data como coluna ---\")\n",
    "print(itsa4_com_coluna_data.head())"
   ]
  },
  {
   "cell_type": "markdown",
   "id": "ef3f2daa",
   "metadata": {},
   "source": [
    "## **3.3 Selecionando Colunas Específicas (Open, High, Low, Close)**\n",
    "\n",
    "Diferente de algumas bibliotecas do R, o Pandas não precisa de funções \"ajudantes\" (helpers) para selecionar colunas específicas como `Open`, `High`, `Low` ou `Close`.\n",
    "\n",
    "A seleção é feita de forma direta e intuitiva, simplesmente passando o nome da coluna desejada entre colchetes `[]` no DataFrame. O resultado será uma `Series` do Pandas contendo apenas os dados daquela coluna."
   ]
  },
  {
   "cell_type": "code",
   "execution_count": null,
   "id": "de05c89b",
   "metadata": {},
   "outputs": [
    {
     "name": "stdout",
     "output_type": "stream",
     "text": [
      "--- Apenas Preços de Fechamento ---\n",
      "Ticker      ITSA4.SA\n",
      "Date                \n",
      "2022-01-03  5.547342\n",
      "2022-01-04  5.590392\n",
      "2022-01-05  5.528892\n",
      "2022-01-06  5.578093\n",
      "2022-01-07  5.645743\n",
      "\n",
      "--- Apenas Preços de Abertura ---\n",
      "Ticker      ITSA4.SA\n",
      "Date                \n",
      "2022-01-03  5.547342\n",
      "2022-01-04  5.553491\n",
      "2022-01-05  5.565793\n",
      "2022-01-06  5.522743\n",
      "2022-01-07  5.578092\n",
      "\n",
      "--- Apenas Preços Máximos ---\n",
      "Ticker      ITSA4.SA\n",
      "Date                \n",
      "2022-01-03  5.651893\n",
      "2022-01-04  5.639592\n",
      "2022-01-05  5.602693\n",
      "2022-01-06  5.621143\n",
      "2022-01-07  5.651893\n",
      "\n",
      "--- Apenas Preços de Fechamento Ajustado (ITSA4.SA) ---\n",
      "Date\n",
      "2023-01-02    6.042832\n",
      "2023-01-03    5.891037\n",
      "2023-01-04    5.941634\n",
      "2023-01-05    6.028375\n",
      "2023-01-06    6.129570\n",
      "Name: ITSA4.SA, dtype: float64\n"
     ]
    }
   ],
   "source": [
    "# Usando o DataFrame 'itsa4' que já baixamos e o dados_adj_close que fizemos no 3.1.1\n",
    "\n",
    "# Selecionar apenas a coluna de Fechamento ('Close')\n",
    "precos_fechamento = itsa4['Close']\n",
    "print(\"--- Apenas Preços de Fechamento ---\")\n",
    "print(precos_fechamento.head())\n",
    "\n",
    "\n",
    "# Selecionar apenas a coluna de Abertura ('Open')\n",
    "precos_abertura = itsa4['Open']\n",
    "print(\"\\n--- Apenas Preços de Abertura ---\")\n",
    "print(precos_abertura.head())\n",
    "\n",
    "\n",
    "# Selecionar apenas a coluna de Preço Máximo ('High')\n",
    "precos_maximos = itsa4['High']\n",
    "print(\"\\n--- Apenas Preços Máximos ---\")\n",
    "print(precos_maximos.head())\n",
    "\n",
    "\n",
    "# Selecionar a coluna de Fechamento Ajustado ('Adj Close') usando o DataFrame correto\n",
    "precos_ajustados = dados_adj_close['ITSA4.SA']\n",
    "print(\"\\n--- Apenas Preços de Fechamento Ajustado (ITSA4.SA) ---\")\n",
    "print(precos_ajustados.head())"
   ]
  },
  {
   "cell_type": "markdown",
   "id": "e8cf8873",
   "metadata": {},
   "source": [
    "## **3.4 Gráficos Financeiros com mplfinance**\n",
    "\n",
    "Embora possamos fazer gráficos de linha com Seaborn, para visualizações financeiras mais completas (como gráficos de candlestick com volume), usamos uma biblioteca especializada chamada `mplfinance`. Ela é o equivalente direto da função `chartSeries` do R e foi criada para trabalhar perfeitamente com DataFrames do Pandas.\n",
    "\n",
    "Primeiro, você precisa instalar a biblioteca no seu terminal."
   ]
  },
  {
   "cell_type": "markdown",
   "id": "3c6627f9",
   "metadata": {},
   "source": [
    "**No seu terminal (apenas uma vez):**\n",
    "```bash"
   ]
  },
  {
   "cell_type": "code",
   "execution_count": null,
   "id": "4e9c2d1a",
   "metadata": {},
   "outputs": [],
   "source": [
    "pip install mplfinance"
   ]
  },
  {
   "cell_type": "code",
   "execution_count": null,
   "id": "331dfe58",
   "metadata": {},
   "outputs": [
    {
     "name": "stderr",
     "output_type": "stream",
     "text": [
      "C:\\Users\\Centauro\\AppData\\Local\\Temp\\ipykernel_15264\\3986447819.py:6: FutureWarning: YF.download() has changed argument auto_adjust default to True\n",
      "  itsa4 = yf.download('ITSA4.SA', start='2022-01-01', end='2023-12-31')\n",
      "[*********************100%***********************]  1 of 1 completed\n"
     ]
    },
    {
     "data": {
      "image/png": "[encoded data removed]",
      "text/plain": [
       "<Figure size 800x575 with 4 Axes>"
      ]
     },
     "metadata": {},
     "output_type": "display_data"
    }
   ],
   "source": [
    "import yfinance as yf\n",
    "import mplfinance as mpf\n",
    "\n",
    "# Vamos usar o DataFrame 'itsa4' que já temos\n",
    "# Caso não o tenha, rode novamente:\n",
    "# itsa4 = yf.download('ITSA4.SA', start='2022-01-01', end='2023-12-31')\n",
    "\n",
    "# Ajustando os nomes das colunas para o formato esperado pelo mplfinance\n",
    "itsa4_plot = itsa4.copy()\n",
    "# ...código anterior...\n",
    "# itsa4_plot = itsa4[['Open', 'High', 'Low', 'Close', 'Volume']].copy()\n",
    "# ...código posterior...\n",
    "itsa4_plot.columns = ['Close', 'High', 'Low', 'Open', 'Volume']\n",
    "\n",
    "# A função mpf.plot() é a principal da biblioteca.\n",
    "# Por padrão, ela já cria um gráfico de linha para o preço e um painel separado para o volume.\n",
    "mpf.plot(itsa4_plot, \n",
    "         type='line', \n",
    "         title='ITSA4 - 2022 a 2023', \n",
    "         ylabel='Preço (R$)',\n",
    "         volume=True, \n",
    "         ylabel_lower='Volume',\n",
    "         style='yahoo')"
   ]
  },
  {
   "cell_type": "markdown",
   "id": "977937dd",
   "metadata": {},
   "source": [
    "A grande vantagem do `mplfinance` é a facilidade para criar gráficos de candlestick. Basta mudar o argumento `type` para `'candle'`. Vamos visualizar apenas os últimos 60 dias de pregão para que os candles fiquem mais visíveis."
   ]
  },
  {
   "cell_type": "code",
   "execution_count": 4,
   "id": "50b671f5",
   "metadata": {},
   "outputs": [
    {
     "ename": "ValueError",
     "evalue": "Data for column \"Open\" must be ALL float or int.",
     "output_type": "error",
     "traceback": [
      "\u001b[31m---------------------------------------------------------------------------\u001b[39m",
      "\u001b[31mValueError\u001b[39m                                Traceback (most recent call last)",
      "\u001b[36mCell\u001b[39m\u001b[36m \u001b[39m\u001b[32mIn[4]\u001b[39m\u001b[32m, line 5\u001b[39m\n\u001b[32m      2\u001b[39m itsa4_recente = itsa4.tail(\u001b[32m60\u001b[39m)\n\u001b[32m      4\u001b[39m \u001b[38;5;66;03m# Criando o gráfico de candlestick\u001b[39;00m\n\u001b[32m----> \u001b[39m\u001b[32m5\u001b[39m \u001b[43mmpf\u001b[49m\u001b[43m.\u001b[49m\u001b[43mplot\u001b[49m\u001b[43m(\u001b[49m\u001b[43mitsa4_recente\u001b[49m\u001b[43m,\u001b[49m\u001b[43m \u001b[49m\n\u001b[32m      6\u001b[39m \u001b[43m         \u001b[49m\u001b[38;5;28;43mtype\u001b[39;49m\u001b[43m=\u001b[49m\u001b[33;43m'\u001b[39;49m\u001b[33;43mcandle\u001b[39;49m\u001b[33;43m'\u001b[39;49m\u001b[43m,\u001b[49m\u001b[43m \u001b[49m\n\u001b[32m      7\u001b[39m \u001b[43m         \u001b[49m\u001b[43mtitle\u001b[49m\u001b[43m=\u001b[49m\u001b[33;43m'\u001b[39;49m\u001b[33;43mITSA4 - Últimos 60 Dias\u001b[39;49m\u001b[33;43m'\u001b[39;49m\u001b[43m,\u001b[49m\u001b[43m \u001b[49m\n\u001b[32m      8\u001b[39m \u001b[43m         \u001b[49m\u001b[43mylabel\u001b[49m\u001b[43m=\u001b[49m\u001b[33;43m'\u001b[39;49m\u001b[33;43mPreço (R$)\u001b[39;49m\u001b[33;43m'\u001b[39;49m\u001b[43m,\u001b[49m\n\u001b[32m      9\u001b[39m \u001b[43m         \u001b[49m\u001b[43mvolume\u001b[49m\u001b[43m=\u001b[49m\u001b[38;5;28;43;01mTrue\u001b[39;49;00m\u001b[43m,\u001b[49m\u001b[43m \u001b[49m\n\u001b[32m     10\u001b[39m \u001b[43m         \u001b[49m\u001b[43mylabel_lower\u001b[49m\u001b[43m=\u001b[49m\u001b[33;43m'\u001b[39;49m\u001b[33;43mVolume\u001b[39;49m\u001b[33;43m'\u001b[39;49m\u001b[43m,\u001b[49m\n\u001b[32m     11\u001b[39m \u001b[43m         \u001b[49m\u001b[43mstyle\u001b[49m\u001b[43m=\u001b[49m\u001b[33;43m'\u001b[39;49m\u001b[33;43myahoo\u001b[39;49m\u001b[33;43m'\u001b[39;49m\u001b[43m)\u001b[49m\n",
      "\u001b[36mFile \u001b[39m\u001b[32mc:\\Users\\Centauro\\AppData\\Local\\Programs\\Python\\Python313\\Lib\\site-packages\\mplfinance\\plotting.py:417\u001b[39m, in \u001b[36mplot\u001b[39m\u001b[34m(data, **kwargs)\u001b[39m\n\u001b[32m    414\u001b[39m \u001b[38;5;66;03m# translate alias types:\u001b[39;00m\n\u001b[32m    415\u001b[39m config[\u001b[33m'\u001b[39m\u001b[33mtype\u001b[39m\u001b[33m'\u001b[39m] = _get_valid_plot_types(config[\u001b[33m'\u001b[39m\u001b[33mtype\u001b[39m\u001b[33m'\u001b[39m])\n\u001b[32m--> \u001b[39m\u001b[32m417\u001b[39m dates,opens,highs,lows,closes,volumes = \u001b[43m_check_and_prepare_data\u001b[49m\u001b[43m(\u001b[49m\u001b[43mdata\u001b[49m\u001b[43m,\u001b[49m\u001b[43m \u001b[49m\u001b[43mconfig\u001b[49m\u001b[43m)\u001b[49m\n\u001b[32m    419\u001b[39m config[\u001b[33m'\u001b[39m\u001b[33mxlim\u001b[39m\u001b[33m'\u001b[39m] = _check_and_convert_xlim_configuration(data, config)\n\u001b[32m    421\u001b[39m \u001b[38;5;28;01mif\u001b[39;00m config[\u001b[33m'\u001b[39m\u001b[33mtype\u001b[39m\u001b[33m'\u001b[39m] \u001b[38;5;129;01min\u001b[39;00m VALID_PMOVE_TYPES \u001b[38;5;129;01mand\u001b[39;00m config[\u001b[33m'\u001b[39m\u001b[33maddplot\u001b[39m\u001b[33m'\u001b[39m] \u001b[38;5;129;01mis\u001b[39;00m \u001b[38;5;129;01mnot\u001b[39;00m \u001b[38;5;28;01mNone\u001b[39;00m:\n",
      "\u001b[36mFile \u001b[39m\u001b[32mc:\\Users\\Centauro\\AppData\\Local\\Programs\\Python\\Python313\\Lib\\site-packages\\mplfinance\\_arg_validators.py:74\u001b[39m, in \u001b[36m_check_and_prepare_data\u001b[39m\u001b[34m(data, config)\u001b[39m\n\u001b[32m     72\u001b[39m \u001b[38;5;28;01mfor\u001b[39;00m col \u001b[38;5;129;01min\u001b[39;00m cols:\n\u001b[32m     73\u001b[39m     \u001b[38;5;28;01mif\u001b[39;00m \u001b[38;5;129;01mnot\u001b[39;00m \u001b[38;5;28mall\u001b[39m( \u001b[38;5;28misinstance\u001b[39m(v,(\u001b[38;5;28mfloat\u001b[39m,\u001b[38;5;28mint\u001b[39m)) \u001b[38;5;28;01mfor\u001b[39;00m v \u001b[38;5;129;01min\u001b[39;00m data[col] ):\n\u001b[32m---> \u001b[39m\u001b[32m74\u001b[39m         \u001b[38;5;28;01mraise\u001b[39;00m \u001b[38;5;167;01mValueError\u001b[39;00m(\u001b[33m'\u001b[39m\u001b[33mData for column \u001b[39m\u001b[33m\"\u001b[39m\u001b[33m'\u001b[39m+\u001b[38;5;28mstr\u001b[39m(col)+\u001b[33m'\u001b[39m\u001b[33m\"\u001b[39m\u001b[33m must be ALL float or int.\u001b[39m\u001b[33m'\u001b[39m)\n\u001b[32m     76\u001b[39m \u001b[38;5;28;01mif\u001b[39;00m config[\u001b[33m'\u001b[39m\u001b[33mtz_localize\u001b[39m\u001b[33m'\u001b[39m]:\n\u001b[32m     77\u001b[39m     dates   = mdates.date2num(data.index.tz_localize(\u001b[38;5;28;01mNone\u001b[39;00m).to_pydatetime())\n",
      "\u001b[31mValueError\u001b[39m: Data for column \"Open\" must be ALL float or int."
     ]
    }
   ],
   "source": [
    "# Pegando os últimos 60 dias de dados do nosso DataFrame\n",
    "itsa4_recente = itsa4.tail(60)\n",
    "\n",
    "# Criando o gráfico de candlestick\n",
    "mpf.plot(itsa4_recente, \n",
    "         type='candle', \n",
    "         title='ITSA4 - Últimos 60 Dias', \n",
    "         ylabel='Preço (R$)',\n",
    "         volume=True, \n",
    "         ylabel_lower='Volume',\n",
    "         style='yahoo')"
   ]
  }
 ],
 "metadata": {
  "kernelspec": {
   "display_name": "Python 3",
   "language": "python",
   "name": "python3"
  },
  "language_info": {
   "codemirror_mode": {
    "name": "ipython",
    "version": 3
   },
   "file_extension": ".py",
   "mimetype": "text/x-python",
   "name": "python",
   "nbconvert_exporter": "python",
   "pygments_lexer": "ipython3",
   "version": "3.13.1"
  }
 },
 "nbformat": 4,
 "nbformat_minor": 5
}
