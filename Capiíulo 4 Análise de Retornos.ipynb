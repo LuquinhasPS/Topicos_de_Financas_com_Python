{
 "cells": [
  {
   "cell_type": "markdown",
   "id": "91f4d296",
   "metadata": {},
   "source": [
    "## **Capítulo 4: Análise de Retornos**\n",
    "\n",
    "Até agora, trabalhamos com séries de preços. No entanto, para analisar o desempenho de um ativo, o preço absoluto não é a melhor medida. [cite_start]Por exemplo, qual foi o melhor investimento? [cite: 349]\n",
    "\n",
    "* Um ativo que subiu de R$ 10 para R$ 20 (lucro de R$ 10).\n",
    "* Um ativo que subiu de R$ 100 para R$ 105 (lucro de R$ 5).\n",
    "\n",
    "Embora o primeiro tenha dado um lucro maior em reais, o seu retorno percentual foi de 100%, enquanto o do segundo foi de apenas 5%. [cite_start]Para poder comparar ativos diferentes de forma justa, usamos os **retornos**, que representam a variação percentual no preço dos nossos investimentos[cite: 382]."
   ]
  },
  {
   "cell_type": "markdown",
   "id": "f3341b82",
   "metadata": {},
   "source": [
    "### **4.1 Retornos Simples (Aritméticos)**\n",
    "\n",
    "O retorno simples, ou aritmético, é a forma mais intuitiva de calcular a performance. [cite_start]Ele mede a variação percentual do preço de um dia para o outro[cite: 426]. A fórmula é:\n",
    "\n",
    "$$\n",
    "R_t = \\frac{P_t - P_{t-1}}{P_{t-1}}\n",
    "$$\n",
    "\n",
    "Onde:\n",
    "* $P_t$ é o preço de hoje.\n",
    "* $P_{t-1}$ é o preço de ontem.\n",
    "\n",
    "No Pandas, não precisamos aplicar essa fórmula manualmente. Usamos o método `.pct_change()`, que faz isso de forma automática e eficiente."
   ]
  },
  {
   "cell_type": "code",
   "execution_count": 2,
   "id": "aa7d6583",
   "metadata": {},
   "outputs": [
    {
     "name": "stderr",
     "output_type": "stream",
     "text": [
      "[*********************100%***********************]  1 of 1 completed"
     ]
    },
    {
     "name": "stdout",
     "output_type": "stream",
     "text": [
      "Price      Adj Close     Close      High       Low      Open    Volume\n",
      "Ticker      ITSA4.SA  ITSA4.SA  ITSA4.SA  ITSA4.SA  ITSA4.SA  ITSA4.SA\n",
      "Date                                                                  \n",
      "2022-01-03  5.547341  7.406317  7.545904  7.324207  7.406317  34761437\n",
      "2022-01-04  5.590393  7.463794  7.529482  7.365262  7.414528  47291709\n",
      "2022-01-05  5.528891  7.381684  7.480216  7.324207  7.430950  42275995\n",
      "2022-01-06  5.578092  7.447372  7.504849  7.340629  7.373473  30914401\n",
      "2022-01-07  5.645742  7.537693  7.545904  7.398106  7.447372  26119001\n",
      "Price      Adj Close retorno_simples\n",
      "Ticker      ITSA4.SA                \n",
      "Date                                \n",
      "2022-01-03  5.547341             NaN\n",
      "2022-01-04  5.590393        0.007761\n",
      "2022-01-05  5.528891       -0.011001\n",
      "2022-01-06  5.578092        0.008899\n",
      "2022-01-07  5.645742        0.012128\n",
      "\n",
      "========================================\n",
      "\n",
      "Price      Adj Close retorno_simples\n",
      "Ticker      ITSA4.SA                \n",
      "Date                                \n",
      "2023-12-21  8.203968        0.007984\n",
      "2023-12-22  8.325807        0.014851\n",
      "2023-12-26  8.350179        0.002927\n",
      "2023-12-27  8.415160        0.007782\n",
      "2023-12-28  8.423283        0.000965\n"
     ]
    },
    {
     "name": "stderr",
     "output_type": "stream",
     "text": [
      "\n"
     ]
    }
   ],
   "source": [
    "import yfinance as yf\n",
    "import pandas as pd\n",
    "\n",
    "# Vamos baixar dados da ITSA4 para usar como exemplo\n",
    "itsa4 = yf.download('ITSA4.SA', start='2022-01-01', end='2023-12-31', auto_adjust=False)\n",
    "\n",
    "print(itsa4.head())\n",
    "\n",
    "# Vamos usar a coluna de fechamento ajustado ('Adj Close') para calcular os retornos\n",
    "# O método .pct_change() calcula a variação percentual entre cada linha\n",
    "itsa4['retorno_simples'] = itsa4['Adj Close'].pct_change()\n",
    "\n",
    "# Vamos visualizar as colunas de preço e o retorno calculado\n",
    "# Note que o primeiro valor do retorno é 'NaN' (Not a Number), pois não há um dia anterior para comparar.\n",
    "print(itsa4[['Adj Close', 'retorno_simples']].head())\n",
    "\n",
    "# Visualizando o final da série\n",
    "print(\"\\n\" + \"=\"*40 + \"\\n\")\n",
    "print(itsa4[['Adj Close', 'retorno_simples']].tail())"
   ]
  },
  {
   "cell_type": "markdown",
   "id": "3481cff8",
   "metadata": {},
   "source": [
    "## **4.2 Composição de Retornos Simples (Retorno Acumulado)**\n",
    "\n",
    "Um erro comum é achar que para saber o retorno de uma semana, basta somar os retornos diários. Isso não funciona para retornos simples. O correto é compor os retornos, ou seja, multiplicar os fatores de crescimento diários.\n",
    "\n",
    "A fórmula para compor o retorno de dois dias, por exemplo, é:\n",
    "\n",
    "[cite_start]`Retorno Total = (1 + Retorno Dia 1) * (1 + Retorno Dia 2) - 1` [cite: 1048]\n",
    "\n",
    "Para uma série longa de retornos, calculamos o **produto acumulado**. O resultado é um **\"índice de riqueza\"**, que nos mostra o quanto R$1,00 investido no primeiro dia teria se tornado ao longo do tempo. No Pandas, fazemos isso de forma muito fácil com o método `.cumprod()`."
   ]
  },
  {
   "cell_type": "code",
   "execution_count": 4,
   "id": "dd748e5a",
   "metadata": {},
   "outputs": [
    {
     "name": "stdout",
     "output_type": "stream",
     "text": [
      "--- Retorno Acumulado (Índice de Riqueza) ---\n",
      "Price      Adj Close retorno_simples retorno_acumulado\n",
      "Ticker      ITSA4.SA                                  \n",
      "Date                                                  \n",
      "2022-01-03  5.547341             NaN               NaN\n",
      "2022-01-04  5.590393        0.007761          1.007761\n",
      "2022-01-05  5.528891       -0.011001          0.996674\n",
      "2022-01-06  5.578092        0.008899          1.005543\n",
      "2022-01-07  5.645742        0.012128          1.017738\n",
      "\n",
      "==================================================\n",
      "\n",
      "Price      Adj Close retorno_simples retorno_acumulado\n",
      "Ticker      ITSA4.SA                                  \n",
      "Date                                                  \n",
      "2023-12-21  8.203968        0.007984          1.478901\n",
      "2023-12-22  8.325807        0.014851          1.500864\n",
      "2023-12-26  8.350179        0.002927          1.505258\n",
      "2023-12-27  8.415160        0.007782          1.516972\n",
      "2023-12-28  8.423283        0.000965          1.518436\n"
     ]
    },
    {
     "data": {
      "image/png": "[encoded data removed]",
      "text/plain": [
       "<Figure size 1200x600 with 1 Axes>"
      ]
     },
     "metadata": {},
     "output_type": "display_data"
    }
   ],
   "source": [
    "import matplotlib.pyplot as plt\n",
    "# Usando o DataFrame 'itsa4' que já possui a coluna 'retorno_simples'\n",
    "\n",
    "# Passo 1: Adicionamos 1 a cada retorno diário para obter o fator de crescimento.\n",
    "# Ex: um retorno de 0.02 (2%) vira um fator de 1.02.\n",
    "fatores_crescimento = 1 + itsa4['retorno_simples']\n",
    "\n",
    "# Passo 2: Usamos .cumprod() para calcular o produto acumulado (o nosso índice de riqueza)\n",
    "itsa4['retorno_acumulado'] = fatores_crescimento.cumprod()\n",
    "\n",
    "# Vamos visualizar o resultado\n",
    "print(\"--- Retorno Acumulado (Índice de Riqueza) ---\")\n",
    "# O valor mostra o quanto R$1,00 teria se tornado até aquela data\n",
    "print(itsa4[['Adj Close', 'retorno_simples', 'retorno_acumulado']].head())\n",
    "print(\"\\n\" + \"=\"*50 + \"\\n\")\n",
    "print(itsa4[['Adj Close', 'retorno_simples', 'retorno_acumulado']].tail())\n",
    "\n",
    "\n",
    "# --- Visualização do Retorno Acumulado ---\n",
    "itsa4['retorno_acumulado'].plot(figsize=(12,6), title='Evolução de R$1,00 investido em ITSA4')\n",
    "plt.ylabel('Valor Acumulado (R$)')\n",
    "plt.grid(True)\n",
    "plt.show()"
   ]
  },
  {
   "cell_type": "markdown",
   "id": "e848c7f6",
   "metadata": {},
   "source": [
    "## **4.3 Retornos Logarítmicos (Log Returns)**\n",
    "\n",
    "Além dos retornos simples, existe outra forma de cálculo muito utilizada, especialmente em modelos acadêmicos e quantitativos: os **retornos logarítmicos**.\n",
    "\n",
    "Eles são preferidos em muitas análises estatísticas por suas propriedades matemáticas vantajosas. A fórmula é:\n",
    "\n",
    "$r_t = \\log(\\frac{P_t}{P_{t-1}}) = \\log(P_t) - \\log(P_{t-1})$ \n",
    "\n",
    "A principal vantagem dos log returns é que eles são **aditivos no tempo**. Isso significa que para calcular o retorno acumulado, basta **somar** os retornos diários, o que simplifica muito os cálculos."
   ]
  },
  {
   "cell_type": "code",
   "execution_count": 5,
   "id": "808158d1",
   "metadata": {},
   "outputs": [
    {
     "name": "stdout",
     "output_type": "stream",
     "text": [
      "Price      retorno_simples retorno_log\n",
      "Ticker                                \n",
      "Date                                  \n",
      "2022-01-03             NaN         NaN\n",
      "2022-01-04        0.007761    0.007731\n",
      "2022-01-05       -0.011001   -0.011062\n",
      "2022-01-06        0.008899    0.008859\n",
      "2022-01-07        0.012128    0.012055\n"
     ]
    }
   ],
   "source": [
    "import numpy as np # Precisaremos do numpy para a função de log\n",
    "\n",
    "# Usando o DataFrame 'itsa4'\n",
    "# Para calcular o log return:\n",
    "# 1. Pegamos o logaritmo natural de cada preço de fechamento ajustado com np.log()\n",
    "# 2. Usamos o método .diff() para calcular a diferença de um dia para o outro (log(Pt) - log(Pt-1))\n",
    "itsa4['retorno_log'] = np.log(itsa4['Adj Close']).diff()\n",
    "\n",
    "# Vamos comparar o retorno simples com o logarítmico\n",
    "# Note como os valores são muito próximos para variações pequenas\n",
    "print(itsa4[['retorno_simples', 'retorno_log']].head())"
   ]
  },
  {
   "cell_type": "markdown",
   "id": "726a2fdb",
   "metadata": {},
   "source": [
    "Como os log returns são aditivos, para saber o retorno acumulado de todo o período, simplesmente somamos todos os retornos logarítmicos diários.\n",
    "\n",
    "Para converter o log return total de volta para um retorno simples (que é mais fácil de interpretar), usamos a função exponencial (`exp`), pois ela é a operação inversa do logaritmo.\n",
    "\n",
    "`Retorno Simples Total = exp(Soma dos Log Returns) - 1`"
   ]
  },
  {
   "cell_type": "code",
   "execution_count": 6,
   "id": "eb809bde",
   "metadata": {},
   "outputs": [
    {
     "name": "stdout",
     "output_type": "stream",
     "text": [
      "Retorno Logarítmico Total no Período: 0.4177\n",
      "Retorno Simples Total no Período (calculado via log): 0.5184\n",
      "Retorno Simples Total no Período (calculado via cumprod): 0.5184\n"
     ]
    }
   ],
   "source": [
    "# Calculando o retorno total do período somando todos os log returns diários\n",
    "retorno_log_total = itsa4['retorno_log'].sum()\n",
    "print(f\"Retorno Logarítmico Total no Período: {retorno_log_total:.4f}\")\n",
    "\n",
    "\n",
    "# Convertendo o retorno log total para o formato de retorno simples\n",
    "retorno_simples_total = np.exp(retorno_log_total) - 1\n",
    "print(f\"Retorno Simples Total no Período (calculado via log): {retorno_simples_total:.4f}\")\n",
    "\n",
    "\n",
    "# Vamos comparar com o valor final da coluna 'retorno_acumulado' que calculamos na seção anterior\n",
    "# O valor deve ser o mesmo! (descontando o -1 inicial)\n",
    "ultimo_valor_acumulado = itsa4['retorno_acumulado'].iloc[-1]\n",
    "print(f\"Retorno Simples Total no Período (calculado via cumprod): {(ultimo_valor_acumulado - 1):.4f}\")"
   ]
  },
  {
   "cell_type": "markdown",
   "id": "d3986dc2",
   "metadata": {},
   "source": [
    "## **4.4 Qual Retorno Usar? Simples ou Logarítmico?**\n",
    "\n",
    "Faz sentido ter duas formas de calcular retornos? Sim, pois cada uma tem sua utilidade.\n",
    "\n",
    "* **Retornos Simples:** São mais intuitivos (\"o ativo subiu 2%\"). São usados para calcular o retorno de uma carteira de ativos.\n",
    "* **Retornos Logarítmicos:** São matematicamente mais fáceis de manipular (são aditivos) e suas propriedades estatísticas são mais convenientes.Por isso, são o padrão em finanças quantitativas e na maioria dos modelos de risco.\n",
    "\n",
    "**Regra geral:** Para a maioria das análises estatísticas, como cálculo de volatilidade e retorno esperado que faremos a seguir, usaremos os **retornos logarítmicos**."
   ]
  },
  {
   "cell_type": "markdown",
   "id": "e1cbb582",
   "metadata": {},
   "source": [
    "### **4.5 Retorno Esperado e Anualização**\n",
    "\n",
    "O **retorno esperado** é uma estimativa do retorno que podemos esperar de um ativo no futuro, com base em seu comportamento passado. A forma mais simples de estimá-lo é calcular a **média aritmética** dos retornos logarítmicos diários.\n",
    "\n",
    "Como os retornos diários são muito pequenos, é uma prática padrão **anualizar** o retorno para poder compará-lo com benchmarks de mercado (como o CDI ou a SELIC). Para anualizar um retorno diário, simplesmente o multiplicamos pelo número de dias úteis em um ano, que no mercado brasileiro é convencionalmente **252**."
   ]
  },
  {
   "cell_type": "code",
   "execution_count": null,
   "id": "f95482a3",
   "metadata": {},
   "outputs": [],
   "source": [
    "# Usando o DataFrame 'itsa4' que já tem a coluna 'retorno_log'\n",
    "\n",
    "# Calculando o retorno esperado diário (a média dos log returns)\n",
    "retorno_medio_diario = itsa4['retorno_log'].mean()\n",
    "print(f\"Retorno Esperado Diário: {retorno_medio_diario:.5%}\")\n",
    "\n",
    "# Anualizando o retorno\n",
    "retorno_anualizado = retorno_medio_diario * 252\n",
    "print(f\"Retorno Esperado Anualizado: {retorno_anualizado:.2%}\")"
   ]
  },
  {
   "cell_type": "markdown",
   "id": "524deee6",
   "metadata": {},
   "source": [
    "### **4.6 Risco Esperado (Volatilidade) e Anualização**\n",
    "\n",
    "O **risco esperado** de um ativo é a sua **volatilidade**. Uma volatilidade alta significa que os retornos do ativo variam muito, tornando-o mais arriscado. A medida mais comum para a volatilidade é o **desvio padrão** dos retornos logarítmicos.\n",
    "\n",
    "Assim como o retorno, também anualizamos a volatilidade. A regra, baseada em princípios estatísticos, é multiplicar a volatilidade diária pela **raiz quadrada** do número de períodos.\n",
    "\n",
    "`Volatilidade Anualizada = Volatilidade Diária * raiz_quadrada(252)` "
   ]
  },
  {
   "cell_type": "code",
   "execution_count": null,
   "id": "11d69aad",
   "metadata": {},
   "outputs": [],
   "source": [
    "import numpy as np # Precisamos do numpy para a raiz quadrada (sqrt)\n",
    "\n",
    "# Calculando o risco diário (desvio padrão dos log returns)\n",
    "vol_diaria = itsa4['retorno_log'].std()\n",
    "print(f\"Risco (Volatilidade) Diária: {vol_diaria:.5%}\")\n",
    "\n",
    "# Anualizando a volatilidade\n",
    "vol_anualizada = vol_diaria * np.sqrt(252)\n",
    "print(f\"Risco (Volatilidade) Anualizado: {vol_anualizada:.2%}\")\n",
    "\n",
    "print(f\"\\nResumo ITSA4: Retorno Anualizado de {retorno_anualizado:.2%} com Risco de {vol_anualizada:.2%}\")"
   ]
  },
  {
   "cell_type": "markdown",
   "id": "ea6307d8",
   "metadata": {},
   "source": [
    "## **4.7 Exercícios Práticos**\n",
    "\n",
    "### Exercício 1: Análise Comparativa de Ativos\n",
    "\n",
    "Vamos fazer uma análise completa de Risco vs. Retorno para um portfólio de 5 ativos brasileiros.\n",
    "\n",
    "**Sua Tarefa:**\n",
    "\n",
    "1.  **Obter Dados:** Baixe os preços de fechamento ajustado (`Adj Close`) para os seguintes ativos de **01/01/2015 a 31/12/2020**: \n",
    "    * `PETR4.SA` (Petrobras PN)\n",
    "    * `LREN3.SA` (Lojas Renner)\n",
    "    * `ABEV3.SA` (Ambev)\n",
    "    * `BOVA11.SA` (ETF do Ibovespa)\n",
    "    * `^BVSP` (Índice Ibovespa)\n",
    "\n",
    "2.  **Limpar Dados:** As séries podem ter dados faltantes (`NaN`). Remova todas as linhas que contenham qualquer valor `NaN` para garantir que todos os ativos tenham dados para as mesmas datas. (Dica: método `.dropna()`) \n",
    "\n",
    "3.  **Calcular Retornos:** Calcule os retornos **logarítmicos** diários para todos os ativos. \n",
    "\n",
    "4.  **Anualizar Métricas:** Calcule o **retorno esperado anualizado** e a **volatilidade esperada anualizada** para cada um dos ativos. \n",
    "\n",
    "5.  **Apresentar Resultados:** Crie um novo DataFrame para apresentar os resultados finais de forma clara, com os tickers como índice e duas colunas: \"Retorno Anualizado\" e \"Volatilidade Anualizada\"."
   ]
  },
  {
   "cell_type": "code",
   "execution_count": null,
   "id": "7f58fbfc",
   "metadata": {},
   "outputs": [],
   "source": [
    "import yfinance as yf\n",
    "import pandas as pd\n",
    "import numpy as np\n",
    "\n",
    "# 1. Obter Dados\n",
    "tickers = ['PETR4.SA', 'LREN3.SA', 'ABEV3.SA', 'BOVA11.SA', '^BVSP']\n",
    "start_date = '2015-01-01'\n",
    "end_date = '2020-12-31'\n",
    "\n",
    "# ... seu código para baixar os dados aqui ...\n",
    "\n",
    "\n",
    "# 2. Limpar Dados Faltantes\n",
    "# ... seu código para usar .dropna() aqui ...\n",
    "\n",
    "\n",
    "# 3. Calcular Retornos Logarítmicos\n",
    "# ... seu código para calcular os log returns aqui ...\n",
    "\n",
    "\n",
    "# 4. Anualizar Métricas\n",
    "# Lembre-se: Retorno = média * 252\n",
    "# Lembre-se: Volatilidade = desvio padrão * raiz_quadrada(252)\n",
    "# ... seu código para calcular o retorno e a volatilidade anualizada aqui ...\n",
    "\n",
    "\n",
    "# 5. Apresentar Resultados\n",
    "# ... seu código para criar e imprimir o DataFrame final aqui ..."
   ]
  }
 ],
 "metadata": {
  "kernelspec": {
   "display_name": ".venv",
   "language": "python",
   "name": "python3"
  },
  "language_info": {
   "codemirror_mode": {
    "name": "ipython",
    "version": 3
   },
   "file_extension": ".py",
   "mimetype": "text/x-python",
   "name": "python",
   "nbconvert_exporter": "python",
   "pygments_lexer": "ipython3",
   "version": "3.12.2"
  }
 },
 "nbformat": 4,
 "nbformat_minor": 5
}
