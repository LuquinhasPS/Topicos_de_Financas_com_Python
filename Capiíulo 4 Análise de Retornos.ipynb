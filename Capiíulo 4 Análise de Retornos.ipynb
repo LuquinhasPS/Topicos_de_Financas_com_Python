{
 "cells": [
  {
   "cell_type": "markdown",
   "id": "91f4d296",
   "metadata": {},
   "source": [
    "## **Capítulo 4: Análise de Retornos**\n",
    "\n",
    "Até agora, trabalhamos com séries de preços. No entanto, para analisar o desempenho de um ativo, o preço absoluto não é a melhor medida. [cite_start]Por exemplo, qual foi o melhor investimento? [cite: 349]\n",
    "\n",
    "* Um ativo que subiu de R$ 10 para R$ 20 (lucro de R$ 10).\n",
    "* Um ativo que subiu de R$ 100 para R$ 105 (lucro de R$ 5).\n",
    "\n",
    "Embora o primeiro tenha dado um lucro maior em reais, o seu retorno percentual foi de 100%, enquanto o do segundo foi de apenas 5%. [cite_start]Para poder comparar ativos diferentes de forma justa, usamos os **retornos**, que representam a variação percentual no preço dos nossos investimentos[cite: 382]."
   ]
  },
  {
   "cell_type": "markdown",
   "id": "f3341b82",
   "metadata": {},
   "source": [
    "### **4.1 Retornos Simples (Aritméticos)**\n",
    "\n",
    "O retorno simples, ou aritmético, é a forma mais intuitiva de calcular a performance. [cite_start]Ele mede a variação percentual do preço de um dia para o outro[cite: 426]. A fórmula é:\n",
    "\n",
    "$$\n",
    "R_t = \\frac{P_t - P_{t-1}}{P_{t-1}}\n",
    "$$\n",
    "\n",
    "Onde:\n",
    "* $P_t$ é o preço de hoje.\n",
    "* $P_{t-1}$ é o preço de ontem.\n",
    "\n",
    "No Pandas, não precisamos aplicar essa fórmula manualmente. Usamos o método `.pct_change()`, que faz isso de forma automática e eficiente."
   ]
  },
  {
   "cell_type": "code",
   "execution_count": 5,
   "id": "aa7d6583",
   "metadata": {},
   "outputs": [
    {
     "name": "stderr",
     "output_type": "stream",
     "text": [
      "[*********************100%***********************]  1 of 1 completed"
     ]
    },
    {
     "name": "stdout",
     "output_type": "stream",
     "text": [
      "Price      Adj Close     Close      High       Low      Open    Volume\n",
      "Ticker      ITSA4.SA  ITSA4.SA  ITSA4.SA  ITSA4.SA  ITSA4.SA  ITSA4.SA\n",
      "Date                                                                  \n",
      "2022-01-03  5.547343  7.406317  7.545904  7.324207  7.406317  34761437\n",
      "2022-01-04  5.590392  7.463794  7.529482  7.365262  7.414528  47291709\n",
      "2022-01-05  5.528891  7.381684  7.480216  7.324207  7.430950  42275995\n",
      "2022-01-06  5.578092  7.447372  7.504849  7.340629  7.373473  30914401\n",
      "2022-01-07  5.645743  7.537693  7.545904  7.398106  7.447372  26119001\n",
      "Price      Adj Close retorno_simples\n",
      "Ticker      ITSA4.SA                \n",
      "Date                                \n",
      "2022-01-03  5.547343             NaN\n",
      "2022-01-04  5.590392        0.007760\n",
      "2022-01-05  5.528891       -0.011001\n",
      "2022-01-06  5.578092        0.008899\n",
      "2022-01-07  5.645743        0.012128\n",
      "\n",
      "========================================\n",
      "\n",
      "Price      Adj Close retorno_simples\n",
      "Ticker      ITSA4.SA                \n",
      "Date                                \n",
      "2023-12-21  8.203967        0.007984\n",
      "2023-12-22  8.325809        0.014852\n",
      "2023-12-26  8.350177        0.002927\n",
      "2023-12-27  8.415160        0.007782\n",
      "2023-12-28  8.423284        0.000965\n"
     ]
    },
    {
     "name": "stderr",
     "output_type": "stream",
     "text": [
      "\n"
     ]
    }
   ],
   "source": [
    "import yfinance as yf\n",
    "import pandas as pd\n",
    "\n",
    "# Vamos baixar dados da ITSA4 para usar como exemplo\n",
    "itsa4 = yf.download('ITSA4.SA', start='2022-01-01', end='2023-12-31', auto_adjust=False)\n",
    "\n",
    "print(itsa4.head())\n",
    "\n",
    "# Vamos usar a coluna de fechamento ajustado ('Adj Close') para calcular os retornos\n",
    "# O método .pct_change() calcula a variação percentual entre cada linha\n",
    "itsa4['retorno_simples'] = itsa4['Adj Close'].pct_change()\n",
    "\n",
    "# Vamos visualizar as colunas de preço e o retorno calculado\n",
    "# Note que o primeiro valor do retorno é 'NaN' (Not a Number), pois não há um dia anterior para comparar.\n",
    "print(itsa4[['Adj Close', 'retorno_simples']].head())\n",
    "\n",
    "# Visualizando o final da série\n",
    "print(\"\\n\" + \"=\"*40 + \"\\n\")\n",
    "print(itsa4[['Adj Close', 'retorno_simples']].tail())"
   ]
  }
 ],
 "metadata": {
  "kernelspec": {
   "display_name": "Python 3",
   "language": "python",
   "name": "python3"
  },
  "language_info": {
   "codemirror_mode": {
    "name": "ipython",
    "version": 3
   },
   "file_extension": ".py",
   "mimetype": "text/x-python",
   "name": "python",
   "nbconvert_exporter": "python",
   "pygments_lexer": "ipython3",
   "version": "3.13.1"
  }
 },
 "nbformat": 4,
 "nbformat_minor": 5
}
