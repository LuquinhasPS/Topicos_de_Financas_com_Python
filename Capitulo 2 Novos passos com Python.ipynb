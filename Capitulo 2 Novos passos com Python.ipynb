{
 "cells": [
  {
   "cell_type": "markdown",
   "id": "98d23a00",
   "metadata": {},
   "source": [
    "# **Capítulo 2: Novos passos com Python**\n",
    "Neste capítulo, vamos aprofundar nossos conhecimentos, aprendendo a interagir com arquivos, criar visualizações de dados e manipular datas, que são tarefas essenciais para qualquer análise financeira."
   ]
  },
  {
   "cell_type": "markdown",
   "id": "4c3b2163",
   "metadata": {},
   "source": [
    "## **2.1 Leitura de arquivos .csv**\n",
    "A biblioteca **Pandas** é a ferramenta fundamental para ler dados tabulares (como planilhas) em Python. Para ler arquivos no formato `.csv`, usamos a função `pd.read_csv()`.\n",
    "\n",
    "Por padrão, a função espera que as colunas sejam separadas por vírgula. Se o seu arquivo usar ponto e vírgula (comum em arquivos brasileiros), você pode especificar isso com o argumento `sep=';'`."
   ]
  },
  {
   "cell_type": "code",
   "execution_count": null,
   "id": "593f7681",
   "metadata": {},
   "outputs": [],
   "source": [
    "import pandas as pd\n",
    "import numpy as np\n",
    "\n",
    "# O código abaixo tentará ler o arquivo \"abev3_petr4.csv\".\n",
    "# Se o arquivo não for encontrado, ele criará um DataFrame de exemplo para que o resto do tutorial funcione.\n",
    "\n",
    "try:\n",
    "    # Tenta ler o arquivo do disco\n",
    "    df = pd.read_csv(\"abev3_petr4.csv\")\n",
    "    print(\"Arquivo 'abev3_petr4.csv' lido com sucesso!\")\n",
    "except FileNotFoundError:\n",
    "    print(\"Arquivo 'abev3_petr4.csv' não encontrado. Criando um DataFrame de exemplo.\")\n",
    "    # Criando dados de exemplo\n",
    "    datas = pd.date_range(start='2020-01-01', periods=100)\n",
    "    dados_exemplo = {\n",
    "        'data': datas,\n",
    "        'petr4': (np.random.randn(100) * 0.02 + 0.0005).cumsum() + 25,\n",
    "        'abev3': (np.random.randn(100) * 0.01 + 0.0002).cumsum() + 15\n",
    "    }\n",
    "    df = pd.DataFrame(dados_exemplo)\n",
    "    # Calculando os retornos para usar nas próximas seções\n",
    "    df['retorno_diario_petr4'] = df['petr4'].pct_change()\n",
    "    df['retorno_diario_abev3'] = df['abev3'].pct_change()\n",
    "\n",
    "# Exibindo as 5 primeiras linhas do DataFrame para verificação\n",
    "df.head()"
   ]
  },
  {
   "cell_type": "markdown",
   "id": "2ce5aef7",
   "metadata": {},
   "source": [
    "## **2.2 Gráficos com Matplotlib e Seaborn**\n",
    "\n",
    "**Matplotlib** é a biblioteca base para visualizações em Python, enquanto **Seaborn** é construída sobre ela, oferecendo uma interface mais simples e gráficos estatísticos mais atraentes. A sintaxe básica envolve chamar uma função de plotagem e passar o DataFrame e as colunas desejadas."
   ]
  },
  {
   "cell_type": "code",
   "execution_count": 2,
   "id": "b3e5f110",
   "metadata": {},
   "outputs": [],
   "source": [
    "import seaborn as sns\n",
    "import matplotlib.pyplot as plt\n",
    "\n",
    "# Define o estilo visual dos gráficos para um fundo branco com grades\n",
    "sns.set_theme(style=\"whitegrid\")"
   ]
  },
  {
   "cell_type": "markdown",
   "id": "95d9dc5b",
   "metadata": {},
   "source": [
    "### **2.2.1 Gráfico de Dispersão ou Gráfico de Pontos**\n",
    "\n",
    "Este gráfico é usado para visualizar a relação entre duas variáveis numéricas."
   ]
  },
  {
   "cell_type": "code",
   "execution_count": null,
   "id": "944e2f3d",
   "metadata": {},
   "outputs": [],
   "source": [
    "# Cria o gráfico de dispersão usando a função scatterplot do Seaborn\n",
    "sns.scatterplot(data=df, x='petr4', y='abev3')\n",
    "\n",
    "# Adiciona um título ao gráfico e o exibe\n",
    "plt.title('Dispersão: Preços PETR4 vs. ABEV3')\n",
    "plt.show()"
   ]
  },
  {
   "cell_type": "markdown",
   "id": "d8ecee6d",
   "metadata": {},
   "source": [
    "### **2.2.2 Gráfico de Linha**\n",
    "\n",
    "A sintaxe para fazer um gráfico de linha é semelhante à do gráfico de pontos. Contudo, esse tipo de gráfico é mais usado quando a variável do eixo X é uma data, sendo perfeito para visualizar a evolução dos preços de um ativo ao longo do tempo."
   ]
  },
  {
   "cell_type": "code",
   "execution_count": null,
   "id": "e91a0753",
   "metadata": {},
   "outputs": [],
   "source": [
    "# Cria o gráfico de linha usando a função lineplot do Seaborn\n",
    "sns.lineplot(data=df, x='data', y='petr4')\n",
    "\n",
    "# Adiciona um título ao gráfico\n",
    "plt.title('Evolução do Preço de PETR4')\n",
    "\n",
    "# Rotaciona os rótulos do eixo X para melhor visualização\n",
    "plt.xticks(rotation=45)\n",
    "\n",
    "# Exibe o gráfico\n",
    "plt.show()"
   ]
  },
  {
   "cell_type": "markdown",
   "id": "7de4c246",
   "metadata": {},
   "source": [
    "### **2.2.3 Histogramas**\n",
    "\n",
    "Os histogramas são utilizados para representar a distribuição de dados de uma variável quantitativa em intervalos contínuos. No mercado financeiro, uma aplicação comum de histogramas é analisar a distribuição de retornos diários de um ativo."
   ]
  },
  {
   "cell_type": "code",
   "execution_count": null,
   "id": "101524ee",
   "metadata": {},
   "outputs": [],
   "source": [
    "# Cria o histograma dos retornos de PETR4\n",
    "# O argumento 'bins' controla o número de barras (intervalos)\n",
    "# kde=True adiciona uma linha de estimativa de densidade sobre o histograma\n",
    "sns.histplot(data=df, x='retorno_diario_petr4', bins=30, kde=True)\n",
    "\n",
    "# Adiciona um título e exibe o gráfico\n",
    "plt.title('Distribuição dos Retornos Diários de PETR4')\n",
    "plt.show()"
   ]
  },
  {
   "cell_type": "markdown",
   "id": "06ec6585",
   "metadata": {},
   "source": [
    "## **2.3 Trabalhando com Datas**\n",
    "\n",
    "Datas são um caso especial em análise de dados. O Pandas possui um tipo de dado específico para elas, o `datetime`, que é extremamente poderoso. A função `pd.to_datetime()` é a principal ferramenta para converter colunas de texto (ou outros formatos) para o tipo `datetime`, o que nos permite realizar cálculos e extrair informações com facilidade."
   ]
  },
  {
   "cell_type": "code",
   "execution_count": null,
   "id": "271fedfc",
   "metadata": {},
   "outputs": [],
   "source": [
    "# Vamos garantir que nossa coluna 'data' esteja no formato correto\n",
    "# Primeiro, vemos o tipo de dado atual da coluna\n",
    "print(f\"Tipo de dado ANTES da conversão: {df['data'].dtype}\")\n",
    "\n",
    "# Agora, usamos pd.to_datetime para converter\n",
    "df['data'] = pd.to_datetime(df['data'])\n",
    "\n",
    "# Verificamos o tipo novamente para confirmar a mudança\n",
    "print(f\"Tipo de dado DEPOIS da conversão: {df['data'].dtype}\")"
   ]
  },
  {
   "cell_type": "markdown",
   "id": "14684e0b",
   "metadata": {},
   "source": [
    "### **2.3.1 Gerar uma Sequência de Datas**\n",
    "\n",
    "Para criar um vetor (ou uma lista) de datas sequenciais, usamos a função `pd.date_range()`. Ela é muito flexível e permite especificar o início, o fim, o número de períodos e a frequência (diária, mensal, anual, etc.)."
   ]
  },
  {
   "cell_type": "code",
   "execution_count": null,
   "id": "383d8500",
   "metadata": {},
   "outputs": [],
   "source": [
    "# Gerar um vetor de datas diárias entre duas datas\n",
    "datas_diarias = pd.date_range(start=\"2020-01-01\", end=\"2020-01-20\", freq=\"D\")\n",
    "print(\"Datas Diárias:\")\n",
    "print(datas_diarias)\n",
    "\n",
    "# Gerar um vetor de datas mensais (pegando o primeiro dia de cada mês)\n",
    "datas_mensais = pd.date_range(start=\"2020-01-01\", end=\"2020-12-01\", freq=\"MS\")\n",
    "print(\"\\nDatas Mensais:\")\n",
    "print(datas_mensais)\n",
    "\n",
    "# Gerar 7 datas, uma por semana, a partir de uma data inicial\n",
    "datas_semanais = pd.date_range(start=\"2020-01-01\", periods=7, freq=\"W\")\n",
    "print(\"\\nDatas Semanais (fim de semana):\")\n",
    "print(datas_semanais)"
   ]
  },
  {
   "cell_type": "markdown",
   "id": "0194751f",
   "metadata": {},
   "source": [
    "## **2.4 Convertendo Textos (Strings) para Datas**\n",
    "\n",
    "Muitas vezes, as datas em um arquivo de dados vêm como texto, e em formatos variados. Aqui no Brasil, por exemplo, usamos o formato `DD/MM/AAAA`.\n",
    "\n",
    "A função `pd.to_datetime()` é inteligente e consegue interpretar a maioria dos formatos comuns. Para ajudá-la a entender formatos como o brasileiro, onde o dia vem antes do mês, usamos o argumento `dayfirst=True`. A função também consegue interpretar informações de horário (hora, minuto, segundo)."
   ]
  },
  {
   "cell_type": "code",
   "execution_count": null,
   "id": "75e5f58a",
   "metadata": {},
   "outputs": [],
   "source": [
    "# Lista de datas em formato texto, com diferentes separadores\n",
    "datas_brasil = [\"01/12/2019\", \"20/11/2018\", \"30-01-1990\"]\n",
    "\n",
    "# Convertendo para o formato datetime\n",
    "# dayfirst=True informa ao Pandas que o primeiro número é o dia\n",
    "datas_convertidas = pd.to_datetime(datas_brasil, dayfirst=True)\n",
    "print(\"Datas convertidas:\")\n",
    "print(datas_convertidas)\n",
    "\n",
    "\n",
    "# Exemplo com dados de horário (hora, minuto e segundo)\n",
    "data_hora_texto = \"30-09-2019 14:51:39\"\n",
    "data_hora_convertida = pd.to_datetime(data_hora_texto, dayfirst=True)\n",
    "\n",
    "print(\"\\nData e hora convertidas:\")\n",
    "print(data_hora_convertida)\n",
    "print(f\"Tipo do objeto: {type(data_hora_convertida)}\")"
   ]
  },
  {
   "cell_type": "markdown",
   "id": "e53ce498",
   "metadata": {},
   "source": [
    "## **2.5 Extrair Componentes de uma Data**\n",
    "\n",
    "Uma vez que uma coluna está no formato `datetime`, podemos facilmente extrair seus componentes (ano, mês, dia, dia da semana, etc.) usando o acessador `.dt`. Ele funciona como um portal para dezenas de propriedades e métodos relacionados a datas."
   ]
  },
  {
   "cell_type": "code",
   "execution_count": null,
   "id": "c8910f96",
   "metadata": {},
   "outputs": [],
   "source": [
    "# Vamos usar o vetor de datas que convertemos na seção anterior\n",
    "datas_texto = [\"01/12/2019 13:51:15\", \"20/11/2018 00:00:00\", \"30/01/1990 08:00:00\"]\n",
    "datas_convertidas = pd.to_datetime(datas_texto, dayfirst=True)\n",
    "\n",
    "# Para usar o acessador .dt, precisamos que os dados estejam em uma Series do Pandas\n",
    "datas_series = pd.Series(datas_convertidas)\n",
    "\n",
    "# Extraindo os componentes:\n",
    "print(f\"Ano: {datas_series.dt.year.to_list()}\")\n",
    "print(f\"Mês: {datas_series.dt.month.to_list()}\")\n",
    "print(f\"Dia: {datas_series.dt.day.to_list()}\")\n",
    "print(f\"Hora: {datas_series.dt.hour.to_list()}\")\n",
    "print(f\"Dia da semana (nome): {datas_series.dt.day_name(locale='pt_BR').to_list()}\")\n",
    "print(f\"Trimestre: {datas_series.dt.quarter.to_list()}\")"
   ]
  }
 ],
 "metadata": {
  "kernelspec": {
   "display_name": "Python 3",
   "language": "python",
   "name": "python3"
  },
  "language_info": {
   "codemirror_mode": {
    "name": "ipython",
    "version": 3
   },
   "file_extension": ".py",
   "mimetype": "text/x-python",
   "name": "python",
   "nbconvert_exporter": "python",
   "pygments_lexer": "ipython3",
   "version": "3.13.1"
  }
 },
 "nbformat": 4,
 "nbformat_minor": 5
}
