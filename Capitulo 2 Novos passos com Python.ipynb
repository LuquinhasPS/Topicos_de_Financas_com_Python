{
 "cells": [
  {
   "cell_type": "markdown",
   "id": "98d23a00",
   "metadata": {},
   "source": [
    "# **Capítulo 2: Novos passos com Python**\n",
    "Neste capítulo, vamos aprofundar nossos conhecimentos, aprendendo a interagir com arquivos, criar visualizações de dados e manipular datas, que são tarefas essenciais para qualquer análise financeira."
   ]
  },
  {
   "cell_type": "markdown",
   "id": "4c3b2163",
   "metadata": {},
   "source": [
    "## **2.1 Leitura de arquivos .csv**\n",
    "A biblioteca **Pandas** é a ferramenta fundamental para ler dados tabulares (como planilhas) em Python. Para ler arquivos no formato `.csv`, usamos a função `pd.read_csv()`.\n",
    "\n",
    "Por padrão, a função espera que as colunas sejam separadas por vírgula. Se o seu arquivo usar ponto e vírgula (comum em arquivos brasileiros), você pode especificar isso com o argumento `sep=';'`."
   ]
  },
  {
   "cell_type": "code",
   "execution_count": null,
   "id": "593f7681",
   "metadata": {},
   "outputs": [],
   "source": [
    "import pandas as pd\n",
    "import numpy as np\n",
    "\n",
    "# O código abaixo tentará ler o arquivo \"abev3_petr4.csv\".\n",
    "# Se o arquivo não for encontrado, ele criará um DataFrame de exemplo para que o resto do tutorial funcione.\n",
    "\n",
    "try:\n",
    "    # Tenta ler o arquivo do disco\n",
    "    df = pd.read_csv(\"abev3_petr4.csv\")\n",
    "    print(\"Arquivo 'abev3_petr4.csv' lido com sucesso!\")\n",
    "except FileNotFoundError:\n",
    "    print(\"Arquivo 'abev3_petr4.csv' não encontrado. Criando um DataFrame de exemplo.\")\n",
    "    # Criando dados de exemplo\n",
    "    datas = pd.date_range(start='2020-01-01', periods=100)\n",
    "    dados_exemplo = {\n",
    "        'data': datas,\n",
    "        'petr4': (np.random.randn(100) * 0.02 + 0.0005).cumsum() + 25,\n",
    "        'abev3': (np.random.randn(100) * 0.01 + 0.0002).cumsum() + 15\n",
    "    }\n",
    "    df = pd.DataFrame(dados_exemplo)\n",
    "    # Calculando os retornos para usar nas próximas seções\n",
    "    df['retorno_diario_petr4'] = df['petr4'].pct_change()\n",
    "    df['retorno_diario_abev3'] = df['abev3'].pct_change()\n",
    "\n",
    "# Exibindo as 5 primeiras linhas do DataFrame para verificação\n",
    "df.head()"
   ]
  },
  {
   "cell_type": "markdown",
   "id": "2ce5aef7",
   "metadata": {},
   "source": [
    "## **2.2 Gráficos com Matplotlib e Seaborn**\n",
    "\n",
    "**Matplotlib** é a biblioteca base para visualizações em Python, enquanto **Seaborn** é construída sobre ela, oferecendo uma interface mais simples e gráficos estatísticos mais atraentes. A sintaxe básica envolve chamar uma função de plotagem e passar o DataFrame e as colunas desejadas."
   ]
  },
  {
   "cell_type": "code",
   "execution_count": 2,
   "id": "b3e5f110",
   "metadata": {},
   "outputs": [],
   "source": [
    "import seaborn as sns\n",
    "import matplotlib.pyplot as plt\n",
    "\n",
    "# Define o estilo visual dos gráficos para um fundo branco com grades\n",
    "sns.set_theme(style=\"whitegrid\")"
   ]
  },
  {
   "cell_type": "markdown",
   "id": "95d9dc5b",
   "metadata": {},
   "source": [
    "### **2.2.1 Gráfico de Dispersão ou Gráfico de Pontos**\n",
    "\n",
    "Este gráfico é usado para visualizar a relação entre duas variáveis numéricas."
   ]
  },
  {
   "cell_type": "code",
   "execution_count": null,
   "id": "944e2f3d",
   "metadata": {},
   "outputs": [],
   "source": [
    "# Cria o gráfico de dispersão usando a função scatterplot do Seaborn\n",
    "sns.scatterplot(data=df, x='petr4', y='abev3')\n",
    "\n",
    "# Adiciona um título ao gráfico e o exibe\n",
    "plt.title('Dispersão: Preços PETR4 vs. ABEV3')\n",
    "plt.show()"
   ]
  },
  {
   "cell_type": "markdown",
   "id": "d8ecee6d",
   "metadata": {},
   "source": [
    "### **2.2.2 Gráfico de Linha**\n",
    "\n",
    "A sintaxe para fazer um gráfico de linha é semelhante à do gráfico de pontos. Contudo, esse tipo de gráfico é mais usado quando a variável do eixo X é uma data, sendo perfeito para visualizar a evolução dos preços de um ativo ao longo do tempo."
   ]
  },
  {
   "cell_type": "code",
   "execution_count": null,
   "id": "e91a0753",
   "metadata": {},
   "outputs": [],
   "source": [
    "# Cria o gráfico de linha usando a função lineplot do Seaborn\n",
    "sns.lineplot(data=df, x='data', y='petr4')\n",
    "\n",
    "# Adiciona um título ao gráfico\n",
    "plt.title('Evolução do Preço de PETR4')\n",
    "\n",
    "# Rotaciona os rótulos do eixo X para melhor visualização\n",
    "plt.xticks(rotation=45)\n",
    "\n",
    "# Exibe o gráfico\n",
    "plt.show()"
   ]
  },
  {
   "cell_type": "markdown",
   "id": "7de4c246",
   "metadata": {},
   "source": [
    "### **2.2.3 Histogramas**\n",
    "\n",
    "Os histogramas são utilizados para representar a distribuição de dados de uma variável quantitativa em intervalos contínuos. No mercado financeiro, uma aplicação comum de histogramas é analisar a distribuição de retornos diários de um ativo."
   ]
  },
  {
   "cell_type": "code",
   "execution_count": null,
   "id": "101524ee",
   "metadata": {},
   "outputs": [],
   "source": [
    "# Cria o histograma dos retornos de PETR4\n",
    "# O argumento 'bins' controla o número de barras (intervalos)\n",
    "# kde=True adiciona uma linha de estimativa de densidade sobre o histograma\n",
    "sns.histplot(data=df, x='retorno_diario_petr4', bins=30, kde=True)\n",
    "\n",
    "# Adiciona um título e exibe o gráfico\n",
    "plt.title('Distribuição dos Retornos Diários de PETR4')\n",
    "plt.show()"
   ]
  },
  {
   "cell_type": "markdown",
   "id": "06ec6585",
   "metadata": {},
   "source": [
    "## **2.3 Trabalhando com Datas**\n",
    "\n",
    "Datas são um caso especial em análise de dados. O Pandas possui um tipo de dado específico para elas, o `datetime`, que é extremamente poderoso. A função `pd.to_datetime()` é a principal ferramenta para converter colunas de texto (ou outros formatos) para o tipo `datetime`, o que nos permite realizar cálculos e extrair informações com facilidade."
   ]
  },
  {
   "cell_type": "code",
   "execution_count": null,
   "id": "271fedfc",
   "metadata": {},
   "outputs": [],
   "source": [
    "# Vamos garantir que nossa coluna 'data' esteja no formato correto\n",
    "# Primeiro, vemos o tipo de dado atual da coluna\n",
    "print(f\"Tipo de dado ANTES da conversão: {df['data'].dtype}\")\n",
    "\n",
    "# Agora, usamos pd.to_datetime para converter\n",
    "df['data'] = pd.to_datetime(df['data'])\n",
    "\n",
    "# Verificamos o tipo novamente para confirmar a mudança\n",
    "print(f\"Tipo de dado DEPOIS da conversão: {df['data'].dtype}\")"
   ]
  },
  {
   "cell_type": "markdown",
   "id": "14684e0b",
   "metadata": {},
   "source": [
    "### **2.3.1 Gerar uma Sequência de Datas**\n",
    "\n",
    "Para criar um vetor (ou uma lista) de datas sequenciais, usamos a função `pd.date_range()`. Ela é muito flexível e permite especificar o início, o fim, o número de períodos e a frequência (diária, mensal, anual, etc.)."
   ]
  },
  {
   "cell_type": "code",
   "execution_count": null,
   "id": "383d8500",
   "metadata": {},
   "outputs": [],
   "source": [
    "# Gerar um vetor de datas diárias entre duas datas\n",
    "datas_diarias = pd.date_range(start=\"2020-01-01\", end=\"2020-01-20\", freq=\"D\")\n",
    "print(\"Datas Diárias:\")\n",
    "print(datas_diarias)\n",
    "\n",
    "# Gerar um vetor de datas mensais (pegando o primeiro dia de cada mês)\n",
    "datas_mensais = pd.date_range(start=\"2020-01-01\", end=\"2020-12-01\", freq=\"MS\")\n",
    "print(\"\\nDatas Mensais:\")\n",
    "print(datas_mensais)\n",
    "\n",
    "# Gerar 7 datas, uma por semana, a partir de uma data inicial\n",
    "datas_semanais = pd.date_range(start=\"2020-01-01\", periods=7, freq=\"W\")\n",
    "print(\"\\nDatas Semanais (fim de semana):\")\n",
    "print(datas_semanais)"
   ]
  },
  {
   "cell_type": "markdown",
   "id": "0194751f",
   "metadata": {},
   "source": [
    "## **2.4 Convertendo Textos (Strings) para Datas**\n",
    "\n",
    "Muitas vezes, as datas em um arquivo de dados vêm como texto, e em formatos variados. Aqui no Brasil, por exemplo, usamos o formato `DD/MM/AAAA`.\n",
    "\n",
    "A função `pd.to_datetime()` é inteligente e consegue interpretar a maioria dos formatos comuns. Para ajudá-la a entender formatos como o brasileiro, onde o dia vem antes do mês, usamos o argumento `dayfirst=True`. A função também consegue interpretar informações de horário (hora, minuto, segundo)."
   ]
  },
  {
   "cell_type": "code",
   "execution_count": null,
   "id": "75e5f58a",
   "metadata": {},
   "outputs": [],
   "source": [
    "# Lista de datas em formato texto, com diferentes separadores\n",
    "datas_brasil = [\"01/12/2019\", \"20/11/2018\", \"30-01-1990\"]\n",
    "\n",
    "# Convertendo para o formato datetime\n",
    "# dayfirst=True informa ao Pandas que o primeiro número é o dia\n",
    "datas_convertidas = pd.to_datetime(datas_brasil, dayfirst=True)\n",
    "print(\"Datas convertidas:\")\n",
    "print(datas_convertidas)\n",
    "\n",
    "\n",
    "# Exemplo com dados de horário (hora, minuto e segundo)\n",
    "data_hora_texto = \"30-09-2019 14:51:39\"\n",
    "data_hora_convertida = pd.to_datetime(data_hora_texto, dayfirst=True)\n",
    "\n",
    "print(\"\\nData e hora convertidas:\")\n",
    "print(data_hora_convertida)\n",
    "print(f\"Tipo do objeto: {type(data_hora_convertida)}\")"
   ]
  },
  {
   "cell_type": "markdown",
   "id": "e53ce498",
   "metadata": {},
   "source": [
    "## **2.5 Extrair Componentes de uma Data**\n",
    "\n",
    "Uma vez que uma coluna está no formato `datetime`, podemos facilmente extrair seus componentes (ano, mês, dia, dia da semana, etc.) usando o acessador `.dt`. Ele funciona como um portal para dezenas de propriedades e métodos relacionados a datas."
   ]
  },
  {
   "cell_type": "code",
   "execution_count": null,
   "id": "c8910f96",
   "metadata": {},
   "outputs": [],
   "source": [
    "# Vamos usar o vetor de datas que convertemos na seção anterior\n",
    "datas_texto = [\"01/12/2019 13:51:15\", \"20/11/2018 00:00:00\", \"30/01/1990 08:00:00\"]\n",
    "datas_convertidas = pd.to_datetime(datas_texto, dayfirst=True)\n",
    "\n",
    "# Para usar o acessador .dt, precisamos que os dados estejam em uma Series do Pandas\n",
    "datas_series = pd.Series(datas_convertidas)\n",
    "\n",
    "# Extraindo os componentes:\n",
    "print(f\"Ano: {datas_series.dt.year.to_list()}\")\n",
    "print(f\"Mês: {datas_series.dt.month.to_list()}\")\n",
    "print(f\"Dia: {datas_series.dt.day.to_list()}\")\n",
    "print(f\"Hora: {datas_series.dt.hour.to_list()}\")\n",
    "print(f\"Dia da semana (nome): {datas_series.dt.day_name(locale='pt_BR').to_list()}\")\n",
    "print(f\"Trimestre: {datas_series.dt.quarter.to_list()}\")"
   ]
  },
  {
   "cell_type": "markdown",
   "id": "c561af19",
   "metadata": {},
   "source": [
    "## **2.6 Operações Matemáticas com Datas**\n",
    "\n",
    "Geralmente, estamos interessados em três tipos de operações com datas: adicionar ou subtrair um período, calcular a diferença entre duas datas e arredondar datas para o início ou fim de um período."
   ]
  },
  {
   "cell_type": "markdown",
   "id": "5399ebe5",
   "metadata": {},
   "source": [
    "### Adicionar ou Subtrair um Período de Tempo\n",
    "\n",
    "Para adicionar uma quantidade fixa de tempo (como dias, horas ou semanas), usamos o objeto `pd.Timedelta`. Para adições que dependem do calendário (como meses, que têm durações diferentes), usamos `pd.DateOffset`."
   ]
  },
  {
   "cell_type": "code",
   "execution_count": null,
   "id": "c89bbe3b",
   "metadata": {},
   "outputs": [],
   "source": [
    "import pandas as pd\n",
    "from pandas.tseries.offsets import DateOffset\n",
    "\n",
    "data_inicial = pd.to_datetime(\"2019-12-01 13:51:15\")\n",
    "\n",
    "# Adicionar 7 dias\n",
    "print(f\"Data inicial + 7 dias: {data_inicial + pd.Timedelta(days=7)}\")\n",
    "\n",
    "# Adicionar 3 meses\n",
    "print(f\"Data inicial + 3 meses: {data_inicial + DateOffset(months=3)}\")\n",
    "\n",
    "# Adicionar 1 ano\n",
    "print(f\"Data inicial + 1 ano: {data_inicial + DateOffset(years=1)}\")"
   ]
  },
  {
   "cell_type": "markdown",
   "id": "f3d83631",
   "metadata": {},
   "source": [
    "### Calcular a Diferença entre Duas Datas\n",
    "\n",
    "Subtrair duas datas em Python (ou duas colunas de datas no Pandas) é tão simples quanto subtrair números. O resultado é um objeto `Timedelta`, que armazena a diferença em dias, horas, minutos e segundos. Para obter apenas o número de dias, usamos o atributo `.days`."
   ]
  },
  {
   "cell_type": "code",
   "execution_count": null,
   "id": "f774bcf0",
   "metadata": {},
   "outputs": [],
   "source": [
    "data1 = pd.to_datetime(\"1993-09-01\")\n",
    "data2 = pd.to_datetime(\"2018-06-24\")\n",
    "\n",
    "# Calcular a diferença\n",
    "diferenca = data2 - data1\n",
    "print(f\"Objeto de diferença: {diferenca}\")\n",
    "\n",
    "# Extrair apenas o número de dias\n",
    "dias = diferenca.days\n",
    "print(f\"Diferença em dias: {dias}\")\n",
    "\n",
    "# Converter para outras unidades (aproximado)\n",
    "print(f\"Diferença em semanas: {dias / 7:.2f}\")\n",
    "print(f\"Diferença em meses: {dias / 30:.2f}\")\n",
    "print(f\"Diferença em anos: {dias / 365:.2f}\")"
   ]
  },
  {
   "cell_type": "markdown",
   "id": "aaa9b09d",
   "metadata": {},
   "source": [
    "### Arredondar Datas\n",
    "\n",
    "Podemos \"arredondar\" uma data para o início (`floor`) ou fim (`ceil`) de um período, como semana, mês ou trimestre."
   ]
  },
  {
   "cell_type": "code",
   "execution_count": null,
   "id": "c6462f1b",
   "metadata": {},
   "outputs": [],
   "source": [
    "datas_texto = [\"01/12/2019 13:51:15\", \"20/11/2018 00:00:00\"]\n",
    "datas_series = pd.to_datetime(datas_texto, dayfirst=True)\n",
    "\n",
    "# Arredondar para o início da semana (domingo)\n",
    "print(\"Início da semana:\")\n",
    "print(datas_series.dt.floor('W'))\n",
    "\n",
    "# Arredondar para o FIM do mês (um padrão comum)\n",
    "print(\"\\nFim do mês:\")\n",
    "# Ceil('MS') arredonda para o início do próximo mês, então subtraímos 1 dia\n",
    "print((datas_series.dt.ceil('MS') - pd.Timedelta(days=1)).dt.date)\n",
    "\n",
    "# Arredondar para o início da hora\n",
    "print(\"\\nInício da hora:\")\n",
    "print(datas_series.dt.floor('h'))"
   ]
  },
  {
   "cell_type": "markdown",
   "id": "659783a2",
   "metadata": {},
   "source": [
    "## **2.7 Estruturas Condicionais (If-Else)**\n",
    "\n",
    "A estrutura condicional é bastante intuitiva e usa os operadores lógicos que vimos anteriormente. A ideia é: **se (`if`)** uma condição for verdadeira, execute uma tarefa; **senão (`else`)**, execute uma tarefa diferente. Em Python, quando temos múltiplas condições, usamos o **`elif`** (uma contração de \"else if\").\n",
    "\n",
    "Essa estrutura é ideal para operar com variáveis individuais."
   ]
  },
  {
   "cell_type": "code",
   "execution_count": null,
   "id": "14551319",
   "metadata": {},
   "outputs": [],
   "source": [
    "a = 9823\n",
    "\n",
    "if a >= 10000:\n",
    "    b = 'VALOR ALTO'\n",
    "elif a < 10000 and a >= 1000: # \"elif\" é o \"else if\"\n",
    "    b = 'VALOR MÉDIO'\n",
    "else:\n",
    "    b = 'VALOR BAIXO'\n",
    "\n",
    "print(b)"
   ]
  },
  {
   "cell_type": "markdown",
   "id": "914e99f7",
   "metadata": {},
   "source": [
    "Quando queremos aplicar uma lógica condicional a um vetor inteiro ou a uma coluna de um DataFrame, usar a estrutura `if-else` com um loop seria muito lento. Para isso, usamos funções \"vetorizadas\" que operam em todos os elementos de uma vez.\n",
    "\n",
    "A ferramenta mais comum para isso é a função `np.where()` da biblioteca NumPy. Para múltiplas condições (equivalente ao `if-elif-else`), a função `np.select()` é uma ótima opção."
   ]
  },
  {
   "cell_type": "code",
   "execution_count": null,
   "id": "010b1216",
   "metadata": {},
   "outputs": [],
   "source": [
    "# Primeiro, precisamos do numpy\n",
    "import numpy as np\n",
    "\n",
    "# Exemplo com np.where (para duas condições: if/else)\n",
    "numeros = np.array([5, 12, 1, 18, 9])\n",
    "resultado_where = np.where(numeros >= 10, 'Maior ou igual a 10', 'Menor que 10')\n",
    "print(\"Resultado com np.where:\")\n",
    "print(resultado_where)\n",
    "\n",
    "\n",
    "# Exemplo com np.select (para múltiplas condições: if/elif/else)\n",
    "# Simulando o mesmo exemplo do início, mas com vários números\n",
    "valores = np.array([15000, 839, 9823, 500])\n",
    "\n",
    "condicoes = [\n",
    "    valores >= 10000,\n",
    "    (valores < 10000) & (valores >= 1000)\n",
    "]\n",
    "opcoes = [\n",
    "    'VALOR ALTO',\n",
    "    'VALOR MÉDIO'\n",
    "]\n",
    "\n",
    "# O default é o que acontece se nenhuma condição for atendida (o 'else')\n",
    "resultado_select = np.select(condicoes, opcoes, default='VALOR BAIXO')\n",
    "\n",
    "print(\"\\nResultado com np.select:\")\n",
    "print(resultado_select)"
   ]
  },
  {
   "cell_type": "markdown",
   "id": "af7e9d0a",
   "metadata": {},
   "source": [
    "## **2.8 Laços de Repetição (Loops)**\n",
    "\n",
    "Trata-se de um dos conceitos mais importantes de qualquer linguagem de programação. Loops (ou laços) repetem uma sequência de comandos quantas vezes você desejar.\n",
    "\n",
    "Supondo que você tenha que ler 400 arquivos de dados. Você vai escrever 400 vezes a função de leitura? Claro que não. Nesse caso, basta fazer um loop para percorrer todos os arquivos da pasta e ler um por um.\n",
    "\n",
    "O `for` é usado para realizar uma série de ordens para cada item em uma determinada sequência (como uma lista de números ou de nomes de arquivos). Sua sintaxe é bem simples: `for item in sequencia:`."
   ]
  },
  {
   "cell_type": "code",
   "execution_count": null,
   "id": "5b24a577",
   "metadata": {},
   "outputs": [],
   "source": [
    "# Para cada valor (que chamamos de 'i') dentro da lista [1, 2, 3, 4, 5],\n",
    "# execute o comando print(i**2).\n",
    "# Note a indentação (espaçamento) dentro do loop. Ela é obrigatória em Python.\n",
    "\n",
    "for i in [1, 2, 3, 4, 5]:\n",
    "    print(i**2)"
   ]
  },
  {
   "cell_type": "markdown",
   "id": "6125cbd4",
   "metadata": {},
   "source": [
    "Também é possível utilizar um loop junto com uma estrutura condicional `if`. No exemplo a seguir, queremos ver todos os números de 1 a 1000 que são divisíveis por 29 e por 3 ao mesmo tempo. Para isso, utilizaremos o operador `%` (módulo), que mostra o resto da divisão. Se o resto for zero, o número é divisível."
   ]
  },
  {
   "cell_type": "code",
   "execution_count": null,
   "id": "7212e122",
   "metadata": {},
   "outputs": [],
   "source": [
    "# range(1, 1001) cria uma sequência de números de 1 até 1000\n",
    "for i in range(1, 1001):\n",
    "    if (i % 29 == 0) and (i % 3 == 0):\n",
    "        print(i)"
   ]
  },
  {
   "cell_type": "markdown",
   "id": "c1bd791d",
   "metadata": {},
   "source": [
    "## **2.9 Criando suas Próprias Funções**\n",
    "\n",
    "Funções \"encapsulam\" uma sequência de comandos e instruções. É uma estrutura nomeada, que recebe parâmetros para iniciar sua execução e, opcionalmente, retorna um resultado ao final. Até o momento, já usamos diversas funções prontas (`print()`, `type()`, etc.). Agora, vamos aprender a criar as nossas.\n",
    "\n",
    "Isso é extremamente útil para evitar a repetição de código. Se você precisa executar a mesma análise para 10 ativos diferentes, não precisa escrever o código 10 vezes. Você escreve uma função uma vez e a chama 10 vezes.\n",
    "\n",
    "Em Python, criamos uma função com a palavra-chave `def`."
   ]
  },
  {
   "cell_type": "code",
   "execution_count": null,
   "id": "a923eed9",
   "metadata": {},
   "outputs": [],
   "source": [
    "# Vamos criar uma função que, dado uma série de retornos, exibe algumas estatísticas.\n",
    "# 'x' é o nome do parâmetro que a função espera receber.\n",
    "def analisar_retorno(retornos):\n",
    "    \"\"\"\n",
    "    Esta função calcula e imprime as principais estatísticas de uma série de retornos.\n",
    "    Ela remove automaticamente os valores ausentes (NA).\n",
    "    \"\"\"\n",
    "    # Garante que estamos trabalhando com uma cópia limpa, sem valores ausentes\n",
    "    dados_limpos = retornos.dropna()\n",
    "    \n",
    "    media = dados_limpos.mean()\n",
    "    desvio_padrao = dados_limpos.std()\n",
    "    mediana = dados_limpos.median()\n",
    "    \n",
    "    print(f\"Média: {media:.6f}\")\n",
    "    print(f\"Desvio Padrão: {desvio_padrao:.6f}\")\n",
    "    print(f\"Mediana: {mediana:.6f}\")"
   ]
  },
  {
   "cell_type": "markdown",
   "id": "a89e4acb",
   "metadata": {},
   "source": [
    "Agora que a função `analisar_retorno` foi definida, ela está disponível em nossa sessão. Podemos chamá-la quantas vezes quisermos, passando diferentes séries de retornos como argumento."
   ]
  },
  {
   "cell_type": "code",
   "execution_count": null,
   "id": "a8178456",
   "metadata": {},
   "outputs": [],
   "source": [
    "# Vamos aplicar a função que criamos às séries de retorno do nosso DataFrame 'df'.\n",
    "\n",
    "print(\"--- Análise PETR4 ---\")\n",
    "analisar_retorno(df['retorno_diario_petr4'])\n",
    "\n",
    "print(\"\\n--- Análise ABEV3 ---\")\n",
    "analisar_retorno(df['retorno_diario_abev3'])"
   ]
  },
  {
   "cell_type": "markdown",
   "id": "acf3212c",
   "metadata": {},
   "source": [
    "## **2.10 Listas**\n",
    "\n",
    "Nós já vimos os arrays do NumPy, que são sequências de elementos de um **mesmo tipo**. O Python também possui uma estrutura de dados nativa chamada **lista**, que é mais flexível: ela pode armazenar, literalmente, qualquer tipo de objeto em uma mesma coleção (números, textos, DataFrames, outras listas, etc.).\n",
    "\n",
    "Listas são criadas com colchetes `[]`, com os elementos separados por vírgula."
   ]
  },
  {
   "cell_type": "code",
   "execution_count": null,
   "id": "2a57cca4",
   "metadata": {},
   "outputs": [],
   "source": [
    "# Vamos criar uma lista com objetos de classes diferentes\n",
    "\n",
    "# Primeiro, preparamos os objetos que irão para a lista\n",
    "data_frame_pequeno = df.head()  # Um DataFrame do Pandas\n",
    "elemento_unico_inteiro = 1\n",
    "um_valor_nulo = None  # 'None' é o equivalente do NA em Python\n",
    "vetor_string = ['a', 'b', 'c', 'd', 'e']\n",
    "\n",
    "# Agora, criamos a lista contendo todos esses objetos\n",
    "minha_lista = [\n",
    "    data_frame_pequeno,\n",
    "    elemento_unico_inteiro,\n",
    "    um_valor_nulo,\n",
    "    vetor_string\n",
    "]\n",
    "\n",
    "# Vamos conferir o output:\n",
    "# O Jupyter/VSCode exibe cada elemento de forma organizada\n",
    "minha_lista"
   ]
  },
  {
   "cell_type": "markdown",
   "id": "8070f99f",
   "metadata": {},
   "source": [
    "Para extrair um elemento de uma lista, usamos a mesma sintaxe de indexação que já vimos, com colchetes `[]`, lembrando que a contagem sempre começa em zero."
   ]
  },
  {
   "cell_type": "code",
   "execution_count": null,
   "id": "4430715a",
   "metadata": {},
   "outputs": [],
   "source": [
    "# Acessando o primeiro elemento da lista (o DataFrame)\n",
    "primeiro_elemento = minha_lista[0]\n",
    "print(\"--- PRIMEIRO ELEMENTO (UM DATAFRAME) ---\")\n",
    "print(primeiro_elemento)\n",
    "\n",
    "\n",
    "# Acessando o quarto elemento da lista (o vetor de strings)\n",
    "quarto_elemento = minha_lista[3]\n",
    "print(\"\\n--- QUARTO ELEMENTO (UM VETOR DE STRINGS) ---\")\n",
    "print(quarto_elemento)"
   ]
  }
 ],
 "metadata": {
  "kernelspec": {
   "display_name": "Python 3",
   "language": "python",
   "name": "python3"
  },
  "language_info": {
   "codemirror_mode": {
    "name": "ipython",
    "version": 3
   },
   "file_extension": ".py",
   "mimetype": "text/x-python",
   "name": "python",
   "nbconvert_exporter": "python",
   "pygments_lexer": "ipython3",
   "version": "3.13.1"
  }
 },
 "nbformat": 4,
 "nbformat_minor": 5
}
