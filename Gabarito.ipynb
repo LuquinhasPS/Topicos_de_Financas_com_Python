{
 "cells": [
  {
   "cell_type": "markdown",
   "id": "8cf92a9f",
   "metadata": {},
   "source": [
    "# Exercicio Capitulo 4"
   ]
  },
  {
   "cell_type": "code",
   "execution_count": 2,
   "id": "a964702d",
   "metadata": {},
   "outputs": [
    {
     "name": "stderr",
     "output_type": "stream",
     "text": [
      "[*******************   40%                       ]  2 of 5 completed"
     ]
    },
    {
     "name": "stdout",
     "output_type": "stream",
     "text": [
      "Baixando dados...\n"
     ]
    },
    {
     "name": "stderr",
     "output_type": "stream",
     "text": [
      "[*********************100%***********************]  5 of 5 completed"
     ]
    },
    {
     "name": "stdout",
     "output_type": "stream",
     "text": [
      "Limpando dados faltantes...\n",
      "Calculando retornos logarítmicos...\n",
      "Calculando métricas anualizadas...\n",
      "Montando DataFrame de resultados...\n",
      "\n",
      "--- Risco vs. Retorno Anualizado (2015-2020) ---\n",
      "                     Retorno Anualizado  Volatilidade Anualizada\n",
      "Price     Ticker                                                \n",
      "Adj Close ABEV3.SA                3.63%                   28.24%\n",
      "          BOVA11.SA              15.40%                   27.64%\n",
      "          LREN3.SA               22.95%                   38.90%\n",
      "          PETR4.SA               20.37%                   54.41%\n",
      "          ^BVSP                  15.50%                   27.51%\n",
      "Close     ABEV3.SA               -0.40%                   28.22%\n",
      "          BOVA11.SA              15.40%                   27.64%\n",
      "          LREN3.SA               21.43%                   38.94%\n",
      "          PETR4.SA               19.08%                   54.39%\n",
      "          ^BVSP                  15.50%                   27.51%\n",
      "High      ABEV3.SA               -0.49%                   25.20%\n",
      "          BOVA11.SA              15.14%                   23.44%\n",
      "          LREN3.SA               21.81%                   34.87%\n",
      "          PETR4.SA               18.05%                   48.69%\n",
      "          ^BVSP                  15.10%                   21.06%\n",
      "Low       ABEV3.SA               -0.13%                   25.76%\n",
      "          BOVA11.SA              15.32%                   25.99%\n",
      "          LREN3.SA               21.89%                   39.18%\n",
      "          PETR4.SA               19.02%                   52.69%\n",
      "          ^BVSP                  15.50%                   24.50%\n",
      "Open      ABEV3.SA               -0.10%                   27.68%\n",
      "          BOVA11.SA              14.94%                   28.25%\n",
      "          LREN3.SA               21.68%                   43.42%\n",
      "          PETR4.SA               17.97%                   55.45%\n",
      "          ^BVSP                  14.99%                   27.52%\n",
      "Volume    ABEV3.SA                  NaN                      NaN\n",
      "          BOVA11.SA              21.67%                  771.50%\n",
      "          LREN3.SA                  NaN                      NaN\n",
      "          PETR4.SA                  NaN                      NaN\n",
      "          ^BVSP                     NaN                      NaN\n"
     ]
    },
    {
     "name": "stderr",
     "output_type": "stream",
     "text": [
      "\n",
      "c:\\Users\\LUCAS\\Meu Canto\\Topicos_de_Financas_com_Python\\.venv\\Lib\\site-packages\\pandas\\core\\internals\\blocks.py:395: RuntimeWarning: divide by zero encountered in log\n",
      "  result = func(self.values, **kwargs)\n",
      "c:\\Users\\LUCAS\\Meu Canto\\Topicos_de_Financas_com_Python\\.venv\\Lib\\site-packages\\numpy\\_core\\_methods.py:51: RuntimeWarning: invalid value encountered in reduce\n",
      "  return umr_sum(a, axis, dtype, out, keepdims, initial, where)\n"
     ]
    }
   ],
   "source": [
    "import yfinance as yf\n",
    "import pandas as pd\n",
    "import numpy as np\n",
    "\n",
    "# 1. Obter Dados\n",
    "tickers = ['PETR4.SA', 'LREN3.SA', 'ABEV3.SA', 'BOVA11.SA', '^BVSP']\n",
    "start_date = '2015-01-01'\n",
    "end_date = '2020-12-31'\n",
    "\n",
    "print(\"Baixando dados...\")\n",
    "# Baixamos diretamente a coluna 'Adj Close'\n",
    "precos = yf.download(tickers, start=start_date, end=end_date, auto_adjust=False)\n",
    "\n",
    "\n",
    "# 2. Limpar Dados Faltantes\n",
    "print(\"Limpando dados faltantes...\")\n",
    "# .dropna() remove as linhas que contêm qualquer valor NaN\n",
    "precos_limpos = precos.dropna()\n",
    "\n",
    "\n",
    "# 3. Calcular Retornos Logarítmicos\n",
    "print(\"Calculando retornos logarítmicos...\")\n",
    "retornos_log = np.log(precos_limpos).diff().dropna()\n",
    "\n",
    "\n",
    "# 4. Anualizar Métricas\n",
    "print(\"Calculando métricas anualizadas...\")\n",
    "# Retorno Esperado Anualizado (média dos retornos log * 252)\n",
    "retorno_anualizado = retornos_log.mean() * 252\n",
    "\n",
    "# Volatilidade Esperada Anualizada (desvio padrão dos retornos log * raiz de 252)\n",
    "vol_anualizada = retornos_log.std() * np.sqrt(252)\n",
    "\n",
    "\n",
    "# 5. Apresentar Resultados\n",
    "print(\"Montando DataFrame de resultados...\")\n",
    "# Criamos um novo DataFrame para organizar os resultados\n",
    "resultados_df = pd.DataFrame({\n",
    "    'Retorno Anualizado': retorno_anualizado,\n",
    "    'Volatilidade Anualizada': vol_anualizada\n",
    "})\n",
    "\n",
    "# Exibindo o resultado formatado como porcentagem\n",
    "print(\"\\n--- Risco vs. Retorno Anualizado (2015-2020) ---\")\n",
    "print(resultados_df.to_string(float_format=\"{:.2%}\".format))"
   ]
  }
 ],
 "metadata": {
  "kernelspec": {
   "display_name": ".venv",
   "language": "python",
   "name": "python3"
  },
  "language_info": {
   "codemirror_mode": {
    "name": "ipython",
    "version": 3
   },
   "file_extension": ".py",
   "mimetype": "text/x-python",
   "name": "python",
   "nbconvert_exporter": "python",
   "pygments_lexer": "ipython3",
   "version": "3.12.2"
  }
 },
 "nbformat": 4,
 "nbformat_minor": 5
}
