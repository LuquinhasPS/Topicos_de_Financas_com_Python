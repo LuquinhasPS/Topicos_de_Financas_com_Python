{
 "cells": [
  {
   "cell_type": "markdown",
   "id": "8cf92a9f",
   "metadata": {},
   "source": [
    "# Exercicio Capitulo 4"
   ]
  },
  {
   "cell_type": "code",
   "execution_count": 6,
   "id": "a964702d",
   "metadata": {},
   "outputs": [
    {
     "name": "stderr",
     "output_type": "stream",
     "text": [
      "[*********************100%***********************]  5 of 5 completed"
     ]
    },
    {
     "name": "stdout",
     "output_type": "stream",
     "text": [
      "Baixando dados...\n",
      "Limpando dados faltantes...\n",
      "Calculando retornos logarítmicos...\n",
      "Calculando métricas anualizadas...\n",
      "Montando DataFrame de resultados...\n",
      "\n",
      "--- Risco vs. Retorno Anualizado (2015-2020) ---\n",
      "                     Retorno Anualizado  Volatilidade Anualizada\n",
      "Price     Ticker                                                \n",
      "Adj Close ABEV3.SA                4.61%                   28.18%\n",
      "          BOVA11.SA              15.71%                   27.77%\n",
      "          LREN3.SA               23.09%                   39.09%\n",
      "          PETR4.SA               21.74%                   54.77%\n",
      "          ^BVSP                  16.10%                   27.64%\n",
      "Close     ABEV3.SA                0.49%                   28.16%\n",
      "          BOVA11.SA              15.71%                   27.77%\n",
      "          LREN3.SA               21.58%                   39.13%\n",
      "          PETR4.SA               20.42%                   54.75%\n",
      "          ^BVSP                  16.10%                   27.64%\n",
      "High      ABEV3.SA                1.82%                   24.87%\n",
      "          BOVA11.SA              16.28%                   23.62%\n",
      "          LREN3.SA               21.90%                   35.13%\n",
      "          PETR4.SA               19.54%                   49.08%\n",
      "          ^BVSP                  16.17%                   21.22%\n",
      "Low       ABEV3.SA                1.17%                   25.56%\n",
      "          BOVA11.SA              16.58%                   26.16%\n",
      "          LREN3.SA               22.00%                   39.44%\n",
      "          PETR4.SA               21.50%                   53.13%\n",
      "          ^BVSP                  16.52%                   24.64%\n",
      "Open      ABEV3.SA                2.25%                   27.16%\n",
      "          BOVA11.SA              16.20%                   28.39%\n",
      "          LREN3.SA               22.38%                   43.57%\n",
      "          PETR4.SA               19.47%                   55.88%\n",
      "          ^BVSP                  15.92%                   27.61%\n",
      "Volume    ABEV3.SA               24.29%                 1078.91%\n",
      "          BOVA11.SA              12.41%                  764.88%\n",
      "          LREN3.SA               20.92%                 1106.28%\n",
      "          PETR4.SA              -20.30%                  820.53%\n",
      "          ^BVSP                  14.08%                  429.89%\n"
     ]
    },
    {
     "name": "stderr",
     "output_type": "stream",
     "text": [
      "\n"
     ]
    }
   ],
   "source": [
    "import yfinance as yf\n",
    "import pandas as pd\n",
    "import numpy as np\n",
    "\n",
    "# 1. Obter Dados\n",
    "tickers = ['PETR4.SA', 'LREN3.SA', 'ABEV3.SA', 'BOVA11.SA', '^BVSP']\n",
    "start_date = '2015-01-01'\n",
    "end_date = '2020-12-31'\n",
    "\n",
    "print(\"Baixando dados...\")\n",
    "precos = yf.download(tickers, start=start_date, end=end_date, auto_adjust=False)\n",
    "\n",
    "\n",
    "# 2. Limpar Dados Faltantes\n",
    "print(\"Limpando dados faltantes...\")\n",
    "# .dropna() remove as linhas que contêm qualquer valor NaN\n",
    "precos_limpos = precos.dropna()\n",
    "# Isso remove quaisquer preços iguais a zero ou negativos, que causam o 'RuntimeWarning'\n",
    "precos_positivos = precos_limpos[precos_limpos > 0]\n",
    "\n",
    "\n",
    "# 3. Calcular Retornos Logarítmicos\n",
    "print(\"Calculando retornos logarítmicos...\")\n",
    "retornos_log = np.log(precos_positivos).diff().dropna()\n",
    "\n",
    "\n",
    "# 4. Anualizar Métricas\n",
    "print(\"Calculando métricas anualizadas...\")\n",
    "# Retorno Esperado Anualizado (média dos retornos log * 252)\n",
    "retorno_anualizado = retornos_log.mean() * 252\n",
    "# Volatilidade Esperada Anualizada (desvio padrão dos retornos log * raiz de 252)\n",
    "vol_anualizada = retornos_log.std() * np.sqrt(252)\n",
    "\n",
    "\n",
    "# 5. Apresentar Resultados\n",
    "print(\"Montando DataFrame de resultados...\")\n",
    "# Criamos um novo DataFrame para organizar os resultados\n",
    "resultados_df = pd.DataFrame({\n",
    "    'Retorno Anualizado': retorno_anualizado,\n",
    "    'Volatilidade Anualizada': vol_anualizada\n",
    "})\n",
    "\n",
    "# Exibindo o resultado formatado como porcentagem\n",
    "print(\"\\n--- Risco vs. Retorno Anualizado (2015-2020) ---\")\n",
    "print(resultados_df.to_string(float_format=\"{:.2%}\".format))"
   ]
  }
 ],
 "metadata": {
  "kernelspec": {
   "display_name": "Python 3",
   "language": "python",
   "name": "python3"
  },
  "language_info": {
   "codemirror_mode": {
    "name": "ipython",
    "version": 3
   },
   "file_extension": ".py",
   "mimetype": "text/x-python",
   "name": "python",
   "nbconvert_exporter": "python",
   "pygments_lexer": "ipython3",
   "version": "3.13.1"
  }
 },
 "nbformat": 4,
 "nbformat_minor": 5
}
