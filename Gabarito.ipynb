{
 "cells": [
  {
   "cell_type": "markdown",
   "id": "50407e20",
   "metadata": {},
   "source": [
    "# Exercício 1.13 - Estatísticas de Retornos Diários\n",
    "\n",
    "Vamos calcular o resumo estatístico e o desvio padrão de uma lista de retornos diários usando Pandas e NumPy."
   ]
  },
  {
   "cell_type": "code",
   "execution_count": null,
   "id": "45d08621",
   "metadata": {},
   "outputs": [],
   "source": [
    "import numpy as np\n",
    "import pandas as pd\n",
    "\n",
    "# Exemplo de lista de retornos diários\n",
    "retornos = np.array([0.0102, 0.00186, -0.00635, 0.0193,\n",
    "                     0.00203, -0.01846, 0.00434,\n",
    "                     -0.01256, -0.00944, -0.00087])\n",
    "\n",
    "# 1. Crie uma Pandas Series a partir do array 'retornos'\n",
    "serie_retornos = pd.Series(retornos)\n",
    "\n",
    "# 2. Resumo estatístico completo\n",
    "print('Resumo estatístico:')\n",
    "print(serie_retornos.describe())\n",
    "\n",
    "# 3. Desvio padrão amostral separado\n",
    "print('\\nDesvio padrão amostral:')\n",
    "print(serie_retornos.std())"
   ]
  },
  {
   "cell_type": "markdown",
   "id": "0405df15",
   "metadata": {},
   "source": [
    "# 2.13 Calcular o IBOVESPA\n",
    "\n",
    "A seguir, um exemplo de como calcular o retorno diário e o índice de riqueza do IBOVESPA de forma simplificada, usando uma carteira fictícia de ativos e pesos."
   ]
  },
  {
   "cell_type": "code",
   "execution_count": null,
   "id": "203a282c",
   "metadata": {},
   "outputs": [],
   "source": [
    "import yfinance as yf\n",
    "import pandas as pd\n",
    "import numpy as np\n",
    "\n",
    "# Exemplo simplificado: 5 ativos fictícios e pesos aproximados\n",
    "ativos = ['PETR4.SA', 'VALE3.SA', 'ITUB4.SA', 'BBDC4.SA', 'ABEV3.SA']\n",
    "pesos = [0.15, 0.25, 0.20, 0.20, 0.20]  # Somando 1.0 (100%)\n",
    "\n",
    "# Baixar preços de fechamento ajustado\n",
    "dados = yf.download(ativos, start='2022-01-01', end='2022-12-31', auto_adjust=True)['Close']\n",
    "\n",
    "# Remover datas com dados faltantes\n",
    "dados = dados.dropna()\n",
    "\n",
    "# Calcular retornos diários de cada ativo\n",
    "retornos = np.log(dados / dados.shift(1)).dropna()\n",
    "\n",
    "# Calcular retorno ponderado do \"IBOVESPA\" fictício\n",
    "retorno_ibov = (retornos * pesos).sum(axis=1)\n",
    "\n",
    "# Calcular índice de riqueza (evolução de R$1 investido)\n",
    "indice_ibov = (1 + retorno_ibov).cumprod()\n",
    "\n",
    "# Exibir os resultados\n",
    "print('Retorno diário do IBOVESPA (fictício):')\n",
    "print(retorno_ibov.head())\n",
    "print('\\nÍndice de riqueza do IBOVESPA (fictício):')\n",
    "print(indice_ibov.head())"
   ]
  },
  {
   "cell_type": "markdown",
   "id": "8cf92a9f",
   "metadata": {},
   "source": [
    "# Exercicio Capitulo 4"
   ]
  },
  {
   "cell_type": "code",
   "execution_count": null,
   "id": "a964702d",
   "metadata": {},
   "outputs": [],
   "source": [
    "import yfinance as yf\n",
    "import pandas as pd\n",
    "import numpy as np\n",
    "\n",
    "# 1. Obter Dados\n",
    "tickers = ['PETR4.SA', 'LREN3.SA', 'ABEV3.SA', 'BOVA11.SA', '^BVSP']\n",
    "start_date = '2015-01-01'\n",
    "end_date = '2020-12-31'\n",
    "\n",
    "print(\"Baixando dados...\")\n",
    "precos = yf.download(tickers, start=start_date, end=end_date, auto_adjust=True)\n",
    "\n",
    "\n",
    "# 2. Limpar Dados Faltantes\n",
    "print(\"Limpando dados faltantes...\")\n",
    "# .dropna() remove as linhas que contêm qualquer valor NaN\n",
    "precos_limpos = precos.dropna()\n",
    "# Isso remove quaisquer preços iguais a zero ou negativos, que causam o 'RuntimeWarning'\n",
    "precos_positivos = precos_limpos[precos_limpos > 0]\n",
    "\n",
    "\n",
    "# 3. Calcular Retornos Logarítmicos\n",
    "print(\"Calculando retornos logarítmicos...\")\n",
    "retornos_log = np.log(precos_positivos).diff().dropna()\n",
    "\n",
    "\n",
    "# 4. Anualizar Métricas\n",
    "print(\"Calculando métricas anualizadas...\")\n",
    "# Retorno Esperado Anualizado (média dos retornos log * 252)\n",
    "retorno_anualizado = retornos_log.mean() * 252\n",
    "# Volatilidade Esperada Anualizada (desvio padrão dos retornos log * raiz de 252)\n",
    "vol_anualizada = retornos_log.std() * np.sqrt(252)\n",
    "\n",
    "\n",
    "# 5. Apresentar Resultados\n",
    "print(\"Montando DataFrame de resultados...\")\n",
    "# Criamos um novo DataFrame para organizar os resultados\n",
    "resultados_df = pd.DataFrame({\n",
    "    'Retorno Anualizado': retorno_anualizado,\n",
    "    'Volatilidade Anualizada': vol_anualizada\n",
    "})\n",
    "\n",
    "# Exibindo o resultado formatado como porcentagem\n",
    "print(\"\\n--- Risco vs. Retorno Anualizado (2015-2020) ---\")\n",
    "print(resultados_df.to_string(float_format=\"{:.2%}\".format))"
   ]
  }
 ],
 "metadata": {
  "kernelspec": {
   "display_name": ".venv",
   "language": "python",
   "name": "python3"
  },
  "language_info": {
   "codemirror_mode": {
    "name": "ipython",
    "version": 3
   },
   "file_extension": ".py",
   "mimetype": "text/x-python",
   "name": "python",
   "nbconvert_exporter": "python",
   "pygments_lexer": "ipython3",
   "version": "3.12.2"
  }
 },
 "nbformat": 4,
 "nbformat_minor": 5
}
