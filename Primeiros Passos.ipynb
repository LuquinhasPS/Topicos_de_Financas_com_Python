{
 "cells": [
  {
   "cell_type": "markdown",
   "id": "8b74d4c4",
   "metadata": {},
   "source": [
    "# **Capítulo 1: Primeiros passos com Python**\n",
    "\n",
    "Este módulo introdutório é o seu ponto de partida no mundo da análise de dados e finanças com Python."
   ]
  },
  {
   "cell_type": "markdown",
   "id": "f3ba08f6",
   "metadata": {},
   "source": [
    "## **1.1 O que é Python e por que devo aprendê-lo?**\n",
    "\n",
    "Python é uma linguagem de programação versátil e poderosa, conhecida por sua sintaxe simples e legível. Para profissionais com interesse em programação e análise de dados, especialmente no mercado financeiro, Python se tornou uma ferramenta indispensável. Isso se deve ao seu vasto ecossistema de bibliotecas, que são conjuntos de ferramentas prontas para resolver problemas complexos.\n",
    "\n",
    "Alguns motivos para aprender Python:\n",
    "\n",
    "* **É gratuito e de código aberto**;\n",
    "\n",
    "* **Possui uma curva de aprendizado amigável**, sendo considerada uma das linguagens mais fáceis para iniciantes;\n",
    "\n",
    "* **Tem uma comunidade enorme e ativa**, o que significa uma quantidade imensa de tutoriais e ajuda disponíveis gratuitamente na internet;\n",
    "\n",
    "* **É excelente para automatizar rotinas** e sistematizar tarefas repetitivas;\n",
    "\n",
    "* **É amplamente utilizado no mercado financeiro** e na comunidade acadêmica;\n",
    "\n",
    "* **Oferece uma quantidade enorme de pacotes (bibliotecas)** para as mais diversas necessidades, desde análise de dados até inteligência artificial;\n",
    "\n",
    "* **É uma ótima ferramenta para criar relatórios e gráficos profissionais**."
   ]
  },
  {
   "cell_type": "markdown",
   "id": "31d7da34",
   "metadata": {},
   "source": [
    "## **1.2 Introdução ao Ambiente Python (Jupyter Notebook)**\n",
    "\n",
    "Embora seja possível escrever código Python em um simples editor de texto, o trabalho de análise de dados se torna muito mais produtivo com uma ferramenta adequada.  A ferramenta mais popular para isso é o **Jupyter Notebook**.\n",
    "\n",
    "O Jupyter é uma interface gráfica que facilita muito o dia a dia de trabalho.  Ele permite criar \"cadernos\" interativos onde você pode:\n",
    "\n",
    "1. **Escrever e executar código** em blocos, chamados de \"células\".\n",
    "\n",
    "2. **Visualizar os resultados** (tabelas, gráficos, etc.) imediatamente abaixo da célula de código.\n",
    "\n",
    "3. **Escrever texto formatado**, como este que você está lendo, para documentar sua análise.\n",
    "\n",
    "4. **Testar e experimentar ideias** de forma rápida e organizada. "
   ]
  },
  {
   "cell_type": "markdown",
   "id": "1765f444",
   "metadata": {},
   "source": [
    "## **1.3 Operações Aritméticas**\n",
    "Python pode ser usado como uma calculadora para realizar operações matemáticas simples. "
   ]
  },
  {
   "cell_type": "code",
   "execution_count": null,
   "id": "8e906080",
   "metadata": {},
   "outputs": [],
   "source": [
    "# Adição\n",
    "4 + 5\n",
    "# Resultado: 9\n",
    "\n",
    "# Subtração\n",
    "2 - 3\n",
    "# Resultado: -1\n",
    "\n",
    "# Multiplicação\n",
    "4 * 8\n",
    "# Resultado: 32\n",
    "\n",
    "# Divisão\n",
    "1 / 3\n",
    "# Resultado: 0.3333333\n",
    "\n",
    "# Exponenciação\n",
    "2 ** 5\n",
    "# Resultado: 32\n",
    "\n",
    "# Módulo (resto da divisão)\n",
    "4 % 3\n",
    "# Resultado: 1\n",
    "\n",
    "# Divisão inteira\n",
    "9 // 2\n",
    "# Resultado: 4"
   ]
  }
 ],
 "metadata": {
  "kernelspec": {
   "display_name": "Python 3",
   "language": "python",
   "name": "python3"
  },
  "language_info": {
   "codemirror_mode": {
    "name": "ipython",
    "version": 3
   },
   "file_extension": ".py",
   "mimetype": "text/x-python",
   "name": "python",
   "nbconvert_exporter": "python",
   "pygments_lexer": "ipython3",
   "version": "3.13.1"
  }
 },
 "nbformat": 4,
 "nbformat_minor": 5
}
