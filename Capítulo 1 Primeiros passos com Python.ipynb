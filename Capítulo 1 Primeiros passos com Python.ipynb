{
 "cells": [
  {
   "cell_type": "markdown",
   "id": "8b74d4c4",
   "metadata": {},
   "source": [
    "# **Capítulo 1: Primeiros passos com Python**\n",
    "\n",
    "Este módulo introdutório é o seu ponto de partida no mundo da análise de dados e finanças com Python."
   ]
  },
  {
   "cell_type": "markdown",
   "id": "f3ba08f6",
   "metadata": {},
   "source": [
    "## **1.1 O que é Python e por que devo aprendê-lo?**\n",
    "\n",
    "Python é uma linguagem de programação versátil e poderosa, conhecida por sua sintaxe simples e legível. Para profissionais com interesse em programação e análise de dados, especialmente no mercado financeiro, Python se tornou uma ferramenta indispensável. Isso se deve ao seu vasto ecossistema de bibliotecas, que são conjuntos de ferramentas prontas para resolver problemas complexos.\n",
    "\n",
    "Alguns motivos para aprender Python:\n",
    "\n",
    "* **É gratuito e de código aberto**;\n",
    "\n",
    "* **Possui uma curva de aprendizado amigável**, sendo considerada uma das linguagens mais fáceis para iniciantes;\n",
    "\n",
    "* **Tem uma comunidade enorme e ativa**, o que significa uma quantidade imensa de tutoriais e ajuda disponíveis gratuitamente na internet;\n",
    "\n",
    "* **É excelente para automatizar rotinas** e sistematizar tarefas repetitivas;\n",
    "\n",
    "* **É amplamente utilizado no mercado financeiro** e na comunidade acadêmica;\n",
    "\n",
    "* **Oferece uma quantidade enorme de pacotes (bibliotecas)** para as mais diversas necessidades, desde análise de dados até inteligência artificial;\n",
    "\n",
    "* **É uma ótima ferramenta para criar relatórios e gráficos profissionais**."
   ]
  },
  {
   "cell_type": "markdown",
   "id": "31d7da34",
   "metadata": {},
   "source": [
    "## **1.2 Introdução ao Ambiente Python (Jupyter Notebook)**\n",
    "Embora seja possível escrever código Python em um simples editor de texto, o trabalho de análise de dados se torna muito mais produtivo com uma ferramenta adequada.  A ferramenta mais popular para isso é o **Jupyter Notebook**.\n",
    "\n",
    "O Jupyter é uma interface gráfica que facilita muito o dia a dia de trabalho.  Ele permite criar \"cadernos\" interativos onde você pode:\n",
    "\n",
    "1. **Escrever e executar código** em blocos, chamados de \"células\".\n",
    "\n",
    "2. **Visualizar os resultados** (tabelas, gráficos, etc.) imediatamente abaixo da célula de código.\n",
    "\n",
    "3. **Escrever texto formatado**, como este que você está lendo, para documentar sua análise.\n",
    "\n",
    "4. **Testar e experimentar ideias** de forma rápida e organizada. "
   ]
  },
  {
   "cell_type": "markdown",
   "id": "1765f444",
   "metadata": {},
   "source": [
    "## **1.3 Operações Aritméticas**\n",
    "Python pode ser usado como uma calculadora para realizar operações matemáticas simples. "
   ]
  },
  {
   "cell_type": "code",
   "execution_count": null,
   "id": "8e906080",
   "metadata": {},
   "outputs": [],
   "source": [
    "# Adição\n",
    "print(4 + 5)\n",
    "# Resultado: 9\n",
    "\n",
    "# Subtração\n",
    "print(2 - 3)\n",
    "# Resultado: -1\n",
    "\n",
    "# Multiplicação\n",
    "print(4 * 8)\n",
    "# Resultado: 32\n",
    "\n",
    "# Divisão\n",
    "print(1 / 3)\n",
    "# Resultado: 0.3333333333333333\n",
    "\n",
    "# Exponenciação\n",
    "print(2 ** 5)\n",
    "# Resultado: 32\n",
    "\n",
    "# Módulo (resto da divisão)\n",
    "print(4 % 3)\n",
    "# Resultado: 1\n",
    "\n",
    "# Divisão inteira\n",
    "print(9 // 2)\n",
    "# Resultado: 4"
   ]
  },
  {
   "cell_type": "markdown",
   "id": "1143cb40",
   "metadata": {},
   "source": [
    "## **1.4 Criação de Variáveis e Objetos**\n",
    "Para que nosso trabalho seja útil, precisamos armazenar valores em variáveis. Uma variável é um nome que damos a um espaço na memória do computador onde um valor é guardado.  Em Python, a criação de variáveis é feita com o sinal de igual (`=`).\n",
    "\n"
   ]
  },
  {
   "cell_type": "code",
   "execution_count": null,
   "id": "3a6bbeff",
   "metadata": {},
   "outputs": [],
   "source": [
    "# Atribuindo o valor 15 à variável x\n",
    "x = 15\n",
    "\n",
    "# Agora, podemos usar 'x' em outras operações\n",
    "print(x + 5)\n",
    "# Resultado: 20\n",
    "\n",
    "print(x * x / 2)\n",
    "# Resultado: 112.5\n",
    "\n",
    "# Podemos criar uma nova variável a partir de outra\n",
    "y = x / 3\n",
    "print(y)\n",
    "# Resultado: 5.0"
   ]
  },
  {
   "cell_type": "markdown",
   "id": "fe5463e2",
   "metadata": {},
   "source": [
    "## **1.5 Estruturas de Dados (Tipos Básicos)**\n",
    "Os objetos que criamos podem ter diferentes tipos, como números, textos ou valores lógicos (verdadeiro/falso). Usamos a função `type()` para verificar o tipo de uma variável"
   ]
  },
  {
   "cell_type": "code",
   "execution_count": null,
   "id": "bb9ae920",
   "metadata": {},
   "outputs": [],
   "source": [
    "inteiro = 928\n",
    "decimal = 182.93\n",
    "caracter = 'exportação'\n",
    "logico = True  # Em Python, os valores lógicos são True e False (com letra maiúscula)\n",
    "\n",
    "print(type(inteiro))\n",
    "# Resultado: <class 'int'> (inteiro)\n",
    "\n",
    "print(type(decimal))\n",
    "# Resultado: <class 'float'> (ponto flutuante/decimal)\n",
    "\n",
    "print(type(caracter))\n",
    "# Resultado: <class 'str'> (string/texto)\n",
    "\n",
    "print(type(logico))\n",
    "# Resultado: <class 'bool'> (booleano/lógico)"
   ]
  },
  {
   "cell_type": "markdown",
   "id": "bde3cc90",
   "metadata": {},
   "source": [
    "## **1.6 Operadores de Comparação**\n",
    "Operadores de comparação são usados para comparar valores, e o resultado é sempre um valor lógico: `True` ou `False`. \n",
    "\n",
    "* `==` : igual a \n",
    "* `!=` : diferente \n",
    "* `or`: ou \n",
    "* `and`: e \n",
    "* `>`, `>=`, `<`, `<=` : maior, maior ou igual, menor, menor ou igual \n",
    "\n",
    "Veja alguns exemplos:"
   ]
  },
  {
   "cell_type": "code",
   "execution_count": null,
   "id": "f486cb61",
   "metadata": {},
   "outputs": [],
   "source": [
    "print(1 > 2)\n",
    "# Resultado: False\n",
    "\n",
    "print(\"b\" > \"a\")  # Python compara strings em ordem alfabética\n",
    "# Resultado: True\n",
    "\n",
    "print(1 != 2)\n",
    "# Resultado: True\n",
    "\n",
    "# Combinando testes lógicos\n",
    "print((4 > 5) or (1 < 2))  # False ou True\n",
    "# Resultado: True\n",
    "\n",
    "print((4 > 5) and (1 < 2)) # False e True\n",
    "# Resultado: False"
   ]
  },
  {
   "cell_type": "markdown",
   "id": "bde1a8d3",
   "metadata": {},
   "source": [
    "## **1.7 Conversões de Tipos de Variáveis**\n",
    "Às vezes, precisamos converter uma variável de um tipo para outro. Para isso, Python oferece funções de conversão simples."
   ]
  },
  {
   "cell_type": "code",
   "execution_count": null,
   "id": "efb9db35",
   "metadata": {},
   "outputs": [
    {
     "name": "stdout",
     "output_type": "stream",
     "text": [
      "2015.0\n",
      "<class 'float'>\n",
      "55\n",
      "<class 'str'>\n",
      "3\n",
      "1\n",
      "0\n",
      "<class 'int'>\n",
      "<class 'str'>\n"
     ]
    }
   ],
   "source": [
    "# Convertendo texto para número\n",
    "numero = float(\"2015\")\n",
    "print(numero)\n",
    "print(type(numero))\n",
    "# Resultado: 2015.0, <class 'float'>\n",
    "\n",
    "# Convertendo número para texto\n",
    "texto = str(55)\n",
    "print(texto)\n",
    "print(type(texto))\n",
    "# Resultado: '55', <class 'str'>\n",
    "\n",
    "# Convertendo número para inteiro (remove a parte decimal)\n",
    "inteiro = int(3.14)\n",
    "print(inteiro)\n",
    "# Resultado: 3\n",
    "\n",
    "# Convertendo valores lógicos para números\n",
    "print(int(True))\n",
    "# Resultado: 1\n",
    "print(int(False))\n",
    "# Resultado: 0\n",
    "\n",
    "# Convertendo o tipo de uma variável\n",
    "x = 10\n",
    "print(type(x))\n",
    "x = str(x)\n",
    "print(type(x))"
   ]
  },
  {
   "cell_type": "markdown",
   "id": "f3fa8805",
   "metadata": {},
   "source": [
    "## **1.8 Vetores com NumPy**\n",
    "Vetores são sequências de valores de um mesmo tipo, como uma coluna de uma planilha.  Em Python, a ferramenta padrão para trabalhar com vetores numéricos é a biblioteca **NumPy**. Primeiro, precisamos importá-la."
   ]
  },
  {
   "cell_type": "code",
   "execution_count": null,
   "id": "bf5a88a7",
   "metadata": {},
   "outputs": [],
   "source": [
    "import numpy as np"
   ]
  },
  {
   "cell_type": "markdown",
   "id": "5c8a891d",
   "metadata": {},
   "source": [
    "Para criar um vetor (chamado de `array` em NumPy), usamos a função `np.array()`."
   ]
  },
  {
   "cell_type": "code",
   "execution_count": null,
   "id": "fdc7f418",
   "metadata": {},
   "outputs": [],
   "source": [
    "vetor_num = np.array([1, 2, 5, 8, 1001])\n",
    "vetor_chr = np.array(['tipo1', 'tipo2', 'tipo3', 'tipo4'])\n",
    "vetor_logico = np.array([True, True, False, False])\n",
    "\n",
    "print(vetor_num)"
   ]
  },
  {
   "cell_type": "markdown",
   "id": "93a2ba45",
   "metadata": {},
   "source": [
    "Para acessar elementos de um vetor, usamos colchetes `[]`. **Atenção**: a contagem em Python começa do zero. O primeiro elemento está na posição `[0]`, o segundo em `[1]`, e assim por diante."
   ]
  },
  {
   "cell_type": "code",
   "execution_count": null,
   "id": "42d8e685",
   "metadata": {},
   "outputs": [],
   "source": [
    "vetor = np.array([0, 15, 30, 45, 60, 75, 90])\n",
    "\n",
    "# Mostra o primeiro elemento\n",
    "print(vetor[0])\n",
    "# Resultado: 0\n",
    "\n",
    "# Mostra o segundo elemento\n",
    "print(vetor[1])\n",
    "# Resultado: 15\n",
    "\n",
    "# Selecionando mais de um elemento (o segundo e o sétimo)\n",
    "print(vetor[[1, 6]])\n",
    "# Resultado: [15 90]\n",
    "\n",
    "# Selecionando com base em uma condição lógica\n",
    "print(vetor[vetor < 20])\n",
    "# Resultado: [ 0 15]"
   ]
  },
  {
   "cell_type": "markdown",
   "id": "f31da9a3",
   "metadata": {},
   "source": [
    "## **1.9 Matrizes com NumPy**\n",
    "Matrizes são estruturas com duas dimensões: linhas e colunas.  Elas também são criadas como `arrays` em NumPy."
   ]
  },
  {
   "cell_type": "code",
   "execution_count": null,
   "id": "1a99b8ad",
   "metadata": {},
   "outputs": [],
   "source": [
    "# Criando uma matriz a partir de 3 vetores\n",
    "v1 = np.array([1, 2, 3])\n",
    "v2 = np.array([4, 5, 6])\n",
    "v3 = np.array([7, 8, 9])\n",
    "\n",
    "# A função np.c_ combina os vetores como colunas\n",
    "matriz = np.c_[v1, v2, v3]\n",
    "print(matriz)\n",
    "# Resultado:\n",
    "# [[1 4 7]\n",
    "#  [2 5 8]\n",
    "#  [3 6 9]]"
   ]
  },
  {
   "cell_type": "markdown",
   "id": "82fe81b0",
   "metadata": {},
   "source": [
    "Para acessar elementos da matriz, usamos `[linha, coluna]`, lembrando que a contagem começa do zero. "
   ]
  },
  {
   "cell_type": "code",
   "execution_count": null,
   "id": "66c245a4",
   "metadata": {},
   "outputs": [],
   "source": [
    "# Acessando a primeira linha inteira\n",
    "print(matriz[0, :])\n",
    "# Resultado: [1 4 7]\n",
    "\n",
    "# Acessando a segunda coluna inteira\n",
    "print(matriz[:, 1])\n",
    "# Resultado: [4 5 6]\n",
    "\n",
    "# Acessando o elemento na primeira linha e terceira coluna\n",
    "print(matriz[0, 2])\n",
    "# Resultado: 7"
   ]
  },
  {
   "cell_type": "markdown",
   "id": "8b5a0cee",
   "metadata": {},
   "source": [
    "## **1.10 DataFrames com Pandas**\n",
    "O **DataFrame** é o tipo de objeto mais importante para análise de dados em Python. Ele representa uma tabela de dados estruturada em linhas e colunas, onde cada coluna pode ter um tipo de dado diferente. A biblioteca para trabalhar com DataFrames é a **Pandas**."
   ]
  },
  {
   "cell_type": "code",
   "execution_count": null,
   "id": "1582b897",
   "metadata": {},
   "outputs": [],
   "source": [
    "import pandas as pd\n",
    "\n",
    "# Criando vetores (listas) para cada coluna\n",
    "nome = ['João', 'José', 'Maria', 'Joana']\n",
    "idade = [45, 12, 28, 31]\n",
    "adulto = [True, False, True, True]\n",
    "uf = ['DF', 'SP', 'RJ', 'MG']\n",
    "\n",
    "# Criando o DataFrame a partir de um dicionário\n",
    "clientes = pd.DataFrame({\n",
    "    'nome': nome,\n",
    "    'idade': idade,\n",
    "    'adulto': adulto,\n",
    "    'uf': uf\n",
    "})\n",
    "\n",
    "print(clientes)"
   ]
  },
  {
   "cell_type": "markdown",
   "id": "79a82078",
   "metadata": {},
   "source": [
    "Para ver a estrutura do DataFrame (similar à função `str()` do R), usamos o método `.info()`."
   ]
  },
  {
   "cell_type": "code",
   "execution_count": null,
   "id": "1e532309",
   "metadata": {},
   "outputs": [],
   "source": [
    "clientes.info()"
   ]
  },
  {
   "cell_type": "markdown",
   "id": "e2e04362",
   "metadata": {},
   "source": [
    "## **1.11 Funções**\n",
    "Uma função é uma sequência de comandos que pode ser reutilizada para executar uma tarefa específica. Python já vem com diversas funções prontas, e podemos adicionar muitas outras através de bibliotecas. Uma função tem um **nome** e recebe **parâmetros** (ou argumentos) entre parênteses."
   ]
  },
  {
   "cell_type": "code",
   "execution_count": null,
   "id": "af365b5a",
   "metadata": {},
   "outputs": [],
   "source": [
    "# Função para calcular raiz quadrada (da biblioteca NumPy)\n",
    "raiz_quadrada = np.sqrt(16)\n",
    "print(raiz_quadrada)\n",
    "# Resultado: 4.0\n",
    "\n",
    "# Função para arredondar um número para 2 casas decimais\n",
    "arredondado = round(5.3499999, 2)\n",
    "print(arredondado)\n",
    "# Resultado: 5.35"
   ]
  },
  {
   "cell_type": "markdown",
   "id": "410a73fc",
   "metadata": {},
   "source": [
    "Para obter ajuda sobre uma função no Jupyter Notebook, digite `?` antes ou depois do nome da função (ex: `?round` ou `round?`) e execute a célula. \n",
    "\n",
    "Algumas funções estatísticas básicas são aplicadas como \"métodos\" diretamente nos objetos Pandas ou NumPy."
   ]
  },
  {
   "cell_type": "code",
   "execution_count": null,
   "id": "27406276",
   "metadata": {},
   "outputs": [],
   "source": [
    "dados_numericos = pd.Series([10, 20, 30, 40, 50])\n",
    "\n",
    "print(\"Soma:\", dados_numericos.sum())\n",
    "print(\"Média:\", dados_numericos.mean())\n",
    "print(\"Variância:\", dados_numericos.var())\n",
    "print(\"Mediana:\", dados_numericos.median())\n",
    "print(\"Resumo Estatístico:\\n\", dados_numericos.describe())"
   ]
  },
  {
   "cell_type": "markdown",
   "id": "8dc82604",
   "metadata": {},
   "source": [
    "## **1.12 Pacotes (Bibliotecas)**\n",
    "Bibliotecas são conjuntos de funções que expandem as capacidades do Python.  Para usá-las, seguimos dois passos:\n",
    "\n",
    "1. **Instalação**: Feita apenas uma vez, através de um terminal de comando, usando o gerenciador de pacotes pip. Por exemplo:"
   ]
  },
  {
   "cell_type": "code",
   "execution_count": null,
   "id": "a577588b",
   "metadata": {},
   "outputs": [],
   "source": [
    "pip install pandas\n",
    "pip install numpy"
   ]
  },
  {
   "cell_type": "markdown",
   "id": "99ea6cf7",
   "metadata": {},
   "source": [
    "2. **Importação**: Feita no início de cada script ou notebook, para carregar a biblioteca na memória e poder usar suas funções. "
   ]
  },
  {
   "cell_type": "code",
   "execution_count": null,
   "id": "08fd2a39",
   "metadata": {},
   "outputs": [],
   "source": [
    "import pandas as pd\n",
    "import numpy as np"
   ]
  },
  {
   "cell_type": "markdown",
   "id": "3d918b53",
   "metadata": {},
   "source": [
    "## **1.13 Exercícios**\n",
    "Vamos aplicar o que aprendemos. Você recebeu uma lista com os retornos diários de um ativo financeiro.\n",
    "\n",
    "Sua tarefa é usar as ferramentas das bibliotecas **NumPy** e **Pandas** para calcular as seguintes estatísticas:\n",
    "\n",
    "1.  Um **resumo estatístico completo** (contagem, média, desvio padrão, mínimo, máximo e os quartis).\n",
    "2.  O valor do **desvio padrão** (amostral) calculado separadamente.\n",
    "\n",
    "**Dica:** Lembre-se que as `Series` do Pandas (que podem ser criadas a partir de um array NumPy) possuem o método `.describe()` que é perfeito para o resumo. Para o desvio padrão, use o método `.std()`."
   ]
  },
  {
   "cell_type": "code",
   "execution_count": null,
   "id": "9322a4ac",
   "metadata": {},
   "outputs": [],
   "source": [
    "#import\n",
    "\n",
    "\n",
    "# Dados do exercício\n",
    "retornos = np.array([0.0102, 0.00186, -0.00635, 0.0193,\n",
    "                     0.00203, -0.01846, 0.00434,\n",
    "                     -0.01256, -0.00944, -0.00087])\n",
    "\n",
    "# 1. Crie uma Pandas Series a partir do array 'retornos'\n",
    "\n",
    "\n",
    "# 2. Calcule e imprima o resumo estatístico\n",
    "\n",
    "\n",
    "# 3. Calcule e imprima o desvio padrão"
   ]
  }
 ],
 "metadata": {
  "kernelspec": {
   "display_name": "Python 3",
   "language": "python",
   "name": "python3"
  },
  "language_info": {
   "codemirror_mode": {
    "name": "ipython",
    "version": 3
   },
   "file_extension": ".py",
   "mimetype": "text/x-python",
   "name": "python",
   "nbconvert_exporter": "python",
   "pygments_lexer": "ipython3",
   "version": "3.13.1"
  }
 },
 "nbformat": 4,
 "nbformat_minor": 5
}
